{
 "cells": [
  {
   "cell_type": "markdown",
   "id": "e76942b5",
   "metadata": {},
   "source": [
    "# G2M insight for Cab Investment"
   ]
  },
  {
   "cell_type": "markdown",
   "id": "c0058b0e",
   "metadata": {},
   "source": [
    "## 1. Business problem\n",
    "The main purpose of the project is to determine the investment opportunity in cab business. Go-to-market (G2M) strategies predict the potential challenges by identifying the target market, clarifying the value proposition, defining the pricing strategy etc."
   ]
  },
  {
   "cell_type": "markdown",
   "id": "dfd32e87",
   "metadata": {},
   "source": [
    "## 2. Area of investigation\n",
    "1. How was the profit change against time?\n",
    "1. How was the demand of the cab business?\n",
    "1. How was the profits in different cities?\n",
    "1. How was the customer loyalty rates?\n",
    "1. How was the demand varies according to age, income, gender and cities?\n",
    "1. Which payment method was more popular among age, income, gender and cities?"
   ]
  },
  {
   "cell_type": "markdown",
   "id": "7dc1a801",
   "metadata": {},
   "source": [
    "## 3. Data Understanding and Preparation "
   ]
  },
  {
   "cell_type": "code",
   "execution_count": 1,
   "id": "e1f3328b",
   "metadata": {},
   "outputs": [],
   "source": [
    "import numpy as np\n",
    "import seaborn as sns\n",
    "import matplotlib.pyplot as plt\n",
    "import pandas as pd\n",
    "from datetime import datetime, timedelta"
   ]
  },
  {
   "cell_type": "code",
   "execution_count": 2,
   "id": "d70b88f7",
   "metadata": {},
   "outputs": [],
   "source": [
    "cab = pd.read_csv('./Datasets/Cab_data.csv')\n",
    "city = pd.read_csv('./Datasets/City.csv')\n",
    "customer = pd.read_csv('./Datasets/Customer_ID.csv')\n",
    "transaction = pd.read_csv('./Datasets/Transaction_ID.csv')"
   ]
  },
  {
   "cell_type": "markdown",
   "id": "9191aa51",
   "metadata": {},
   "source": [
    "### 3.1 Cab dataset"
   ]
  },
  {
   "cell_type": "code",
   "execution_count": 3,
   "id": "c5aa8b51",
   "metadata": {},
   "outputs": [
    {
     "name": "stdout",
     "output_type": "stream",
     "text": [
      "Shape of the Cab dataset: (359392, 7)\n",
      "Data Types of the data:\n",
      "Transaction ID      int64\n",
      "Date of Travel      int64\n",
      "Company            object\n",
      "City               object\n",
      "KM Travelled      float64\n",
      "Price Charged     float64\n",
      "Cost of Trip      float64\n",
      "dtype: object\n"
     ]
    },
    {
     "data": {
      "text/html": [
       "<div>\n",
       "<style scoped>\n",
       "    .dataframe tbody tr th:only-of-type {\n",
       "        vertical-align: middle;\n",
       "    }\n",
       "\n",
       "    .dataframe tbody tr th {\n",
       "        vertical-align: top;\n",
       "    }\n",
       "\n",
       "    .dataframe thead th {\n",
       "        text-align: right;\n",
       "    }\n",
       "</style>\n",
       "<table border=\"1\" class=\"dataframe\">\n",
       "  <thead>\n",
       "    <tr style=\"text-align: right;\">\n",
       "      <th></th>\n",
       "      <th>Transaction ID</th>\n",
       "      <th>Date of Travel</th>\n",
       "      <th>Company</th>\n",
       "      <th>City</th>\n",
       "      <th>KM Travelled</th>\n",
       "      <th>Price Charged</th>\n",
       "      <th>Cost of Trip</th>\n",
       "    </tr>\n",
       "  </thead>\n",
       "  <tbody>\n",
       "    <tr>\n",
       "      <th>0</th>\n",
       "      <td>10000011</td>\n",
       "      <td>42377</td>\n",
       "      <td>Pink Cab</td>\n",
       "      <td>ATLANTA GA</td>\n",
       "      <td>30.45</td>\n",
       "      <td>370.95</td>\n",
       "      <td>313.635</td>\n",
       "    </tr>\n",
       "    <tr>\n",
       "      <th>1</th>\n",
       "      <td>10000012</td>\n",
       "      <td>42375</td>\n",
       "      <td>Pink Cab</td>\n",
       "      <td>ATLANTA GA</td>\n",
       "      <td>28.62</td>\n",
       "      <td>358.52</td>\n",
       "      <td>334.854</td>\n",
       "    </tr>\n",
       "    <tr>\n",
       "      <th>2</th>\n",
       "      <td>10000013</td>\n",
       "      <td>42371</td>\n",
       "      <td>Pink Cab</td>\n",
       "      <td>ATLANTA GA</td>\n",
       "      <td>9.04</td>\n",
       "      <td>125.20</td>\n",
       "      <td>97.632</td>\n",
       "    </tr>\n",
       "    <tr>\n",
       "      <th>3</th>\n",
       "      <td>10000014</td>\n",
       "      <td>42376</td>\n",
       "      <td>Pink Cab</td>\n",
       "      <td>ATLANTA GA</td>\n",
       "      <td>33.17</td>\n",
       "      <td>377.40</td>\n",
       "      <td>351.602</td>\n",
       "    </tr>\n",
       "    <tr>\n",
       "      <th>4</th>\n",
       "      <td>10000015</td>\n",
       "      <td>42372</td>\n",
       "      <td>Pink Cab</td>\n",
       "      <td>ATLANTA GA</td>\n",
       "      <td>8.73</td>\n",
       "      <td>114.62</td>\n",
       "      <td>97.776</td>\n",
       "    </tr>\n",
       "  </tbody>\n",
       "</table>\n",
       "</div>"
      ],
      "text/plain": [
       "   Transaction ID  Date of Travel   Company        City  KM Travelled  \\\n",
       "0        10000011           42377  Pink Cab  ATLANTA GA         30.45   \n",
       "1        10000012           42375  Pink Cab  ATLANTA GA         28.62   \n",
       "2        10000013           42371  Pink Cab  ATLANTA GA          9.04   \n",
       "3        10000014           42376  Pink Cab  ATLANTA GA         33.17   \n",
       "4        10000015           42372  Pink Cab  ATLANTA GA          8.73   \n",
       "\n",
       "   Price Charged  Cost of Trip  \n",
       "0         370.95       313.635  \n",
       "1         358.52       334.854  \n",
       "2         125.20        97.632  \n",
       "3         377.40       351.602  \n",
       "4         114.62        97.776  "
      ]
     },
     "execution_count": 3,
     "metadata": {},
     "output_type": "execute_result"
    }
   ],
   "source": [
    "print(f\"Shape of the Cab dataset: {cab.shape}\")\n",
    "print(f\"Data Types of the data:\\n{cab.dtypes}\")\n",
    "cab.head()"
   ]
  },
  {
   "cell_type": "markdown",
   "id": "d9a8b9f9",
   "metadata": {},
   "source": [
    "The `Date of Travel` column is not in a correct datatype"
   ]
  },
  {
   "cell_type": "code",
   "execution_count": 4,
   "id": "8cad0863",
   "metadata": {},
   "outputs": [
    {
     "data": {
      "text/html": [
       "<div>\n",
       "<style scoped>\n",
       "    .dataframe tbody tr th:only-of-type {\n",
       "        vertical-align: middle;\n",
       "    }\n",
       "\n",
       "    .dataframe tbody tr th {\n",
       "        vertical-align: top;\n",
       "    }\n",
       "\n",
       "    .dataframe thead th {\n",
       "        text-align: right;\n",
       "    }\n",
       "</style>\n",
       "<table border=\"1\" class=\"dataframe\">\n",
       "  <thead>\n",
       "    <tr style=\"text-align: right;\">\n",
       "      <th></th>\n",
       "      <th>Transaction ID</th>\n",
       "      <th>Date of Travel</th>\n",
       "      <th>Company</th>\n",
       "      <th>City</th>\n",
       "      <th>KM Travelled</th>\n",
       "      <th>Price Charged</th>\n",
       "      <th>Cost of Trip</th>\n",
       "    </tr>\n",
       "  </thead>\n",
       "  <tbody>\n",
       "    <tr>\n",
       "      <th>0</th>\n",
       "      <td>10000011</td>\n",
       "      <td>2016-01-08</td>\n",
       "      <td>Pink Cab</td>\n",
       "      <td>ATLANTA GA</td>\n",
       "      <td>30.45</td>\n",
       "      <td>370.95</td>\n",
       "      <td>313.635</td>\n",
       "    </tr>\n",
       "    <tr>\n",
       "      <th>1</th>\n",
       "      <td>10000012</td>\n",
       "      <td>2016-01-06</td>\n",
       "      <td>Pink Cab</td>\n",
       "      <td>ATLANTA GA</td>\n",
       "      <td>28.62</td>\n",
       "      <td>358.52</td>\n",
       "      <td>334.854</td>\n",
       "    </tr>\n",
       "    <tr>\n",
       "      <th>2</th>\n",
       "      <td>10000013</td>\n",
       "      <td>2016-01-02</td>\n",
       "      <td>Pink Cab</td>\n",
       "      <td>ATLANTA GA</td>\n",
       "      <td>9.04</td>\n",
       "      <td>125.20</td>\n",
       "      <td>97.632</td>\n",
       "    </tr>\n",
       "    <tr>\n",
       "      <th>3</th>\n",
       "      <td>10000014</td>\n",
       "      <td>2016-01-07</td>\n",
       "      <td>Pink Cab</td>\n",
       "      <td>ATLANTA GA</td>\n",
       "      <td>33.17</td>\n",
       "      <td>377.40</td>\n",
       "      <td>351.602</td>\n",
       "    </tr>\n",
       "    <tr>\n",
       "      <th>4</th>\n",
       "      <td>10000015</td>\n",
       "      <td>2016-01-03</td>\n",
       "      <td>Pink Cab</td>\n",
       "      <td>ATLANTA GA</td>\n",
       "      <td>8.73</td>\n",
       "      <td>114.62</td>\n",
       "      <td>97.776</td>\n",
       "    </tr>\n",
       "  </tbody>\n",
       "</table>\n",
       "</div>"
      ],
      "text/plain": [
       "   Transaction ID Date of Travel   Company        City  KM Travelled  \\\n",
       "0        10000011     2016-01-08  Pink Cab  ATLANTA GA         30.45   \n",
       "1        10000012     2016-01-06  Pink Cab  ATLANTA GA         28.62   \n",
       "2        10000013     2016-01-02  Pink Cab  ATLANTA GA          9.04   \n",
       "3        10000014     2016-01-07  Pink Cab  ATLANTA GA         33.17   \n",
       "4        10000015     2016-01-03  Pink Cab  ATLANTA GA          8.73   \n",
       "\n",
       "   Price Charged  Cost of Trip  \n",
       "0         370.95       313.635  \n",
       "1         358.52       334.854  \n",
       "2         125.20        97.632  \n",
       "3         377.40       351.602  \n",
       "4         114.62        97.776  "
      ]
     },
     "execution_count": 4,
     "metadata": {},
     "output_type": "execute_result"
    }
   ],
   "source": [
    "# convert the date\n",
    "def to_date(n):\n",
    "    date_str = (datetime(1899, 12, 30) + timedelta(days= float(n))).strftime(\"%Y-%m-%d\")\n",
    "    date = datetime.strptime(date_str, \"%Y-%m-%d\")\n",
    "    return date\n",
    "\n",
    "cab['Date of Travel'] = cab['Date of Travel'].apply(lambda x: to_date(x))\n",
    "cab.head()"
   ]
  },
  {
   "cell_type": "code",
   "execution_count": 5,
   "id": "cd8c4eae",
   "metadata": {},
   "outputs": [],
   "source": [
    "# sort with date\n",
    "cab = cab.sort_values(by = 'Date of Travel') \\\n",
    "    .reset_index(drop= True)"
   ]
  },
  {
   "cell_type": "code",
   "execution_count": 6,
   "id": "70b17101",
   "metadata": {},
   "outputs": [
    {
     "data": {
      "text/html": [
       "<div>\n",
       "<style scoped>\n",
       "    .dataframe tbody tr th:only-of-type {\n",
       "        vertical-align: middle;\n",
       "    }\n",
       "\n",
       "    .dataframe tbody tr th {\n",
       "        vertical-align: top;\n",
       "    }\n",
       "\n",
       "    .dataframe thead th {\n",
       "        text-align: right;\n",
       "    }\n",
       "</style>\n",
       "<table border=\"1\" class=\"dataframe\">\n",
       "  <thead>\n",
       "    <tr style=\"text-align: right;\">\n",
       "      <th></th>\n",
       "      <th>Transaction ID</th>\n",
       "      <th>Date of Travel</th>\n",
       "      <th>Company</th>\n",
       "      <th>City</th>\n",
       "      <th>KM Travelled</th>\n",
       "      <th>Price Charged</th>\n",
       "      <th>Cost of Trip</th>\n",
       "    </tr>\n",
       "  </thead>\n",
       "  <tbody>\n",
       "    <tr>\n",
       "      <th>0</th>\n",
       "      <td>10001340</td>\n",
       "      <td>2016-01-02</td>\n",
       "      <td>Yellow Cab</td>\n",
       "      <td>WASHINGTON DC</td>\n",
       "      <td>10.20</td>\n",
       "      <td>202.54</td>\n",
       "      <td>135.8640</td>\n",
       "    </tr>\n",
       "    <tr>\n",
       "      <th>1</th>\n",
       "      <td>10000640</td>\n",
       "      <td>2016-01-02</td>\n",
       "      <td>Yellow Cab</td>\n",
       "      <td>CHICAGO IL</td>\n",
       "      <td>15.60</td>\n",
       "      <td>374.66</td>\n",
       "      <td>209.6640</td>\n",
       "    </tr>\n",
       "    <tr>\n",
       "      <th>2</th>\n",
       "      <td>10000635</td>\n",
       "      <td>2016-01-02</td>\n",
       "      <td>Yellow Cab</td>\n",
       "      <td>CHICAGO IL</td>\n",
       "      <td>25.08</td>\n",
       "      <td>532.83</td>\n",
       "      <td>337.0752</td>\n",
       "    </tr>\n",
       "    <tr>\n",
       "      <th>3</th>\n",
       "      <td>10001001</td>\n",
       "      <td>2016-01-02</td>\n",
       "      <td>Yellow Cab</td>\n",
       "      <td>NEW YORK NY</td>\n",
       "      <td>46.80</td>\n",
       "      <td>1391.91</td>\n",
       "      <td>595.2960</td>\n",
       "    </tr>\n",
       "    <tr>\n",
       "      <th>4</th>\n",
       "      <td>10000171</td>\n",
       "      <td>2016-01-02</td>\n",
       "      <td>Pink Cab</td>\n",
       "      <td>SAN DIEGO CA</td>\n",
       "      <td>14.28</td>\n",
       "      <td>269.15</td>\n",
       "      <td>147.0840</td>\n",
       "    </tr>\n",
       "  </tbody>\n",
       "</table>\n",
       "</div>"
      ],
      "text/plain": [
       "   Transaction ID Date of Travel     Company           City  KM Travelled  \\\n",
       "0        10001340     2016-01-02  Yellow Cab  WASHINGTON DC         10.20   \n",
       "1        10000640     2016-01-02  Yellow Cab     CHICAGO IL         15.60   \n",
       "2        10000635     2016-01-02  Yellow Cab     CHICAGO IL         25.08   \n",
       "3        10001001     2016-01-02  Yellow Cab    NEW YORK NY         46.80   \n",
       "4        10000171     2016-01-02    Pink Cab   SAN DIEGO CA         14.28   \n",
       "\n",
       "   Price Charged  Cost of Trip  \n",
       "0         202.54      135.8640  \n",
       "1         374.66      209.6640  \n",
       "2         532.83      337.0752  \n",
       "3        1391.91      595.2960  \n",
       "4         269.15      147.0840  "
      ]
     },
     "execution_count": 6,
     "metadata": {},
     "output_type": "execute_result"
    }
   ],
   "source": [
    "cab.head()"
   ]
  },
  {
   "cell_type": "code",
   "execution_count": 7,
   "id": "c2326eb8",
   "metadata": {},
   "outputs": [
    {
     "data": {
      "text/html": [
       "<div>\n",
       "<style scoped>\n",
       "    .dataframe tbody tr th:only-of-type {\n",
       "        vertical-align: middle;\n",
       "    }\n",
       "\n",
       "    .dataframe tbody tr th {\n",
       "        vertical-align: top;\n",
       "    }\n",
       "\n",
       "    .dataframe thead th {\n",
       "        text-align: right;\n",
       "    }\n",
       "</style>\n",
       "<table border=\"1\" class=\"dataframe\">\n",
       "  <thead>\n",
       "    <tr style=\"text-align: right;\">\n",
       "      <th></th>\n",
       "      <th>Transaction ID</th>\n",
       "      <th>Date of Travel</th>\n",
       "      <th>KM Travelled</th>\n",
       "      <th>Price Charged</th>\n",
       "      <th>Cost of Trip</th>\n",
       "    </tr>\n",
       "  </thead>\n",
       "  <tbody>\n",
       "    <tr>\n",
       "      <th>count</th>\n",
       "      <td>359392.00</td>\n",
       "      <td>359392</td>\n",
       "      <td>359392.00</td>\n",
       "      <td>359392.00</td>\n",
       "      <td>359392.00</td>\n",
       "    </tr>\n",
       "    <tr>\n",
       "      <th>mean</th>\n",
       "      <td>10220761.19</td>\n",
       "      <td>2017-08-17 01:37:55.042294016</td>\n",
       "      <td>22.57</td>\n",
       "      <td>423.44</td>\n",
       "      <td>286.19</td>\n",
       "    </tr>\n",
       "    <tr>\n",
       "      <th>min</th>\n",
       "      <td>10000011.00</td>\n",
       "      <td>2016-01-02 00:00:00</td>\n",
       "      <td>1.90</td>\n",
       "      <td>15.60</td>\n",
       "      <td>19.00</td>\n",
       "    </tr>\n",
       "    <tr>\n",
       "      <th>25%</th>\n",
       "      <td>10110809.75</td>\n",
       "      <td>2016-11-23 00:00:00</td>\n",
       "      <td>12.00</td>\n",
       "      <td>206.44</td>\n",
       "      <td>151.20</td>\n",
       "    </tr>\n",
       "    <tr>\n",
       "      <th>50%</th>\n",
       "      <td>10221035.50</td>\n",
       "      <td>2017-09-10 00:00:00</td>\n",
       "      <td>22.44</td>\n",
       "      <td>386.36</td>\n",
       "      <td>282.48</td>\n",
       "    </tr>\n",
       "    <tr>\n",
       "      <th>75%</th>\n",
       "      <td>10330937.25</td>\n",
       "      <td>2018-05-12 00:00:00</td>\n",
       "      <td>32.96</td>\n",
       "      <td>583.66</td>\n",
       "      <td>413.68</td>\n",
       "    </tr>\n",
       "    <tr>\n",
       "      <th>max</th>\n",
       "      <td>10440107.00</td>\n",
       "      <td>2018-12-31 00:00:00</td>\n",
       "      <td>48.00</td>\n",
       "      <td>2048.03</td>\n",
       "      <td>691.20</td>\n",
       "    </tr>\n",
       "    <tr>\n",
       "      <th>std</th>\n",
       "      <td>126805.80</td>\n",
       "      <td>NaN</td>\n",
       "      <td>12.23</td>\n",
       "      <td>274.38</td>\n",
       "      <td>157.99</td>\n",
       "    </tr>\n",
       "  </tbody>\n",
       "</table>\n",
       "</div>"
      ],
      "text/plain": [
       "       Transaction ID                 Date of Travel  KM Travelled  \\\n",
       "count       359392.00                         359392     359392.00   \n",
       "mean      10220761.19  2017-08-17 01:37:55.042294016         22.57   \n",
       "min       10000011.00            2016-01-02 00:00:00          1.90   \n",
       "25%       10110809.75            2016-11-23 00:00:00         12.00   \n",
       "50%       10221035.50            2017-09-10 00:00:00         22.44   \n",
       "75%       10330937.25            2018-05-12 00:00:00         32.96   \n",
       "max       10440107.00            2018-12-31 00:00:00         48.00   \n",
       "std         126805.80                            NaN         12.23   \n",
       "\n",
       "       Price Charged  Cost of Trip  \n",
       "count      359392.00     359392.00  \n",
       "mean          423.44        286.19  \n",
       "min            15.60         19.00  \n",
       "25%           206.44        151.20  \n",
       "50%           386.36        282.48  \n",
       "75%           583.66        413.68  \n",
       "max          2048.03        691.20  \n",
       "std           274.38        157.99  "
      ]
     },
     "execution_count": 7,
     "metadata": {},
     "output_type": "execute_result"
    }
   ],
   "source": [
    "round(cab.describe(), 2)"
   ]
  },
  {
   "cell_type": "markdown",
   "id": "49f272e3",
   "metadata": {},
   "source": [
    "### 3.2 City dataset"
   ]
  },
  {
   "cell_type": "code",
   "execution_count": 8,
   "id": "0f829d6e",
   "metadata": {},
   "outputs": [
    {
     "name": "stdout",
     "output_type": "stream",
     "text": [
      "Shape of the City datasets: (20, 3)\n",
      "Data types of the city datasets:\n",
      "City          object\n",
      "Population    object\n",
      "Users         object\n",
      "dtype: object\n"
     ]
    }
   ],
   "source": [
    "print(f\"Shape of the City datasets: {city.shape}\")\n",
    "print(f\"Data types of the city datasets:\\n{city.dtypes}\")"
   ]
  },
  {
   "cell_type": "markdown",
   "id": "0616d30f",
   "metadata": {},
   "source": [
    "The data type of Population and Users isn't correct and the ',' between the number could be removed"
   ]
  },
  {
   "cell_type": "code",
   "execution_count": 9,
   "id": "f5144b4e",
   "metadata": {},
   "outputs": [
    {
     "data": {
      "text/plain": [
       "City           object\n",
       "Population    float64\n",
       "Users         float64\n",
       "dtype: object"
      ]
     },
     "execution_count": 9,
     "metadata": {},
     "output_type": "execute_result"
    }
   ],
   "source": [
    "city['Population'] = [x.replace(',', '') for x in city['Population']]\n",
    "city['Users'] = [x.replace(',','') for x in city['Users']]\n",
    "city['Population'] = city['Population'].astype(float)\n",
    "city['Users'] = city['Users'].astype(float)\n",
    "city.dtypes"
   ]
  },
  {
   "cell_type": "code",
   "execution_count": 10,
   "id": "98ee9da2",
   "metadata": {},
   "outputs": [
    {
     "data": {
      "text/html": [
       "<div>\n",
       "<style scoped>\n",
       "    .dataframe tbody tr th:only-of-type {\n",
       "        vertical-align: middle;\n",
       "    }\n",
       "\n",
       "    .dataframe tbody tr th {\n",
       "        vertical-align: top;\n",
       "    }\n",
       "\n",
       "    .dataframe thead th {\n",
       "        text-align: right;\n",
       "    }\n",
       "</style>\n",
       "<table border=\"1\" class=\"dataframe\">\n",
       "  <thead>\n",
       "    <tr style=\"text-align: right;\">\n",
       "      <th></th>\n",
       "      <th>City</th>\n",
       "      <th>Population</th>\n",
       "      <th>Users</th>\n",
       "    </tr>\n",
       "  </thead>\n",
       "  <tbody>\n",
       "    <tr>\n",
       "      <th>0</th>\n",
       "      <td>NEW YORK NY</td>\n",
       "      <td>8405837.0</td>\n",
       "      <td>302149.0</td>\n",
       "    </tr>\n",
       "    <tr>\n",
       "      <th>1</th>\n",
       "      <td>CHICAGO IL</td>\n",
       "      <td>1955130.0</td>\n",
       "      <td>164468.0</td>\n",
       "    </tr>\n",
       "    <tr>\n",
       "      <th>2</th>\n",
       "      <td>LOS ANGELES CA</td>\n",
       "      <td>1595037.0</td>\n",
       "      <td>144132.0</td>\n",
       "    </tr>\n",
       "    <tr>\n",
       "      <th>3</th>\n",
       "      <td>MIAMI FL</td>\n",
       "      <td>1339155.0</td>\n",
       "      <td>17675.0</td>\n",
       "    </tr>\n",
       "    <tr>\n",
       "      <th>4</th>\n",
       "      <td>SILICON VALLEY</td>\n",
       "      <td>1177609.0</td>\n",
       "      <td>27247.0</td>\n",
       "    </tr>\n",
       "    <tr>\n",
       "      <th>5</th>\n",
       "      <td>ORANGE COUNTY</td>\n",
       "      <td>1030185.0</td>\n",
       "      <td>12994.0</td>\n",
       "    </tr>\n",
       "    <tr>\n",
       "      <th>6</th>\n",
       "      <td>SAN DIEGO CA</td>\n",
       "      <td>959307.0</td>\n",
       "      <td>69995.0</td>\n",
       "    </tr>\n",
       "    <tr>\n",
       "      <th>7</th>\n",
       "      <td>PHOENIX AZ</td>\n",
       "      <td>943999.0</td>\n",
       "      <td>6133.0</td>\n",
       "    </tr>\n",
       "    <tr>\n",
       "      <th>8</th>\n",
       "      <td>DALLAS TX</td>\n",
       "      <td>942908.0</td>\n",
       "      <td>22157.0</td>\n",
       "    </tr>\n",
       "    <tr>\n",
       "      <th>9</th>\n",
       "      <td>ATLANTA GA</td>\n",
       "      <td>814885.0</td>\n",
       "      <td>24701.0</td>\n",
       "    </tr>\n",
       "    <tr>\n",
       "      <th>10</th>\n",
       "      <td>DENVER CO</td>\n",
       "      <td>754233.0</td>\n",
       "      <td>12421.0</td>\n",
       "    </tr>\n",
       "    <tr>\n",
       "      <th>11</th>\n",
       "      <td>AUSTIN TX</td>\n",
       "      <td>698371.0</td>\n",
       "      <td>14978.0</td>\n",
       "    </tr>\n",
       "    <tr>\n",
       "      <th>12</th>\n",
       "      <td>SEATTLE WA</td>\n",
       "      <td>671238.0</td>\n",
       "      <td>25063.0</td>\n",
       "    </tr>\n",
       "    <tr>\n",
       "      <th>13</th>\n",
       "      <td>TUCSON AZ</td>\n",
       "      <td>631442.0</td>\n",
       "      <td>5712.0</td>\n",
       "    </tr>\n",
       "    <tr>\n",
       "      <th>14</th>\n",
       "      <td>SAN FRANCISCO CA</td>\n",
       "      <td>629591.0</td>\n",
       "      <td>213609.0</td>\n",
       "    </tr>\n",
       "    <tr>\n",
       "      <th>15</th>\n",
       "      <td>SACRAMENTO CA</td>\n",
       "      <td>545776.0</td>\n",
       "      <td>7044.0</td>\n",
       "    </tr>\n",
       "    <tr>\n",
       "      <th>16</th>\n",
       "      <td>PITTSBURGH PA</td>\n",
       "      <td>542085.0</td>\n",
       "      <td>3643.0</td>\n",
       "    </tr>\n",
       "    <tr>\n",
       "      <th>17</th>\n",
       "      <td>WASHINGTON DC</td>\n",
       "      <td>418859.0</td>\n",
       "      <td>127001.0</td>\n",
       "    </tr>\n",
       "    <tr>\n",
       "      <th>18</th>\n",
       "      <td>NASHVILLE TN</td>\n",
       "      <td>327225.0</td>\n",
       "      <td>9270.0</td>\n",
       "    </tr>\n",
       "    <tr>\n",
       "      <th>19</th>\n",
       "      <td>BOSTON MA</td>\n",
       "      <td>248968.0</td>\n",
       "      <td>80021.0</td>\n",
       "    </tr>\n",
       "  </tbody>\n",
       "</table>\n",
       "</div>"
      ],
      "text/plain": [
       "                City  Population     Users\n",
       "0        NEW YORK NY   8405837.0  302149.0\n",
       "1         CHICAGO IL   1955130.0  164468.0\n",
       "2     LOS ANGELES CA   1595037.0  144132.0\n",
       "3           MIAMI FL   1339155.0   17675.0\n",
       "4     SILICON VALLEY   1177609.0   27247.0\n",
       "5      ORANGE COUNTY   1030185.0   12994.0\n",
       "6       SAN DIEGO CA    959307.0   69995.0\n",
       "7         PHOENIX AZ    943999.0    6133.0\n",
       "8          DALLAS TX    942908.0   22157.0\n",
       "9         ATLANTA GA    814885.0   24701.0\n",
       "10         DENVER CO    754233.0   12421.0\n",
       "11         AUSTIN TX    698371.0   14978.0\n",
       "12        SEATTLE WA    671238.0   25063.0\n",
       "13         TUCSON AZ    631442.0    5712.0\n",
       "14  SAN FRANCISCO CA    629591.0  213609.0\n",
       "15     SACRAMENTO CA    545776.0    7044.0\n",
       "16     PITTSBURGH PA    542085.0    3643.0\n",
       "17     WASHINGTON DC    418859.0  127001.0\n",
       "18      NASHVILLE TN    327225.0    9270.0\n",
       "19         BOSTON MA    248968.0   80021.0"
      ]
     },
     "execution_count": 10,
     "metadata": {},
     "output_type": "execute_result"
    }
   ],
   "source": [
    "city.head(20)"
   ]
  },
  {
   "cell_type": "markdown",
   "id": "61fb74e4",
   "metadata": {},
   "source": [
    "### 3.3 Customer dataset"
   ]
  },
  {
   "cell_type": "code",
   "execution_count": 11,
   "id": "23ad07ac",
   "metadata": {},
   "outputs": [
    {
     "name": "stdout",
     "output_type": "stream",
     "text": [
      "Shape of the customer dataset: (49171, 4)\n",
      "Data type of the dataset\n",
      "Customer ID            int64\n",
      "Gender                object\n",
      "Age                    int64\n",
      "Income (USD/Month)     int64\n",
      "dtype: object\n"
     ]
    }
   ],
   "source": [
    "print(f\"Shape of the customer dataset: {customer.shape}\")\n",
    "print(f\"Data type of the dataset\\n{customer.dtypes}\")\n"
   ]
  },
  {
   "cell_type": "code",
   "execution_count": 12,
   "id": "280d1bd9",
   "metadata": {},
   "outputs": [
    {
     "data": {
      "text/html": [
       "<div>\n",
       "<style scoped>\n",
       "    .dataframe tbody tr th:only-of-type {\n",
       "        vertical-align: middle;\n",
       "    }\n",
       "\n",
       "    .dataframe tbody tr th {\n",
       "        vertical-align: top;\n",
       "    }\n",
       "\n",
       "    .dataframe thead th {\n",
       "        text-align: right;\n",
       "    }\n",
       "</style>\n",
       "<table border=\"1\" class=\"dataframe\">\n",
       "  <thead>\n",
       "    <tr style=\"text-align: right;\">\n",
       "      <th></th>\n",
       "      <th>Customer ID</th>\n",
       "      <th>Gender</th>\n",
       "      <th>Age</th>\n",
       "      <th>Income (USD/Month)</th>\n",
       "    </tr>\n",
       "  </thead>\n",
       "  <tbody>\n",
       "    <tr>\n",
       "      <th>0</th>\n",
       "      <td>29290</td>\n",
       "      <td>Male</td>\n",
       "      <td>28</td>\n",
       "      <td>10813</td>\n",
       "    </tr>\n",
       "    <tr>\n",
       "      <th>1</th>\n",
       "      <td>27703</td>\n",
       "      <td>Male</td>\n",
       "      <td>27</td>\n",
       "      <td>9237</td>\n",
       "    </tr>\n",
       "    <tr>\n",
       "      <th>2</th>\n",
       "      <td>28712</td>\n",
       "      <td>Male</td>\n",
       "      <td>53</td>\n",
       "      <td>11242</td>\n",
       "    </tr>\n",
       "    <tr>\n",
       "      <th>3</th>\n",
       "      <td>28020</td>\n",
       "      <td>Male</td>\n",
       "      <td>23</td>\n",
       "      <td>23327</td>\n",
       "    </tr>\n",
       "    <tr>\n",
       "      <th>4</th>\n",
       "      <td>27182</td>\n",
       "      <td>Male</td>\n",
       "      <td>33</td>\n",
       "      <td>8536</td>\n",
       "    </tr>\n",
       "  </tbody>\n",
       "</table>\n",
       "</div>"
      ],
      "text/plain": [
       "   Customer ID Gender  Age  Income (USD/Month)\n",
       "0        29290   Male   28               10813\n",
       "1        27703   Male   27                9237\n",
       "2        28712   Male   53               11242\n",
       "3        28020   Male   23               23327\n",
       "4        27182   Male   33                8536"
      ]
     },
     "execution_count": 12,
     "metadata": {},
     "output_type": "execute_result"
    }
   ],
   "source": [
    "customer.head()"
   ]
  },
  {
   "cell_type": "markdown",
   "id": "7147ddb6",
   "metadata": {},
   "source": [
    "The data types in customer id dataset are correct"
   ]
  },
  {
   "cell_type": "markdown",
   "id": "97600855",
   "metadata": {},
   "source": [
    "### 3.4 Transaction id dataset"
   ]
  },
  {
   "cell_type": "code",
   "execution_count": 13,
   "id": "dd33537b",
   "metadata": {},
   "outputs": [
    {
     "name": "stdout",
     "output_type": "stream",
     "text": [
      "Shape of the transaction id dataset: (440098, 3)\n",
      "Data type of the transaction id dataset:\n",
      "Transaction ID     int64\n",
      "Customer ID        int64\n",
      "Payment_Mode      object\n",
      "dtype: object\n"
     ]
    }
   ],
   "source": [
    "print(f\"Shape of the transaction id dataset: {transaction.shape}\")\n",
    "print(f\"Data type of the transaction id dataset:\\n{transaction.dtypes}\")"
   ]
  },
  {
   "cell_type": "markdown",
   "id": "cc57df77",
   "metadata": {},
   "source": [
    "The data type in transaction id dataset are correct."
   ]
  },
  {
   "cell_type": "markdown",
   "id": "20372ae9",
   "metadata": {},
   "source": [
    "### 3.5 Merge all the dataset to one dataset"
   ]
  },
  {
   "cell_type": "code",
   "execution_count": 14,
   "id": "29970931",
   "metadata": {},
   "outputs": [
    {
     "name": "stdout",
     "output_type": "stream",
     "text": [
      "Shape of the merged dataset: (359392, 14)\n",
      "Data Type of the merged dataset:\n",
      "Transaction ID                 int64\n",
      "Date of Travel        datetime64[ns]\n",
      "Company                       object\n",
      "City                          object\n",
      "KM Travelled                 float64\n",
      "Price Charged                float64\n",
      "Cost of Trip                 float64\n",
      "Customer ID                    int64\n",
      "Payment_Mode                  object\n",
      "Gender                        object\n",
      "Age                            int64\n",
      "Income (USD/Month)             int64\n",
      "Population                   float64\n",
      "Users                        float64\n",
      "dtype: object\n"
     ]
    }
   ],
   "source": [
    "df = cab.merge(transaction, on='Transaction ID').merge(customer, on='Customer ID').merge(city, on='City')\n",
    "print(f\"Shape of the merged dataset: {df.shape}\")\n",
    "print(f\"Data Type of the merged dataset:\\n{df.dtypes}\")"
   ]
  },
  {
   "cell_type": "markdown",
   "id": "4ae34478",
   "metadata": {},
   "source": [
    "Rename the columns"
   ]
  },
  {
   "cell_type": "code",
   "execution_count": 15,
   "id": "05d3a796",
   "metadata": {},
   "outputs": [],
   "source": [
    "df.columns = [col.replace(' ', '_') for col in df.columns]\n",
    "df = df.rename(columns = {'Income_(USD/Month)': 'Income'})"
   ]
  },
  {
   "cell_type": "code",
   "execution_count": 16,
   "id": "59c3a6f8",
   "metadata": {
    "scrolled": true
   },
   "outputs": [
    {
     "data": {
      "text/html": [
       "<div>\n",
       "<style scoped>\n",
       "    .dataframe tbody tr th:only-of-type {\n",
       "        vertical-align: middle;\n",
       "    }\n",
       "\n",
       "    .dataframe tbody tr th {\n",
       "        vertical-align: top;\n",
       "    }\n",
       "\n",
       "    .dataframe thead th {\n",
       "        text-align: right;\n",
       "    }\n",
       "</style>\n",
       "<table border=\"1\" class=\"dataframe\">\n",
       "  <thead>\n",
       "    <tr style=\"text-align: right;\">\n",
       "      <th></th>\n",
       "      <th>Transaction_ID</th>\n",
       "      <th>Date_of_Travel</th>\n",
       "      <th>Company</th>\n",
       "      <th>City</th>\n",
       "      <th>KM_Travelled</th>\n",
       "      <th>Price_Charged</th>\n",
       "      <th>Cost_of_Trip</th>\n",
       "      <th>Customer_ID</th>\n",
       "      <th>Payment_Mode</th>\n",
       "      <th>Gender</th>\n",
       "      <th>Age</th>\n",
       "      <th>Income</th>\n",
       "      <th>Population</th>\n",
       "      <th>Users</th>\n",
       "    </tr>\n",
       "  </thead>\n",
       "  <tbody>\n",
       "    <tr>\n",
       "      <th>0</th>\n",
       "      <td>10001340</td>\n",
       "      <td>2016-01-02</td>\n",
       "      <td>Yellow Cab</td>\n",
       "      <td>WASHINGTON DC</td>\n",
       "      <td>10.20</td>\n",
       "      <td>202.54</td>\n",
       "      <td>135.8640</td>\n",
       "      <td>52536</td>\n",
       "      <td>Card</td>\n",
       "      <td>Male</td>\n",
       "      <td>24</td>\n",
       "      <td>10606</td>\n",
       "      <td>418859.0</td>\n",
       "      <td>127001.0</td>\n",
       "    </tr>\n",
       "    <tr>\n",
       "      <th>1</th>\n",
       "      <td>10020018</td>\n",
       "      <td>2016-03-26</td>\n",
       "      <td>Yellow Cab</td>\n",
       "      <td>WASHINGTON DC</td>\n",
       "      <td>5.94</td>\n",
       "      <td>88.50</td>\n",
       "      <td>74.1312</td>\n",
       "      <td>52536</td>\n",
       "      <td>Cash</td>\n",
       "      <td>Male</td>\n",
       "      <td>24</td>\n",
       "      <td>10606</td>\n",
       "      <td>418859.0</td>\n",
       "      <td>127001.0</td>\n",
       "    </tr>\n",
       "    <tr>\n",
       "      <th>2</th>\n",
       "      <td>10102932</td>\n",
       "      <td>2016-11-09</td>\n",
       "      <td>Pink Cab</td>\n",
       "      <td>WASHINGTON DC</td>\n",
       "      <td>15.21</td>\n",
       "      <td>179.33</td>\n",
       "      <td>153.6210</td>\n",
       "      <td>52536</td>\n",
       "      <td>Cash</td>\n",
       "      <td>Male</td>\n",
       "      <td>24</td>\n",
       "      <td>10606</td>\n",
       "      <td>418859.0</td>\n",
       "      <td>127001.0</td>\n",
       "    </tr>\n",
       "    <tr>\n",
       "      <th>3</th>\n",
       "      <td>10164725</td>\n",
       "      <td>2017-04-17</td>\n",
       "      <td>Yellow Cab</td>\n",
       "      <td>WASHINGTON DC</td>\n",
       "      <td>8.08</td>\n",
       "      <td>123.21</td>\n",
       "      <td>104.7168</td>\n",
       "      <td>52536</td>\n",
       "      <td>Card</td>\n",
       "      <td>Male</td>\n",
       "      <td>24</td>\n",
       "      <td>10606</td>\n",
       "      <td>418859.0</td>\n",
       "      <td>127001.0</td>\n",
       "    </tr>\n",
       "    <tr>\n",
       "      <th>4</th>\n",
       "      <td>10188478</td>\n",
       "      <td>2017-06-24</td>\n",
       "      <td>Yellow Cab</td>\n",
       "      <td>WASHINGTON DC</td>\n",
       "      <td>13.80</td>\n",
       "      <td>283.74</td>\n",
       "      <td>168.9120</td>\n",
       "      <td>52536</td>\n",
       "      <td>Cash</td>\n",
       "      <td>Male</td>\n",
       "      <td>24</td>\n",
       "      <td>10606</td>\n",
       "      <td>418859.0</td>\n",
       "      <td>127001.0</td>\n",
       "    </tr>\n",
       "  </tbody>\n",
       "</table>\n",
       "</div>"
      ],
      "text/plain": [
       "   Transaction_ID Date_of_Travel     Company           City  KM_Travelled  \\\n",
       "0        10001340     2016-01-02  Yellow Cab  WASHINGTON DC         10.20   \n",
       "1        10020018     2016-03-26  Yellow Cab  WASHINGTON DC          5.94   \n",
       "2        10102932     2016-11-09    Pink Cab  WASHINGTON DC         15.21   \n",
       "3        10164725     2017-04-17  Yellow Cab  WASHINGTON DC          8.08   \n",
       "4        10188478     2017-06-24  Yellow Cab  WASHINGTON DC         13.80   \n",
       "\n",
       "   Price_Charged  Cost_of_Trip  Customer_ID Payment_Mode Gender  Age  Income  \\\n",
       "0         202.54      135.8640        52536         Card   Male   24   10606   \n",
       "1          88.50       74.1312        52536         Cash   Male   24   10606   \n",
       "2         179.33      153.6210        52536         Cash   Male   24   10606   \n",
       "3         123.21      104.7168        52536         Card   Male   24   10606   \n",
       "4         283.74      168.9120        52536         Cash   Male   24   10606   \n",
       "\n",
       "   Population     Users  \n",
       "0    418859.0  127001.0  \n",
       "1    418859.0  127001.0  \n",
       "2    418859.0  127001.0  \n",
       "3    418859.0  127001.0  \n",
       "4    418859.0  127001.0  "
      ]
     },
     "execution_count": 16,
     "metadata": {},
     "output_type": "execute_result"
    }
   ],
   "source": [
    "df.head()"
   ]
  },
  {
   "cell_type": "markdown",
   "id": "cba36186",
   "metadata": {},
   "source": [
    "### 3.6 Check Missing Values"
   ]
  },
  {
   "cell_type": "code",
   "execution_count": 17,
   "id": "7cd7d8b2",
   "metadata": {},
   "outputs": [
    {
     "data": {
      "text/plain": [
       "Transaction_ID    0\n",
       "Date_of_Travel    0\n",
       "Company           0\n",
       "City              0\n",
       "KM_Travelled      0\n",
       "Price_Charged     0\n",
       "Cost_of_Trip      0\n",
       "Customer_ID       0\n",
       "Payment_Mode      0\n",
       "Gender            0\n",
       "Age               0\n",
       "Income            0\n",
       "Population        0\n",
       "Users             0\n",
       "dtype: int64"
      ]
     },
     "execution_count": 17,
     "metadata": {},
     "output_type": "execute_result"
    }
   ],
   "source": [
    "df.apply(lambda x: sum(x.isnull()), axis=0)"
   ]
  },
  {
   "cell_type": "markdown",
   "id": "c30d2e39",
   "metadata": {},
   "source": [
    "No missing value was found"
   ]
  },
  {
   "cell_type": "markdown",
   "id": "9fe56515",
   "metadata": {},
   "source": [
    "### 3.7 Check Duplicate rows"
   ]
  },
  {
   "cell_type": "code",
   "execution_count": 18,
   "id": "6c399dce",
   "metadata": {},
   "outputs": [
    {
     "name": "stdout",
     "output_type": "stream",
     "text": [
      "The number of duplicated rows 0\n"
     ]
    }
   ],
   "source": [
    "duplicated_rows = df[df.drop('Transaction_ID', axis=1).duplicated()]\n",
    "print('The number of duplicated rows', duplicated_rows.shape[0])"
   ]
  },
  {
   "cell_type": "markdown",
   "id": "08073359",
   "metadata": {},
   "source": [
    "No duplicated row was found"
   ]
  },
  {
   "cell_type": "markdown",
   "id": "ec975254",
   "metadata": {},
   "source": [
    "### 3.8 Check Data Types"
   ]
  },
  {
   "cell_type": "code",
   "execution_count": 19,
   "id": "0137abcc",
   "metadata": {},
   "outputs": [
    {
     "name": "stdout",
     "output_type": "stream",
     "text": [
      "The data Types of the merged datasets:\n",
      "Transaction_ID             int64\n",
      "Date_of_Travel    datetime64[ns]\n",
      "Company                   object\n",
      "City                      object\n",
      "KM_Travelled             float64\n",
      "Price_Charged            float64\n",
      "Cost_of_Trip             float64\n",
      "Customer_ID                int64\n",
      "Payment_Mode              object\n",
      "Gender                    object\n",
      "Age                        int64\n",
      "Income                     int64\n",
      "Population               float64\n",
      "Users                    float64\n",
      "dtype: object\n"
     ]
    }
   ],
   "source": [
    "print(f\"The data Types of the merged datasets:\\n{df.dtypes}\")"
   ]
  },
  {
   "cell_type": "code",
   "execution_count": 20,
   "id": "6d542ab1",
   "metadata": {},
   "outputs": [],
   "source": [
    "df['Income'] = df['Income'].astype(float)\n",
    "df['Population'] = df['Population'].astype('int64')\n",
    "df['Users'] = df['Users'].astype('int64')"
   ]
  },
  {
   "cell_type": "code",
   "execution_count": 21,
   "id": "460e7508",
   "metadata": {},
   "outputs": [
    {
     "name": "stdout",
     "output_type": "stream",
     "text": [
      "The data Types of the merged datasets:\n",
      "Transaction_ID             int64\n",
      "Date_of_Travel    datetime64[ns]\n",
      "Company                   object\n",
      "City                      object\n",
      "KM_Travelled             float64\n",
      "Price_Charged            float64\n",
      "Cost_of_Trip             float64\n",
      "Customer_ID                int64\n",
      "Payment_Mode              object\n",
      "Gender                    object\n",
      "Age                        int64\n",
      "Income                   float64\n",
      "Population                 int64\n",
      "Users                      int64\n",
      "dtype: object\n"
     ]
    }
   ],
   "source": [
    "print(f\"The data Types of the merged datasets:\\n{df.dtypes}\")"
   ]
  },
  {
   "cell_type": "markdown",
   "id": "0033022c",
   "metadata": {},
   "source": [
    "## 4.  Exploratory Data Analysis"
   ]
  },
  {
   "cell_type": "markdown",
   "id": "0c6f91f6",
   "metadata": {},
   "source": [
    "### 4.1 Descriptive Analysis"
   ]
  },
  {
   "cell_type": "code",
   "execution_count": 22,
   "id": "12ac4cc1",
   "metadata": {},
   "outputs": [
    {
     "data": {
      "text/html": [
       "<div>\n",
       "<style scoped>\n",
       "    .dataframe tbody tr th:only-of-type {\n",
       "        vertical-align: middle;\n",
       "    }\n",
       "\n",
       "    .dataframe tbody tr th {\n",
       "        vertical-align: top;\n",
       "    }\n",
       "\n",
       "    .dataframe thead th {\n",
       "        text-align: right;\n",
       "    }\n",
       "</style>\n",
       "<table border=\"1\" class=\"dataframe\">\n",
       "  <thead>\n",
       "    <tr style=\"text-align: right;\">\n",
       "      <th></th>\n",
       "      <th>Transaction_ID</th>\n",
       "      <th>Date_of_Travel</th>\n",
       "      <th>KM_Travelled</th>\n",
       "      <th>Price_Charged</th>\n",
       "      <th>Cost_of_Trip</th>\n",
       "      <th>Customer_ID</th>\n",
       "      <th>Age</th>\n",
       "      <th>Income</th>\n",
       "      <th>Population</th>\n",
       "      <th>Users</th>\n",
       "    </tr>\n",
       "  </thead>\n",
       "  <tbody>\n",
       "    <tr>\n",
       "      <th>count</th>\n",
       "      <td>359392.00</td>\n",
       "      <td>359392</td>\n",
       "      <td>359392.00</td>\n",
       "      <td>359392.00</td>\n",
       "      <td>359392.00</td>\n",
       "      <td>359392.00</td>\n",
       "      <td>359392.00</td>\n",
       "      <td>359392.00</td>\n",
       "      <td>359392.00</td>\n",
       "      <td>359392.00</td>\n",
       "    </tr>\n",
       "    <tr>\n",
       "      <th>mean</th>\n",
       "      <td>10220761.19</td>\n",
       "      <td>2017-08-17 01:37:55.042293760</td>\n",
       "      <td>22.57</td>\n",
       "      <td>423.44</td>\n",
       "      <td>286.19</td>\n",
       "      <td>19191.65</td>\n",
       "      <td>35.34</td>\n",
       "      <td>15048.82</td>\n",
       "      <td>3132198.04</td>\n",
       "      <td>158365.58</td>\n",
       "    </tr>\n",
       "    <tr>\n",
       "      <th>min</th>\n",
       "      <td>10000011.00</td>\n",
       "      <td>2016-01-02 00:00:00</td>\n",
       "      <td>1.90</td>\n",
       "      <td>15.60</td>\n",
       "      <td>19.00</td>\n",
       "      <td>1.00</td>\n",
       "      <td>18.00</td>\n",
       "      <td>2000.00</td>\n",
       "      <td>248968.00</td>\n",
       "      <td>3643.00</td>\n",
       "    </tr>\n",
       "    <tr>\n",
       "      <th>25%</th>\n",
       "      <td>10110809.75</td>\n",
       "      <td>2016-11-23 00:00:00</td>\n",
       "      <td>12.00</td>\n",
       "      <td>206.44</td>\n",
       "      <td>151.20</td>\n",
       "      <td>2705.00</td>\n",
       "      <td>25.00</td>\n",
       "      <td>8424.00</td>\n",
       "      <td>671238.00</td>\n",
       "      <td>80021.00</td>\n",
       "    </tr>\n",
       "    <tr>\n",
       "      <th>50%</th>\n",
       "      <td>10221035.50</td>\n",
       "      <td>2017-09-10 00:00:00</td>\n",
       "      <td>22.44</td>\n",
       "      <td>386.36</td>\n",
       "      <td>282.48</td>\n",
       "      <td>7459.00</td>\n",
       "      <td>33.00</td>\n",
       "      <td>14685.00</td>\n",
       "      <td>1595037.00</td>\n",
       "      <td>144132.00</td>\n",
       "    </tr>\n",
       "    <tr>\n",
       "      <th>75%</th>\n",
       "      <td>10330937.25</td>\n",
       "      <td>2018-05-12 00:00:00</td>\n",
       "      <td>32.96</td>\n",
       "      <td>583.66</td>\n",
       "      <td>413.68</td>\n",
       "      <td>36078.00</td>\n",
       "      <td>42.00</td>\n",
       "      <td>21035.00</td>\n",
       "      <td>8405837.00</td>\n",
       "      <td>302149.00</td>\n",
       "    </tr>\n",
       "    <tr>\n",
       "      <th>max</th>\n",
       "      <td>10440107.00</td>\n",
       "      <td>2018-12-31 00:00:00</td>\n",
       "      <td>48.00</td>\n",
       "      <td>2048.03</td>\n",
       "      <td>691.20</td>\n",
       "      <td>60000.00</td>\n",
       "      <td>65.00</td>\n",
       "      <td>35000.00</td>\n",
       "      <td>8405837.00</td>\n",
       "      <td>302149.00</td>\n",
       "    </tr>\n",
       "    <tr>\n",
       "      <th>std</th>\n",
       "      <td>126805.80</td>\n",
       "      <td>NaN</td>\n",
       "      <td>12.23</td>\n",
       "      <td>274.38</td>\n",
       "      <td>157.99</td>\n",
       "      <td>21012.41</td>\n",
       "      <td>12.59</td>\n",
       "      <td>7969.41</td>\n",
       "      <td>3315194.39</td>\n",
       "      <td>100850.05</td>\n",
       "    </tr>\n",
       "  </tbody>\n",
       "</table>\n",
       "</div>"
      ],
      "text/plain": [
       "       Transaction_ID                 Date_of_Travel  KM_Travelled  \\\n",
       "count       359392.00                         359392     359392.00   \n",
       "mean      10220761.19  2017-08-17 01:37:55.042293760         22.57   \n",
       "min       10000011.00            2016-01-02 00:00:00          1.90   \n",
       "25%       10110809.75            2016-11-23 00:00:00         12.00   \n",
       "50%       10221035.50            2017-09-10 00:00:00         22.44   \n",
       "75%       10330937.25            2018-05-12 00:00:00         32.96   \n",
       "max       10440107.00            2018-12-31 00:00:00         48.00   \n",
       "std         126805.80                            NaN         12.23   \n",
       "\n",
       "       Price_Charged  Cost_of_Trip  Customer_ID        Age     Income  \\\n",
       "count      359392.00     359392.00    359392.00  359392.00  359392.00   \n",
       "mean          423.44        286.19     19191.65      35.34   15048.82   \n",
       "min            15.60         19.00         1.00      18.00    2000.00   \n",
       "25%           206.44        151.20      2705.00      25.00    8424.00   \n",
       "50%           386.36        282.48      7459.00      33.00   14685.00   \n",
       "75%           583.66        413.68     36078.00      42.00   21035.00   \n",
       "max          2048.03        691.20     60000.00      65.00   35000.00   \n",
       "std           274.38        157.99     21012.41      12.59    7969.41   \n",
       "\n",
       "       Population      Users  \n",
       "count   359392.00  359392.00  \n",
       "mean   3132198.04  158365.58  \n",
       "min     248968.00    3643.00  \n",
       "25%     671238.00   80021.00  \n",
       "50%    1595037.00  144132.00  \n",
       "75%    8405837.00  302149.00  \n",
       "max    8405837.00  302149.00  \n",
       "std    3315194.39  100850.05  "
      ]
     },
     "execution_count": 22,
     "metadata": {},
     "output_type": "execute_result"
    }
   ],
   "source": [
    "round(df.describe(),2)"
   ]
  },
  {
   "cell_type": "markdown",
   "id": "e2e346d2",
   "metadata": {},
   "source": [
    "### 4.2 Features Analysis"
   ]
  },
  {
   "cell_type": "markdown",
   "id": "e57c9b93",
   "metadata": {},
   "source": [
    "Use histogram to visualise the data with more than 2 options and countplot for 2 options"
   ]
  },
  {
   "cell_type": "code",
   "execution_count": 23,
   "id": "df20f628",
   "metadata": {},
   "outputs": [
    {
     "data": {
      "text/plain": [
       "Transaction_ID    359392\n",
       "Date_of_Travel      1095\n",
       "Company                2\n",
       "City                  19\n",
       "KM_Travelled         874\n",
       "Price_Charged      99176\n",
       "Cost_of_Trip       16291\n",
       "Customer_ID        46148\n",
       "Payment_Mode           2\n",
       "Gender                 2\n",
       "Age                   48\n",
       "Income             22725\n",
       "Population            19\n",
       "Users                 19\n",
       "dtype: int64"
      ]
     },
     "execution_count": 23,
     "metadata": {},
     "output_type": "execute_result"
    }
   ],
   "source": [
    "df.nunique()"
   ]
  },
  {
   "cell_type": "markdown",
   "id": "d69f4283",
   "metadata": {},
   "source": [
    "#### 4.2.1 Date of Travel"
   ]
  },
  {
   "cell_type": "code",
   "execution_count": 24,
   "id": "4261e110",
   "metadata": {},
   "outputs": [
    {
     "data": {
      "image/png": "[encoded data removed]",
      "text/plain": [
       "<Figure size 1200x700 with 1 Axes>"
      ]
     },
     "metadata": {},
     "output_type": "display_data"
    }
   ],
   "source": [
    "plt.figure(figsize=(12, 7))\n",
    "ax = sns.histplot(data= df, x=\"Date_of_Travel\", bins= 60, color = 'b')\n",
    "plt.title(\"Traveling date Distribution\")\n",
    "plt.ylabel('Frequency')\n",
    "plt.xlabel('Date of Travel')\n",
    "plt.show()"
   ]
  },
  {
   "cell_type": "markdown",
   "id": "7daba5d8",
   "metadata": {},
   "source": [
    "#### 4.2.2 KM Travelled"
   ]
  },
  {
   "cell_type": "code",
   "execution_count": 25,
   "id": "6a5ed3d5",
   "metadata": {},
   "outputs": [
    {
     "data": {
      "image/png": "[encoded data removed]",
      "text/plain": [
       "<Figure size 1200x700 with 1 Axes>"
      ]
     },
     "metadata": {},
     "output_type": "display_data"
    }
   ],
   "source": [
    "plt.figure(figsize=(12, 7))\n",
    "ax = sns.histplot(data= df, x=\"KM_Travelled\", bins= 60, color = 'yellow')\n",
    "plt.title(\"KM Travelled Distribution\")\n",
    "plt.ylabel('Frequency')\n",
    "plt.xlabel('KM Travelled')\n",
    "plt.show()"
   ]
  },
  {
   "cell_type": "markdown",
   "id": "72c10c20",
   "metadata": {},
   "source": [
    "#### 4.2.3 Charged price"
   ]
  },
  {
   "cell_type": "code",
   "execution_count": 26,
   "id": "bb682a26",
   "metadata": {},
   "outputs": [
    {
     "data": {
      "image/png": "[encoded data removed]",
      "text/plain": [
       "<Figure size 1200x700 with 1 Axes>"
      ]
     },
     "metadata": {},
     "output_type": "display_data"
    }
   ],
   "source": [
    "plt.figure(figsize=(12, 7))\n",
    "ax = sns.histplot(data = df, x = \"Price_Charged\", bins= 60)\n",
    "plt.title(\"Price charged distribution\")\n",
    "plt.xlabel('Price Charged')\n",
    "plt.ylabel('Frequency')\n",
    "plt.show()"
   ]
  },
  {
   "cell_type": "markdown",
   "id": "7444a2bf",
   "metadata": {},
   "source": [
    "#### 4.2.4 Cost of the Trip"
   ]
  },
  {
   "cell_type": "code",
   "execution_count": 27,
   "id": "de4bae0b",
   "metadata": {},
   "outputs": [
    {
     "data": {
      "image/png": "[encoded data removed]",
      "text/plain": [
       "<Figure size 1200x700 with 1 Axes>"
      ]
     },
     "metadata": {},
     "output_type": "display_data"
    }
   ],
   "source": [
    "plt.figure(figsize = (12,7))\n",
    "ax = sns.histplot(data= df, x = \"Cost_of_Trip\", bins= 60, color = 'lime')\n",
    "plt.title(\"Cost of Trip Distribution\")\n",
    "plt.xlabel(\"Cost of Trip\")\n",
    "plt.ylabel(\"Frequency\")\n",
    "plt.show()"
   ]
  },
  {
   "cell_type": "markdown",
   "id": "8754eeff",
   "metadata": {},
   "source": [
    "#### 4.2.5 Payment method"
   ]
  },
  {
   "cell_type": "code",
   "execution_count": 28,
   "id": "3b908f2d",
   "metadata": {},
   "outputs": [
    {
     "data": {
      "image/png": "[encoded data removed]",
      "text/plain": [
       "<Figure size 900x600 with 1 Axes>"
      ]
     },
     "metadata": {},
     "output_type": "display_data"
    }
   ],
   "source": [
    "plt.figure(figsize=(9,6))\n",
    "sns.countplot(data= df, x=\"Payment_Mode\")\n",
    "plt.title(\"Payment's countplot\", fontsize=18)\n",
    "plt.ylabel('Frequency')\n",
    "plt.xlabel('Payment Mode')\n",
    "plt.show()"
   ]
  },
  {
   "cell_type": "markdown",
   "id": "f9152b10",
   "metadata": {},
   "source": [
    "#### 4.2.6 Gender"
   ]
  },
  {
   "cell_type": "code",
   "execution_count": 29,
   "id": "5ba19b31",
   "metadata": {},
   "outputs": [
    {
     "data": {
      "image/png": "[encoded data removed]",
      "text/plain": [
       "<Figure size 900x600 with 1 Axes>"
      ]
     },
     "metadata": {},
     "output_type": "display_data"
    }
   ],
   "source": [
    "plt.figure(figsize=(9, 6))\n",
    "sns.countplot(data = df, x= \"Gender\")\n",
    "plt.title(\"Gender's countplot\")\n",
    "plt.xlabel('Gender')\n",
    "plt.ylabel(\"Frequency\")\n",
    "plt.show()"
   ]
  },
  {
   "cell_type": "markdown",
   "id": "859f953f",
   "metadata": {},
   "source": [
    "#### 4.2.7 Age"
   ]
  },
  {
   "cell_type": "code",
   "execution_count": 30,
   "id": "6e3327a2",
   "metadata": {},
   "outputs": [
    {
     "data": {
      "image/png": "[encoded data removed]",
      "text/plain": [
       "<Figure size 900x600 with 1 Axes>"
      ]
     },
     "metadata": {},
     "output_type": "display_data"
    }
   ],
   "source": [
    "plt.figure(figsize=(9,6))\n",
    "sns.histplot(data= df, x='Age', bins= 48, color = 'red')\n",
    "plt.title(\"Age's distribution\")\n",
    "plt.xlabel('Age')\n",
    "plt.ylabel(\"Frequency\")\n",
    "plt.show()"
   ]
  },
  {
   "cell_type": "markdown",
   "id": "a628bfb3",
   "metadata": {},
   "source": [
    "### 4.3 Features relationship"
   ]
  },
  {
   "cell_type": "markdown",
   "id": "ec3f7a76",
   "metadata": {},
   "source": [
    "#### 4.3.1 Correlation"
   ]
  },
  {
   "cell_type": "code",
   "execution_count": 31,
   "id": "0128f6ed",
   "metadata": {},
   "outputs": [
    {
     "data": {
      "text/html": [
       "<div>\n",
       "<style scoped>\n",
       "    .dataframe tbody tr th:only-of-type {\n",
       "        vertical-align: middle;\n",
       "    }\n",
       "\n",
       "    .dataframe tbody tr th {\n",
       "        vertical-align: top;\n",
       "    }\n",
       "\n",
       "    .dataframe thead th {\n",
       "        text-align: right;\n",
       "    }\n",
       "</style>\n",
       "<table border=\"1\" class=\"dataframe\">\n",
       "  <thead>\n",
       "    <tr style=\"text-align: right;\">\n",
       "      <th></th>\n",
       "      <th>Transaction_ID</th>\n",
       "      <th>KM_Travelled</th>\n",
       "      <th>Price_Charged</th>\n",
       "      <th>Cost_of_Trip</th>\n",
       "      <th>Customer_ID</th>\n",
       "      <th>Age</th>\n",
       "      <th>Income</th>\n",
       "      <th>Population</th>\n",
       "      <th>Users</th>\n",
       "    </tr>\n",
       "  </thead>\n",
       "  <tbody>\n",
       "    <tr>\n",
       "      <th>Transaction_ID</th>\n",
       "      <td>1.000000</td>\n",
       "      <td>-0.001429</td>\n",
       "      <td>-0.052902</td>\n",
       "      <td>-0.003462</td>\n",
       "      <td>-0.016912</td>\n",
       "      <td>-0.001267</td>\n",
       "      <td>-0.001570</td>\n",
       "      <td>0.023868</td>\n",
       "      <td>0.013526</td>\n",
       "    </tr>\n",
       "    <tr>\n",
       "      <th>KM_Travelled</th>\n",
       "      <td>-0.001429</td>\n",
       "      <td>1.000000</td>\n",
       "      <td>0.835753</td>\n",
       "      <td>0.981848</td>\n",
       "      <td>0.000389</td>\n",
       "      <td>-0.000369</td>\n",
       "      <td>-0.000544</td>\n",
       "      <td>-0.002311</td>\n",
       "      <td>-0.000428</td>\n",
       "    </tr>\n",
       "    <tr>\n",
       "      <th>Price_Charged</th>\n",
       "      <td>-0.052902</td>\n",
       "      <td>0.835753</td>\n",
       "      <td>1.000000</td>\n",
       "      <td>0.859812</td>\n",
       "      <td>-0.177324</td>\n",
       "      <td>-0.003084</td>\n",
       "      <td>0.003228</td>\n",
       "      <td>0.326589</td>\n",
       "      <td>0.281061</td>\n",
       "    </tr>\n",
       "    <tr>\n",
       "      <th>Cost_of_Trip</th>\n",
       "      <td>-0.003462</td>\n",
       "      <td>0.981848</td>\n",
       "      <td>0.859812</td>\n",
       "      <td>1.000000</td>\n",
       "      <td>0.003077</td>\n",
       "      <td>-0.000189</td>\n",
       "      <td>-0.000633</td>\n",
       "      <td>0.015108</td>\n",
       "      <td>0.023628</td>\n",
       "    </tr>\n",
       "    <tr>\n",
       "      <th>Customer_ID</th>\n",
       "      <td>-0.016912</td>\n",
       "      <td>0.000389</td>\n",
       "      <td>-0.177324</td>\n",
       "      <td>0.003077</td>\n",
       "      <td>1.000000</td>\n",
       "      <td>-0.004735</td>\n",
       "      <td>-0.013608</td>\n",
       "      <td>-0.647052</td>\n",
       "      <td>-0.610742</td>\n",
       "    </tr>\n",
       "    <tr>\n",
       "      <th>Age</th>\n",
       "      <td>-0.001267</td>\n",
       "      <td>-0.000369</td>\n",
       "      <td>-0.003084</td>\n",
       "      <td>-0.000189</td>\n",
       "      <td>-0.004735</td>\n",
       "      <td>1.000000</td>\n",
       "      <td>0.003907</td>\n",
       "      <td>-0.009002</td>\n",
       "      <td>-0.005906</td>\n",
       "    </tr>\n",
       "    <tr>\n",
       "      <th>Income</th>\n",
       "      <td>-0.001570</td>\n",
       "      <td>-0.000544</td>\n",
       "      <td>0.003228</td>\n",
       "      <td>-0.000633</td>\n",
       "      <td>-0.013608</td>\n",
       "      <td>0.003907</td>\n",
       "      <td>1.000000</td>\n",
       "      <td>0.011868</td>\n",
       "      <td>0.010464</td>\n",
       "    </tr>\n",
       "    <tr>\n",
       "      <th>Population</th>\n",
       "      <td>0.023868</td>\n",
       "      <td>-0.002311</td>\n",
       "      <td>0.326589</td>\n",
       "      <td>0.015108</td>\n",
       "      <td>-0.647052</td>\n",
       "      <td>-0.009002</td>\n",
       "      <td>0.011868</td>\n",
       "      <td>1.000000</td>\n",
       "      <td>0.915490</td>\n",
       "    </tr>\n",
       "    <tr>\n",
       "      <th>Users</th>\n",
       "      <td>0.013526</td>\n",
       "      <td>-0.000428</td>\n",
       "      <td>0.281061</td>\n",
       "      <td>0.023628</td>\n",
       "      <td>-0.610742</td>\n",
       "      <td>-0.005906</td>\n",
       "      <td>0.010464</td>\n",
       "      <td>0.915490</td>\n",
       "      <td>1.000000</td>\n",
       "    </tr>\n",
       "  </tbody>\n",
       "</table>\n",
       "</div>"
      ],
      "text/plain": [
       "                Transaction_ID  KM_Travelled  Price_Charged  Cost_of_Trip  \\\n",
       "Transaction_ID        1.000000     -0.001429      -0.052902     -0.003462   \n",
       "KM_Travelled         -0.001429      1.000000       0.835753      0.981848   \n",
       "Price_Charged        -0.052902      0.835753       1.000000      0.859812   \n",
       "Cost_of_Trip         -0.003462      0.981848       0.859812      1.000000   \n",
       "Customer_ID          -0.016912      0.000389      -0.177324      0.003077   \n",
       "Age                  -0.001267     -0.000369      -0.003084     -0.000189   \n",
       "Income               -0.001570     -0.000544       0.003228     -0.000633   \n",
       "Population            0.023868     -0.002311       0.326589      0.015108   \n",
       "Users                 0.013526     -0.000428       0.281061      0.023628   \n",
       "\n",
       "                Customer_ID       Age    Income  Population     Users  \n",
       "Transaction_ID    -0.016912 -0.001267 -0.001570    0.023868  0.013526  \n",
       "KM_Travelled       0.000389 -0.000369 -0.000544   -0.002311 -0.000428  \n",
       "Price_Charged     -0.177324 -0.003084  0.003228    0.326589  0.281061  \n",
       "Cost_of_Trip       0.003077 -0.000189 -0.000633    0.015108  0.023628  \n",
       "Customer_ID        1.000000 -0.004735 -0.013608   -0.647052 -0.610742  \n",
       "Age               -0.004735  1.000000  0.003907   -0.009002 -0.005906  \n",
       "Income            -0.013608  0.003907  1.000000    0.011868  0.010464  \n",
       "Population        -0.647052 -0.009002  0.011868    1.000000  0.915490  \n",
       "Users             -0.610742 -0.005906  0.010464    0.915490  1.000000  "
      ]
     },
     "execution_count": 31,
     "metadata": {},
     "output_type": "execute_result"
    }
   ],
   "source": [
    "df_corr = df.corr(numeric_only=True)\n",
    "df_corr"
   ]
  },
  {
   "cell_type": "code",
   "execution_count": 32,
   "id": "a92cb48e",
   "metadata": {},
   "outputs": [
    {
     "data": {
      "image/png": "[encoded data removed]",
      "text/plain": [
       "<Figure size 640x480 with 2 Axes>"
      ]
     },
     "metadata": {},
     "output_type": "display_data"
    }
   ],
   "source": [
    "sns.heatmap(round(df_corr, 2), annot=True)\n",
    "plt.show()"
   ]
  },
  {
   "cell_type": "markdown",
   "id": "1bd97436",
   "metadata": {},
   "source": [
    "Population has linear relationship with the number of users.\n",
    "\n",
    "The distance travelled, `KM_Travelled`, has some relationship with the price charged, `Price_Charged`, which makes sense."
   ]
  },
  {
   "cell_type": "markdown",
   "id": "fae83e4d",
   "metadata": {},
   "source": [
    "#### 4.3.2 Check outliers"
   ]
  },
  {
   "cell_type": "markdown",
   "id": "997e06ae",
   "metadata": {},
   "source": [
    "From descriptive analysis, we saw that the `Price_Charged` and `Income` have rather high standard derivation. We use boxplot to illustrate if there were outliers in the both columns."
   ]
  },
  {
   "cell_type": "code",
   "execution_count": 33,
   "id": "93fcccd3",
   "metadata": {},
   "outputs": [
    {
     "data": {
      "image/png": "[encoded data removed]",
      "text/plain": [
       "<Figure size 1800x900 with 2 Axes>"
      ]
     },
     "metadata": {},
     "output_type": "display_data"
    }
   ],
   "source": [
    "plt.figure(figsize=(18,9))\n",
    "plt.subplot(1, 2, 1)\n",
    "sns.set(font_scale=1.3)\n",
    "sns.boxplot(data = df, y = \"Company\", x= \"Price_Charged\", dodge=False)\n",
    "\n",
    "plt.subplot(1, 2, 2)\n",
    "sns.set(font_scale=1.3)\n",
    "sns.boxplot(data= df, y= \"Gender\", x= \"Income\", dodge=False)\n",
    "\n",
    "plt.tight_layout()"
   ]
  },
  {
   "cell_type": "markdown",
   "id": "a8f4eb7e",
   "metadata": {},
   "source": [
    "Outliers are present in the `Price_Charged` feature. However, we do not have any information for the price charged. So, it was not treated as outliers."
   ]
  },
  {
   "cell_type": "markdown",
   "id": "b091ded4",
   "metadata": {},
   "source": [
    "### 4.4 Feature Transformation\n",
    "Create `Profits` column to store the profits for each trip."
   ]
  },
  {
   "cell_type": "code",
   "execution_count": 34,
   "id": "577bc98a",
   "metadata": {},
   "outputs": [],
   "source": [
    "df['Profits'] = df.Price_Charged - df.Cost_of_Trip"
   ]
  },
  {
   "cell_type": "code",
   "execution_count": 35,
   "id": "09ae1839",
   "metadata": {},
   "outputs": [],
   "source": [
    "df = df.set_index('Date_of_Travel')"
   ]
  },
  {
   "cell_type": "markdown",
   "id": "a89696b6",
   "metadata": {},
   "source": [
    "## 5. Data Visualisation\n",
    "Now, we 've finished the data cleansing and the feature engineering. Next, we would like to investigate the cleaned dataset and return some insights"
   ]
  },
  {
   "cell_type": "markdown",
   "id": "7eeb527d",
   "metadata": {},
   "source": [
    "### 5.1 Area of investigation 1: Profit analysis"
   ]
  },
  {
   "cell_type": "markdown",
   "id": "b9d94c3e",
   "metadata": {},
   "source": [
    "#### Annual Profit"
   ]
  },
  {
   "cell_type": "code",
   "execution_count": 36,
   "id": "934c1eb2",
   "metadata": {},
   "outputs": [
    {
     "data": {
      "text/html": [
       "<div>\n",
       "<style scoped>\n",
       "    .dataframe tbody tr th:only-of-type {\n",
       "        vertical-align: middle;\n",
       "    }\n",
       "\n",
       "    .dataframe tbody tr th {\n",
       "        vertical-align: top;\n",
       "    }\n",
       "\n",
       "    .dataframe thead th {\n",
       "        text-align: right;\n",
       "    }\n",
       "</style>\n",
       "<table border=\"1\" class=\"dataframe\">\n",
       "  <thead>\n",
       "    <tr style=\"text-align: right;\">\n",
       "      <th></th>\n",
       "      <th></th>\n",
       "      <th>Profits</th>\n",
       "    </tr>\n",
       "    <tr>\n",
       "      <th>Company</th>\n",
       "      <th>Date_of_Travel</th>\n",
       "      <th></th>\n",
       "    </tr>\n",
       "  </thead>\n",
       "  <tbody>\n",
       "    <tr>\n",
       "      <th rowspan=\"3\" valign=\"top\">Pink Cab</th>\n",
       "      <th>2016-12-31</th>\n",
       "      <td>1.713511e+06</td>\n",
       "    </tr>\n",
       "    <tr>\n",
       "      <th>2017-12-31</th>\n",
       "      <td>2.033655e+06</td>\n",
       "    </tr>\n",
       "    <tr>\n",
       "      <th>2018-12-31</th>\n",
       "      <td>1.560162e+06</td>\n",
       "    </tr>\n",
       "    <tr>\n",
       "      <th rowspan=\"3\" valign=\"top\">Yellow Cab</th>\n",
       "      <th>2016-12-31</th>\n",
       "      <td>1.392700e+07</td>\n",
       "    </tr>\n",
       "    <tr>\n",
       "      <th>2017-12-31</th>\n",
       "      <td>1.657598e+07</td>\n",
       "    </tr>\n",
       "    <tr>\n",
       "      <th>2018-12-31</th>\n",
       "      <td>1.351740e+07</td>\n",
       "    </tr>\n",
       "  </tbody>\n",
       "</table>\n",
       "</div>"
      ],
      "text/plain": [
       "                                Profits\n",
       "Company    Date_of_Travel              \n",
       "Pink Cab   2016-12-31      1.713511e+06\n",
       "           2017-12-31      2.033655e+06\n",
       "           2018-12-31      1.560162e+06\n",
       "Yellow Cab 2016-12-31      1.392700e+07\n",
       "           2017-12-31      1.657598e+07\n",
       "           2018-12-31      1.351740e+07"
      ]
     },
     "execution_count": 36,
     "metadata": {},
     "output_type": "execute_result"
    }
   ],
   "source": [
    "annual_profit = df.groupby(['Company']) \\\n",
    "                .resample('Y') \\\n",
    "                .Profits\\\n",
    "                .sum() \\\n",
    "                .to_frame('Profits')\n",
    "\n",
    "annual_profit\n",
    "                "
   ]
  },
  {
   "cell_type": "code",
   "execution_count": 37,
   "id": "c4401d1c",
   "metadata": {},
   "outputs": [],
   "source": [
    "annual_profit['%Profits'] = annual_profit['Profits'].pct_change() *100\n"
   ]
  },
  {
   "cell_type": "code",
   "execution_count": 38,
   "id": "db31c35a",
   "metadata": {},
   "outputs": [
    {
     "data": {
      "text/plain": [
       "Text(0.5, 0, 'Years')"
      ]
     },
     "execution_count": 38,
     "metadata": {},
     "output_type": "execute_result"
    },
    {
     "data": {
      "image/png": "[encoded data removed]",
      "text/plain": [
       "<Figure size 1200x700 with 1 Axes>"
      ]
     },
     "metadata": {},
     "output_type": "display_data"
    }
   ],
   "source": [
    "plt.figure(figsize = (12, 7))\n",
    "ax = sns.lineplot(x = 'Date_of_Travel', \n",
    "                  y = 'Profits',\n",
    "                  hue = 'Company', \n",
    "                  data = annual_profit, \n",
    "                  palette = ['pink', 'yellow'],\n",
    "                  marker = 'o')\n",
    "ax.set_title(\"Annual Profits\")\n",
    "ax.set_xlabel(\"Years\")"
   ]
  },
  {
   "cell_type": "markdown",
   "id": "573f4d65",
   "metadata": {},
   "source": [
    "#### Monthly Profits"
   ]
  },
  {
   "cell_type": "code",
   "execution_count": 39,
   "id": "013f91f4",
   "metadata": {},
   "outputs": [],
   "source": [
    "monthly_profits = df.groupby(['Company']) \\\n",
    "                    .resample('m') \\\n",
    "                    .Profits \\\n",
    "                    .sum() \\\n",
    "                    .to_frame('Profits')"
   ]
  },
  {
   "cell_type": "code",
   "execution_count": 40,
   "id": "aaa6bd52",
   "metadata": {},
   "outputs": [
    {
     "data": {
      "text/html": [
       "<div>\n",
       "<style scoped>\n",
       "    .dataframe tbody tr th:only-of-type {\n",
       "        vertical-align: middle;\n",
       "    }\n",
       "\n",
       "    .dataframe tbody tr th {\n",
       "        vertical-align: top;\n",
       "    }\n",
       "\n",
       "    .dataframe thead th {\n",
       "        text-align: right;\n",
       "    }\n",
       "</style>\n",
       "<table border=\"1\" class=\"dataframe\">\n",
       "  <thead>\n",
       "    <tr style=\"text-align: right;\">\n",
       "      <th></th>\n",
       "      <th></th>\n",
       "      <th>Profits</th>\n",
       "    </tr>\n",
       "    <tr>\n",
       "      <th>Company</th>\n",
       "      <th>Date_of_Travel</th>\n",
       "      <th></th>\n",
       "    </tr>\n",
       "  </thead>\n",
       "  <tbody>\n",
       "    <tr>\n",
       "      <th rowspan=\"5\" valign=\"top\">Pink Cab</th>\n",
       "      <th>2016-01-31</th>\n",
       "      <td>7.395286e+04</td>\n",
       "    </tr>\n",
       "    <tr>\n",
       "      <th>2016-02-29</th>\n",
       "      <td>8.747554e+04</td>\n",
       "    </tr>\n",
       "    <tr>\n",
       "      <th>2016-03-31</th>\n",
       "      <td>8.780118e+04</td>\n",
       "    </tr>\n",
       "    <tr>\n",
       "      <th>2016-04-30</th>\n",
       "      <td>8.259185e+04</td>\n",
       "    </tr>\n",
       "    <tr>\n",
       "      <th>2016-05-31</th>\n",
       "      <td>6.155096e+04</td>\n",
       "    </tr>\n",
       "    <tr>\n",
       "      <th>...</th>\n",
       "      <th>...</th>\n",
       "      <td>...</td>\n",
       "    </tr>\n",
       "    <tr>\n",
       "      <th rowspan=\"5\" valign=\"top\">Yellow Cab</th>\n",
       "      <th>2018-08-31</th>\n",
       "      <td>8.869987e+05</td>\n",
       "    </tr>\n",
       "    <tr>\n",
       "      <th>2018-09-30</th>\n",
       "      <td>1.218804e+06</td>\n",
       "    </tr>\n",
       "    <tr>\n",
       "      <th>2018-10-31</th>\n",
       "      <td>1.273756e+06</td>\n",
       "    </tr>\n",
       "    <tr>\n",
       "      <th>2018-11-30</th>\n",
       "      <td>1.416933e+06</td>\n",
       "    </tr>\n",
       "    <tr>\n",
       "      <th>2018-12-31</th>\n",
       "      <td>1.566886e+06</td>\n",
       "    </tr>\n",
       "  </tbody>\n",
       "</table>\n",
       "<p>72 rows × 1 columns</p>\n",
       "</div>"
      ],
      "text/plain": [
       "                                Profits\n",
       "Company    Date_of_Travel              \n",
       "Pink Cab   2016-01-31      7.395286e+04\n",
       "           2016-02-29      8.747554e+04\n",
       "           2016-03-31      8.780118e+04\n",
       "           2016-04-30      8.259185e+04\n",
       "           2016-05-31      6.155096e+04\n",
       "...                                 ...\n",
       "Yellow Cab 2018-08-31      8.869987e+05\n",
       "           2018-09-30      1.218804e+06\n",
       "           2018-10-31      1.273756e+06\n",
       "           2018-11-30      1.416933e+06\n",
       "           2018-12-31      1.566886e+06\n",
       "\n",
       "[72 rows x 1 columns]"
      ]
     },
     "execution_count": 40,
     "metadata": {},
     "output_type": "execute_result"
    }
   ],
   "source": [
    "monthly_profits"
   ]
  },
  {
   "cell_type": "code",
   "execution_count": 41,
   "id": "17f72de3",
   "metadata": {},
   "outputs": [
    {
     "data": {
      "text/plain": [
       "Text(0.5, 0, 'Months')"
      ]
     },
     "execution_count": 41,
     "metadata": {},
     "output_type": "execute_result"
    },
    {
     "data": {
      "image/png": "[encoded data removed]",
      "text/plain": [
       "<Figure size 1200x700 with 1 Axes>"
      ]
     },
     "metadata": {},
     "output_type": "display_data"
    }
   ],
   "source": [
    "plt.figure(figsize=(12,7))\n",
    "ax = sns.lineplot(x = 'Date_of_Travel',\n",
    "                 y = 'Profits',\n",
    "                 hue = 'Company',\n",
    "                 data = monthly_profits,\n",
    "                 palette = ['pink', 'yellow'],\n",
    "                 marker = 'o')\n",
    "ax.set_title(\"Monthly profits\")\n",
    "ax.set_xlabel(\"Months\")"
   ]
  },
  {
   "cell_type": "markdown",
   "id": "76bd2a23",
   "metadata": {},
   "source": [
    "#### Average profits per rides"
   ]
  },
  {
   "cell_type": "code",
   "execution_count": 42,
   "id": "77c4aaf3",
   "metadata": {},
   "outputs": [],
   "source": [
    "profits_per_ride = df.groupby(['Company'])\\\n",
    "                    .Profits \\\n",
    "                    .agg(['sum', 'count'])"
   ]
  },
  {
   "cell_type": "code",
   "execution_count": 43,
   "id": "38018ee7",
   "metadata": {},
   "outputs": [
    {
     "data": {
      "text/html": [
       "<div>\n",
       "<style scoped>\n",
       "    .dataframe tbody tr th:only-of-type {\n",
       "        vertical-align: middle;\n",
       "    }\n",
       "\n",
       "    .dataframe tbody tr th {\n",
       "        vertical-align: top;\n",
       "    }\n",
       "\n",
       "    .dataframe thead th {\n",
       "        text-align: right;\n",
       "    }\n",
       "</style>\n",
       "<table border=\"1\" class=\"dataframe\">\n",
       "  <thead>\n",
       "    <tr style=\"text-align: right;\">\n",
       "      <th></th>\n",
       "      <th>sum</th>\n",
       "      <th>count</th>\n",
       "    </tr>\n",
       "    <tr>\n",
       "      <th>Company</th>\n",
       "      <th></th>\n",
       "      <th></th>\n",
       "    </tr>\n",
       "  </thead>\n",
       "  <tbody>\n",
       "    <tr>\n",
       "      <th>Pink Cab</th>\n",
       "      <td>5.307328e+06</td>\n",
       "      <td>84711</td>\n",
       "    </tr>\n",
       "    <tr>\n",
       "      <th>Yellow Cab</th>\n",
       "      <td>4.402037e+07</td>\n",
       "      <td>274681</td>\n",
       "    </tr>\n",
       "  </tbody>\n",
       "</table>\n",
       "</div>"
      ],
      "text/plain": [
       "                     sum   count\n",
       "Company                         \n",
       "Pink Cab    5.307328e+06   84711\n",
       "Yellow Cab  4.402037e+07  274681"
      ]
     },
     "execution_count": 43,
     "metadata": {},
     "output_type": "execute_result"
    }
   ],
   "source": [
    "profits_per_ride"
   ]
  },
  {
   "cell_type": "code",
   "execution_count": 44,
   "id": "7039e5af",
   "metadata": {},
   "outputs": [
    {
     "data": {
      "text/html": [
       "<div>\n",
       "<style scoped>\n",
       "    .dataframe tbody tr th:only-of-type {\n",
       "        vertical-align: middle;\n",
       "    }\n",
       "\n",
       "    .dataframe tbody tr th {\n",
       "        vertical-align: top;\n",
       "    }\n",
       "\n",
       "    .dataframe thead th {\n",
       "        text-align: right;\n",
       "    }\n",
       "</style>\n",
       "<table border=\"1\" class=\"dataframe\">\n",
       "  <thead>\n",
       "    <tr style=\"text-align: right;\">\n",
       "      <th></th>\n",
       "      <th>Total_profits</th>\n",
       "      <th>Total_rides</th>\n",
       "      <th>Average_profits_per_rides</th>\n",
       "    </tr>\n",
       "    <tr>\n",
       "      <th>Company</th>\n",
       "      <th></th>\n",
       "      <th></th>\n",
       "      <th></th>\n",
       "    </tr>\n",
       "  </thead>\n",
       "  <tbody>\n",
       "    <tr>\n",
       "      <th>Pink Cab</th>\n",
       "      <td>5.307328e+06</td>\n",
       "      <td>84711</td>\n",
       "      <td>62.652174</td>\n",
       "    </tr>\n",
       "    <tr>\n",
       "      <th>Yellow Cab</th>\n",
       "      <td>4.402037e+07</td>\n",
       "      <td>274681</td>\n",
       "      <td>160.259986</td>\n",
       "    </tr>\n",
       "  </tbody>\n",
       "</table>\n",
       "</div>"
      ],
      "text/plain": [
       "            Total_profits  Total_rides  Average_profits_per_rides\n",
       "Company                                                          \n",
       "Pink Cab     5.307328e+06        84711                  62.652174\n",
       "Yellow Cab   4.402037e+07       274681                 160.259986"
      ]
     },
     "execution_count": 44,
     "metadata": {},
     "output_type": "execute_result"
    }
   ],
   "source": [
    "profits_per_ride['Average_profits_per_rides'] = profits_per_ride['sum'] / profits_per_ride['count']\n",
    "profits_per_ride = profits_per_ride.rename(columns = {'sum': 'Total_profits', 'count': 'Total_rides'})\n",
    "profits_per_ride"
   ]
  },
  {
   "cell_type": "markdown",
   "id": "824215e7",
   "metadata": {},
   "source": [
    "Average profits per rides:\n",
    "\n",
    "Pink Cab: 62.65 USD\n",
    "\n",
    "Yellow Cab: 160.26 USD"
   ]
  },
  {
   "cell_type": "code",
   "execution_count": 45,
   "id": "b3eaac6b",
   "metadata": {},
   "outputs": [],
   "source": [
    "# Average profits per ride (annually)\n",
    "annual_ppr = df.groupby(['Company'])\\\n",
    "                .resample('Y') \\\n",
    "                .Profits \\\n",
    "                .agg(['sum', 'count'])"
   ]
  },
  {
   "cell_type": "code",
   "execution_count": 46,
   "id": "6cee48db",
   "metadata": {},
   "outputs": [
    {
     "data": {
      "text/html": [
       "<div>\n",
       "<style scoped>\n",
       "    .dataframe tbody tr th:only-of-type {\n",
       "        vertical-align: middle;\n",
       "    }\n",
       "\n",
       "    .dataframe tbody tr th {\n",
       "        vertical-align: top;\n",
       "    }\n",
       "\n",
       "    .dataframe thead th {\n",
       "        text-align: right;\n",
       "    }\n",
       "</style>\n",
       "<table border=\"1\" class=\"dataframe\">\n",
       "  <thead>\n",
       "    <tr style=\"text-align: right;\">\n",
       "      <th></th>\n",
       "      <th></th>\n",
       "      <th>sum</th>\n",
       "      <th>count</th>\n",
       "      <th>Average_profits_per_rides</th>\n",
       "    </tr>\n",
       "    <tr>\n",
       "      <th>Company</th>\n",
       "      <th>Date_of_Travel</th>\n",
       "      <th></th>\n",
       "      <th></th>\n",
       "      <th></th>\n",
       "    </tr>\n",
       "  </thead>\n",
       "  <tbody>\n",
       "    <tr>\n",
       "      <th rowspan=\"3\" valign=\"top\">Pink Cab</th>\n",
       "      <th>2016-12-31</th>\n",
       "      <td>1.713511e+06</td>\n",
       "      <td>25080</td>\n",
       "      <td>68.321819</td>\n",
       "    </tr>\n",
       "    <tr>\n",
       "      <th>2017-12-31</th>\n",
       "      <td>2.033655e+06</td>\n",
       "      <td>30321</td>\n",
       "      <td>67.070839</td>\n",
       "    </tr>\n",
       "    <tr>\n",
       "      <th>2018-12-31</th>\n",
       "      <td>1.560162e+06</td>\n",
       "      <td>29310</td>\n",
       "      <td>53.229689</td>\n",
       "    </tr>\n",
       "    <tr>\n",
       "      <th rowspan=\"3\" valign=\"top\">Yellow Cab</th>\n",
       "      <th>2016-12-31</th>\n",
       "      <td>1.392700e+07</td>\n",
       "      <td>82239</td>\n",
       "      <td>169.347821</td>\n",
       "    </tr>\n",
       "    <tr>\n",
       "      <th>2017-12-31</th>\n",
       "      <td>1.657598e+07</td>\n",
       "      <td>98189</td>\n",
       "      <td>168.817057</td>\n",
       "    </tr>\n",
       "    <tr>\n",
       "      <th>2018-12-31</th>\n",
       "      <td>1.351740e+07</td>\n",
       "      <td>94253</td>\n",
       "      <td>143.416122</td>\n",
       "    </tr>\n",
       "  </tbody>\n",
       "</table>\n",
       "</div>"
      ],
      "text/plain": [
       "                                    sum  count  Average_profits_per_rides\n",
       "Company    Date_of_Travel                                                \n",
       "Pink Cab   2016-12-31      1.713511e+06  25080                  68.321819\n",
       "           2017-12-31      2.033655e+06  30321                  67.070839\n",
       "           2018-12-31      1.560162e+06  29310                  53.229689\n",
       "Yellow Cab 2016-12-31      1.392700e+07  82239                 169.347821\n",
       "           2017-12-31      1.657598e+07  98189                 168.817057\n",
       "           2018-12-31      1.351740e+07  94253                 143.416122"
      ]
     },
     "execution_count": 46,
     "metadata": {},
     "output_type": "execute_result"
    }
   ],
   "source": [
    "annual_ppr['Average_profits_per_rides'] = annual_ppr['sum'] / annual_ppr['count']\n",
    "annual_ppr.rename(columns = {'sum': 'Total_profits', 'count': 'Total_rides'})\n",
    "annual_ppr"
   ]
  },
  {
   "cell_type": "code",
   "execution_count": 60,
   "id": "b8c6431b",
   "metadata": {},
   "outputs": [
    {
     "data": {
      "image/png": "[encoded data removed]",
      "text/plain": [
       "<Figure size 640x480 with 1 Axes>"
      ]
     },
     "metadata": {},
     "output_type": "display_data"
    }
   ],
   "source": [
    "# plot a stacked bar chart\n",
    "\n",
    "bottom = np.zeros(3)\n",
    "cabs = {'pink cab': annual_ppr.loc['Pink Cab', 'Average_profits_per_rides'].to_numpy(),\n",
    "       'yellow cab':annual_ppr.loc['Yellow Cab', 'Average_profits_per_rides'].to_numpy() }\n",
    "                \n",
    "width = 0.5\n",
    "\n",
    "years = ('2016', '2017', '2018')\n",
    "color = ['pink', 'yellow']\n",
    "\n",
    "fig, ax = plt.subplots()\n",
    "for label, cab in cabs.items():\n",
    "    ax.bar(x = years, \n",
    "           height = cab,\n",
    "           width = width,\n",
    "           label = label,\n",
    "           bottom=bottom, \n",
    "           color = 'pink' if label == 'pink cab' else 'yellow')\n",
    "    bottom += cab\n",
    "\n",
    "    \n",
    "ax.set_title(\"Average Profits per ride\")\n",
    "ax.set_xlabel(\"years\")\n",
    "ax.set_ylabel(\"Profits (USD)\")\n",
    "# add the number to the stacked bar\n",
    "pink_lists, yellow_lists = cabs.values()    \n",
    "\n",
    "\n",
    "for y, pc, yc in zip(years, pink_lists, yellow_lists):\n",
    "    ax.text(x = y,\n",
    "           y = pc / 2,\n",
    "           s = round(pc, 2),\n",
    "           horizontalalignment='center')\n",
    "    ax.text(x = y,\n",
    "           y = (pc + yc) /2,\n",
    "           s = round(yc, 2),\n",
    "           horizontalalignment='center')\n",
    "ax.legend()\n",
    "plt.show()"
   ]
  },
  {
   "cell_type": "markdown",
   "id": "3faa0a68",
   "metadata": {},
   "source": [
    "#### Average profit per KM"
   ]
  },
  {
   "cell_type": "code",
   "execution_count": 48,
   "id": "f2b4fe7e",
   "metadata": {},
   "outputs": [
    {
     "data": {
      "text/html": [
       "<div>\n",
       "<style scoped>\n",
       "    .dataframe tbody tr th:only-of-type {\n",
       "        vertical-align: middle;\n",
       "    }\n",
       "\n",
       "    .dataframe tbody tr th {\n",
       "        vertical-align: top;\n",
       "    }\n",
       "\n",
       "    .dataframe thead th {\n",
       "        text-align: right;\n",
       "    }\n",
       "</style>\n",
       "<table border=\"1\" class=\"dataframe\">\n",
       "  <thead>\n",
       "    <tr style=\"text-align: right;\">\n",
       "      <th></th>\n",
       "      <th>KM_Travelled</th>\n",
       "      <th>Profits</th>\n",
       "      <th>Average_profit_per_km</th>\n",
       "    </tr>\n",
       "    <tr>\n",
       "      <th>Company</th>\n",
       "      <th></th>\n",
       "      <th></th>\n",
       "      <th></th>\n",
       "    </tr>\n",
       "  </thead>\n",
       "  <tbody>\n",
       "    <tr>\n",
       "      <th>Pink Cab</th>\n",
       "      <td>1911073.11</td>\n",
       "      <td>5.307328e+06</td>\n",
       "      <td>2.777146</td>\n",
       "    </tr>\n",
       "    <tr>\n",
       "      <th>Yellow Cab</th>\n",
       "      <td>6199417.47</td>\n",
       "      <td>4.402037e+07</td>\n",
       "      <td>7.100727</td>\n",
       "    </tr>\n",
       "  </tbody>\n",
       "</table>\n",
       "</div>"
      ],
      "text/plain": [
       "            KM_Travelled       Profits  Average_profit_per_km\n",
       "Company                                                      \n",
       "Pink Cab      1911073.11  5.307328e+06               2.777146\n",
       "Yellow Cab    6199417.47  4.402037e+07               7.100727"
      ]
     },
     "execution_count": 48,
     "metadata": {},
     "output_type": "execute_result"
    }
   ],
   "source": [
    "profits_per_km = df.groupby(['Company'])[['KM_Travelled', 'Profits']] \\\n",
    "                    .sum()\n",
    "\n",
    "profits_per_km['Average_profit_per_km'] = profits_per_km['Profits'] / profits_per_km['KM_Travelled']\n",
    "profits_per_km"
   ]
  },
  {
   "cell_type": "code",
   "execution_count": 55,
   "id": "ea7a6692",
   "metadata": {},
   "outputs": [
    {
     "data": {
      "text/html": [
       "<div>\n",
       "<style scoped>\n",
       "    .dataframe tbody tr th:only-of-type {\n",
       "        vertical-align: middle;\n",
       "    }\n",
       "\n",
       "    .dataframe tbody tr th {\n",
       "        vertical-align: top;\n",
       "    }\n",
       "\n",
       "    .dataframe thead th {\n",
       "        text-align: right;\n",
       "    }\n",
       "</style>\n",
       "<table border=\"1\" class=\"dataframe\">\n",
       "  <thead>\n",
       "    <tr style=\"text-align: right;\">\n",
       "      <th></th>\n",
       "      <th></th>\n",
       "      <th>KM_Travelled</th>\n",
       "      <th>Profits</th>\n",
       "      <th>Average_profit_per_km</th>\n",
       "    </tr>\n",
       "    <tr>\n",
       "      <th>Company</th>\n",
       "      <th>Date_of_Travel</th>\n",
       "      <th></th>\n",
       "      <th></th>\n",
       "      <th></th>\n",
       "    </tr>\n",
       "  </thead>\n",
       "  <tbody>\n",
       "    <tr>\n",
       "      <th rowspan=\"3\" valign=\"top\">Pink Cab</th>\n",
       "      <th>2016-12-31</th>\n",
       "      <td>563509.67</td>\n",
       "      <td>1.713511e+06</td>\n",
       "      <td>3.040784</td>\n",
       "    </tr>\n",
       "    <tr>\n",
       "      <th>2017-12-31</th>\n",
       "      <td>685823.52</td>\n",
       "      <td>2.033655e+06</td>\n",
       "      <td>2.965274</td>\n",
       "    </tr>\n",
       "    <tr>\n",
       "      <th>2018-12-31</th>\n",
       "      <td>661739.92</td>\n",
       "      <td>1.560162e+06</td>\n",
       "      <td>2.357667</td>\n",
       "    </tr>\n",
       "    <tr>\n",
       "      <th rowspan=\"3\" valign=\"top\">Yellow Cab</th>\n",
       "      <th>2016-12-31</th>\n",
       "      <td>1859978.21</td>\n",
       "      <td>1.392700e+07</td>\n",
       "      <td>7.487720</td>\n",
       "    </tr>\n",
       "    <tr>\n",
       "      <th>2017-12-31</th>\n",
       "      <td>2214879.02</td>\n",
       "      <td>1.657598e+07</td>\n",
       "      <td>7.483920</td>\n",
       "    </tr>\n",
       "    <tr>\n",
       "      <th>2018-12-31</th>\n",
       "      <td>2124560.24</td>\n",
       "      <td>1.351740e+07</td>\n",
       "      <td>6.362446</td>\n",
       "    </tr>\n",
       "  </tbody>\n",
       "</table>\n",
       "</div>"
      ],
      "text/plain": [
       "                           KM_Travelled       Profits  Average_profit_per_km\n",
       "Company    Date_of_Travel                                                   \n",
       "Pink Cab   2016-12-31         563509.67  1.713511e+06               3.040784\n",
       "           2017-12-31         685823.52  2.033655e+06               2.965274\n",
       "           2018-12-31         661739.92  1.560162e+06               2.357667\n",
       "Yellow Cab 2016-12-31        1859978.21  1.392700e+07               7.487720\n",
       "           2017-12-31        2214879.02  1.657598e+07               7.483920\n",
       "           2018-12-31        2124560.24  1.351740e+07               6.362446"
      ]
     },
     "execution_count": 55,
     "metadata": {},
     "output_type": "execute_result"
    }
   ],
   "source": [
    "# average profits per km (annually)\n",
    "annual_ppk = df.groupby(['Company'])[['KM_Travelled', 'Profits']]\\\n",
    "                    .resample('Y') \\\n",
    "                    .sum() \n",
    "    \n",
    "annual_ppk['Average_profit_per_km'] = annual_ppk['Profits'] / annual_ppk['KM_Travelled']\n",
    "annual_ppk"
   ]
  },
  {
   "cell_type": "code",
   "execution_count": 61,
   "id": "5af10581",
   "metadata": {},
   "outputs": [
    {
     "data": {
      "image/png": "[encoded data removed]",
      "text/plain": [
       "<Figure size 640x480 with 1 Axes>"
      ]
     },
     "metadata": {},
     "output_type": "display_data"
    }
   ],
   "source": [
    "# plot a stacked bar chart\n",
    "WIDTH = 0.5\n",
    "years = ('2016', '2017', '2018')\n",
    "cabs = {'pink cab': annual_ppk.loc['Pink Cab', 'Average_profit_per_km'].to_numpy(),\n",
    "       'yellow cab': annual_ppk.loc['Yellow Cab', 'Average_profit_per_km'].to_numpy()}\n",
    "bottom = np.zeros([3])\n",
    "\n",
    "fig, ax = plt.subplots()\n",
    "\n",
    "for label, cab in cabs.items():\n",
    "    ax.bar(x = years,\n",
    "          height = cab,\n",
    "          width = WIDTH,\n",
    "          bottom = bottom,\n",
    "          label = label,\n",
    "          color = 'pink' if label == 'pink cab' else 'yellow')\n",
    "    bottom += cab\n",
    "    \n",
    "\n",
    "# add title and axes labels\n",
    "ax.set_title(\"Average profits per KM\")\n",
    "ax.set_xlabel(\"years\")\n",
    "ax.set_ylabel(\"Profits (USD)\")\n",
    "# add the annotation\n",
    "pink_lists, yellow_lists = cabs.values()\n",
    "for y, pc, yc in zip(years, pink_lists, yellow_lists):\n",
    "    ax.text(x = y,\n",
    "           y = pc / 2,\n",
    "           s = round(pc, 2),\n",
    "           horizontalalignment = 'center')\n",
    "    ax.text(x = y,\n",
    "           y = (pc + yc) / 2,\n",
    "           s = round(yc, 2),\n",
    "           horizontalalignment = 'center')\n",
    "\n",
    "ax.legend()\n",
    "plt.show()"
   ]
  },
  {
   "cell_type": "markdown",
   "id": "c1eff783",
   "metadata": {},
   "source": [
    "#### Average profits per city"
   ]
  },
  {
   "cell_type": "code",
   "execution_count": 65,
   "id": "36e2a5a4",
   "metadata": {},
   "outputs": [
    {
     "data": {
      "text/html": [
       "<div>\n",
       "<style scoped>\n",
       "    .dataframe tbody tr th:only-of-type {\n",
       "        vertical-align: middle;\n",
       "    }\n",
       "\n",
       "    .dataframe tbody tr th {\n",
       "        vertical-align: top;\n",
       "    }\n",
       "\n",
       "    .dataframe thead th {\n",
       "        text-align: right;\n",
       "    }\n",
       "</style>\n",
       "<table border=\"1\" class=\"dataframe\">\n",
       "  <thead>\n",
       "    <tr style=\"text-align: right;\">\n",
       "      <th></th>\n",
       "      <th></th>\n",
       "      <th>Profits</th>\n",
       "    </tr>\n",
       "    <tr>\n",
       "      <th>Company</th>\n",
       "      <th>City</th>\n",
       "      <th></th>\n",
       "    </tr>\n",
       "  </thead>\n",
       "  <tbody>\n",
       "    <tr>\n",
       "      <th rowspan=\"19\" valign=\"top\">Pink Cab</th>\n",
       "      <th>ATLANTA GA</th>\n",
       "      <td>9.605008e+04</td>\n",
       "    </tr>\n",
       "    <tr>\n",
       "      <th>AUSTIN TX</th>\n",
       "      <td>1.474453e+05</td>\n",
       "    </tr>\n",
       "    <tr>\n",
       "      <th>BOSTON MA</th>\n",
       "      <td>2.620017e+05</td>\n",
       "    </tr>\n",
       "    <tr>\n",
       "      <th>CHICAGO IL</th>\n",
       "      <td>3.187225e+05</td>\n",
       "    </tr>\n",
       "    <tr>\n",
       "      <th>DALLAS TX</th>\n",
       "      <td>2.473011e+04</td>\n",
       "    </tr>\n",
       "    <tr>\n",
       "      <th>DENVER CO</th>\n",
       "      <td>4.058494e+04</td>\n",
       "    </tr>\n",
       "    <tr>\n",
       "      <th>LOS ANGELES CA</th>\n",
       "      <td>1.125732e+06</td>\n",
       "    </tr>\n",
       "    <tr>\n",
       "      <th>MIAMI FL</th>\n",
       "      <td>1.623012e+05</td>\n",
       "    </tr>\n",
       "    <tr>\n",
       "      <th>NASHVILLE TN</th>\n",
       "      <td>6.428453e+04</td>\n",
       "    </tr>\n",
       "    <tr>\n",
       "      <th>NEW YORK NY</th>\n",
       "      <td>1.511474e+06</td>\n",
       "    </tr>\n",
       "    <tr>\n",
       "      <th>ORANGE COUNTY</th>\n",
       "      <td>1.019958e+05</td>\n",
       "    </tr>\n",
       "    <tr>\n",
       "      <th>PHOENIX AZ</th>\n",
       "      <td>3.559639e+04</td>\n",
       "    </tr>\n",
       "    <tr>\n",
       "      <th>PITTSBURGH PA</th>\n",
       "      <td>1.710774e+04</td>\n",
       "    </tr>\n",
       "    <tr>\n",
       "      <th>SACRAMENTO CA</th>\n",
       "      <td>5.532401e+04</td>\n",
       "    </tr>\n",
       "    <tr>\n",
       "      <th>SAN DIEGO CA</th>\n",
       "      <td>6.378898e+05</td>\n",
       "    </tr>\n",
       "    <tr>\n",
       "      <th>SEATTLE WA</th>\n",
       "      <td>1.127813e+05</td>\n",
       "    </tr>\n",
       "    <tr>\n",
       "      <th>SILICON VALLEY</th>\n",
       "      <td>3.402505e+05</td>\n",
       "    </tr>\n",
       "    <tr>\n",
       "      <th>TUCSON AZ</th>\n",
       "      <td>5.928957e+04</td>\n",
       "    </tr>\n",
       "    <tr>\n",
       "      <th>WASHINGTON DC</th>\n",
       "      <td>1.937664e+05</td>\n",
       "    </tr>\n",
       "    <tr>\n",
       "      <th rowspan=\"19\" valign=\"top\">Yellow Cab</th>\n",
       "      <th>ATLANTA GA</th>\n",
       "      <td>7.463828e+05</td>\n",
       "    </tr>\n",
       "    <tr>\n",
       "      <th>AUSTIN TX</th>\n",
       "      <td>3.792557e+05</td>\n",
       "    </tr>\n",
       "    <tr>\n",
       "      <th>BOSTON MA</th>\n",
       "      <td>1.506718e+06</td>\n",
       "    </tr>\n",
       "    <tr>\n",
       "      <th>CHICAGO IL</th>\n",
       "      <td>3.068591e+06</td>\n",
       "    </tr>\n",
       "    <tr>\n",
       "      <th>DALLAS TX</th>\n",
       "      <td>1.104003e+06</td>\n",
       "    </tr>\n",
       "    <tr>\n",
       "      <th>DENVER CO</th>\n",
       "      <td>3.570001e+05</td>\n",
       "    </tr>\n",
       "    <tr>\n",
       "      <th>LOS ANGELES CA</th>\n",
       "      <td>3.285977e+06</td>\n",
       "    </tr>\n",
       "    <tr>\n",
       "      <th>MIAMI FL</th>\n",
       "      <td>5.960001e+05</td>\n",
       "    </tr>\n",
       "    <tr>\n",
       "      <th>NASHVILLE TN</th>\n",
       "      <td>8.524768e+04</td>\n",
       "    </tr>\n",
       "    <tr>\n",
       "      <th>NEW YORK NY</th>\n",
       "      <td>2.645108e+07</td>\n",
       "    </tr>\n",
       "    <tr>\n",
       "      <th>ORANGE COUNTY</th>\n",
       "      <td>3.550060e+05</td>\n",
       "    </tr>\n",
       "    <tr>\n",
       "      <th>PHOENIX AZ</th>\n",
       "      <td>1.573445e+05</td>\n",
       "    </tr>\n",
       "    <tr>\n",
       "      <th>PITTSBURGH PA</th>\n",
       "      <td>6.805822e+04</td>\n",
       "    </tr>\n",
       "    <tr>\n",
       "      <th>SACRAMENTO CA</th>\n",
       "      <td>6.200218e+04</td>\n",
       "    </tr>\n",
       "    <tr>\n",
       "      <th>SAN DIEGO CA</th>\n",
       "      <td>9.492737e+05</td>\n",
       "    </tr>\n",
       "    <tr>\n",
       "      <th>SEATTLE WA</th>\n",
       "      <td>4.919035e+05</td>\n",
       "    </tr>\n",
       "    <tr>\n",
       "      <th>SILICON VALLEY</th>\n",
       "      <td>9.764547e+05</td>\n",
       "    </tr>\n",
       "    <tr>\n",
       "      <th>TUCSON AZ</th>\n",
       "      <td>8.097112e+04</td>\n",
       "    </tr>\n",
       "    <tr>\n",
       "      <th>WASHINGTON DC</th>\n",
       "      <td>3.299104e+06</td>\n",
       "    </tr>\n",
       "  </tbody>\n",
       "</table>\n",
       "</div>"
      ],
      "text/plain": [
       "                                Profits\n",
       "Company    City                        \n",
       "Pink Cab   ATLANTA GA      9.605008e+04\n",
       "           AUSTIN TX       1.474453e+05\n",
       "           BOSTON MA       2.620017e+05\n",
       "           CHICAGO IL      3.187225e+05\n",
       "           DALLAS TX       2.473011e+04\n",
       "           DENVER CO       4.058494e+04\n",
       "           LOS ANGELES CA  1.125732e+06\n",
       "           MIAMI FL        1.623012e+05\n",
       "           NASHVILLE TN    6.428453e+04\n",
       "           NEW YORK NY     1.511474e+06\n",
       "           ORANGE COUNTY   1.019958e+05\n",
       "           PHOENIX AZ      3.559639e+04\n",
       "           PITTSBURGH PA   1.710774e+04\n",
       "           SACRAMENTO CA   5.532401e+04\n",
       "           SAN DIEGO CA    6.378898e+05\n",
       "           SEATTLE WA      1.127813e+05\n",
       "           SILICON VALLEY  3.402505e+05\n",
       "           TUCSON AZ       5.928957e+04\n",
       "           WASHINGTON DC   1.937664e+05\n",
       "Yellow Cab ATLANTA GA      7.463828e+05\n",
       "           AUSTIN TX       3.792557e+05\n",
       "           BOSTON MA       1.506718e+06\n",
       "           CHICAGO IL      3.068591e+06\n",
       "           DALLAS TX       1.104003e+06\n",
       "           DENVER CO       3.570001e+05\n",
       "           LOS ANGELES CA  3.285977e+06\n",
       "           MIAMI FL        5.960001e+05\n",
       "           NASHVILLE TN    8.524768e+04\n",
       "           NEW YORK NY     2.645108e+07\n",
       "           ORANGE COUNTY   3.550060e+05\n",
       "           PHOENIX AZ      1.573445e+05\n",
       "           PITTSBURGH PA   6.805822e+04\n",
       "           SACRAMENTO CA   6.200218e+04\n",
       "           SAN DIEGO CA    9.492737e+05\n",
       "           SEATTLE WA      4.919035e+05\n",
       "           SILICON VALLEY  9.764547e+05\n",
       "           TUCSON AZ       8.097112e+04\n",
       "           WASHINGTON DC   3.299104e+06"
      ]
     },
     "execution_count": 65,
     "metadata": {},
     "output_type": "execute_result"
    }
   ],
   "source": [
    "profits_per_city = df.groupby(['Company', 'City']) \\\n",
    "                    .Profits \\\n",
    "                    .sum() \\\n",
    "                    .to_frame()\n",
    "profits_per_city"
   ]
  },
  {
   "cell_type": "code",
   "execution_count": 84,
   "id": "2f6c7e19",
   "metadata": {},
   "outputs": [
    {
     "ename": "ConversionError",
     "evalue": "Failed to convert value(s) to axis units: 'WASHINGTON DC'",
     "output_type": "error",
     "traceback": [
      "\u001b[1;31m---------------------------------------------------------------------------\u001b[0m",
      "\u001b[1;31mValueError\u001b[0m                                Traceback (most recent call last)",
      "File \u001b[1;32m~\\.conda\\envs\\durhampj\\lib\\site-packages\\matplotlib\\axis.py:1732\u001b[0m, in \u001b[0;36mAxis.convert_units\u001b[1;34m(self, x)\u001b[0m\n\u001b[0;32m   1731\u001b[0m \u001b[38;5;28;01mtry\u001b[39;00m:\n\u001b[1;32m-> 1732\u001b[0m     ret \u001b[38;5;241m=\u001b[39m \u001b[38;5;28;43mself\u001b[39;49m\u001b[38;5;241;43m.\u001b[39;49m\u001b[43mconverter\u001b[49m\u001b[38;5;241;43m.\u001b[39;49m\u001b[43mconvert\u001b[49m\u001b[43m(\u001b[49m\u001b[43mx\u001b[49m\u001b[43m,\u001b[49m\u001b[43m \u001b[49m\u001b[38;5;28;43mself\u001b[39;49m\u001b[38;5;241;43m.\u001b[39;49m\u001b[43munits\u001b[49m\u001b[43m,\u001b[49m\u001b[43m \u001b[49m\u001b[38;5;28;43mself\u001b[39;49m\u001b[43m)\u001b[49m\n\u001b[0;32m   1733\u001b[0m \u001b[38;5;28;01mexcept\u001b[39;00m \u001b[38;5;167;01mException\u001b[39;00m \u001b[38;5;28;01mas\u001b[39;00m e:\n",
      "File \u001b[1;32m~\\.conda\\envs\\durhampj\\lib\\site-packages\\matplotlib\\category.py:49\u001b[0m, in \u001b[0;36mStrCategoryConverter.convert\u001b[1;34m(value, unit, axis)\u001b[0m\n\u001b[0;32m     48\u001b[0m \u001b[38;5;28;01mif\u001b[39;00m unit \u001b[38;5;129;01mis\u001b[39;00m \u001b[38;5;28;01mNone\u001b[39;00m:\n\u001b[1;32m---> 49\u001b[0m     \u001b[38;5;28;01mraise\u001b[39;00m \u001b[38;5;167;01mValueError\u001b[39;00m(\n\u001b[0;32m     50\u001b[0m         \u001b[38;5;124m'\u001b[39m\u001b[38;5;124mMissing category information for StrCategoryConverter; \u001b[39m\u001b[38;5;124m'\u001b[39m\n\u001b[0;32m     51\u001b[0m         \u001b[38;5;124m'\u001b[39m\u001b[38;5;124mthis might be caused by unintendedly mixing categorical and \u001b[39m\u001b[38;5;124m'\u001b[39m\n\u001b[0;32m     52\u001b[0m         \u001b[38;5;124m'\u001b[39m\u001b[38;5;124mnumeric data\u001b[39m\u001b[38;5;124m'\u001b[39m)\n\u001b[0;32m     53\u001b[0m StrCategoryConverter\u001b[38;5;241m.\u001b[39m_validate_unit(unit)\n",
      "\u001b[1;31mValueError\u001b[0m: Missing category information for StrCategoryConverter; this might be caused by unintendedly mixing categorical and numeric data",
      "\nThe above exception was the direct cause of the following exception:\n",
      "\u001b[1;31mConversionError\u001b[0m                           Traceback (most recent call last)",
      "File \u001b[1;32m~\\.conda\\envs\\durhampj\\lib\\site-packages\\IPython\\core\\formatters.py:338\u001b[0m, in \u001b[0;36mBaseFormatter.__call__\u001b[1;34m(self, obj)\u001b[0m\n\u001b[0;32m    336\u001b[0m     \u001b[38;5;28;01mpass\u001b[39;00m\n\u001b[0;32m    337\u001b[0m \u001b[38;5;28;01melse\u001b[39;00m:\n\u001b[1;32m--> 338\u001b[0m     \u001b[38;5;28;01mreturn\u001b[39;00m \u001b[43mprinter\u001b[49m\u001b[43m(\u001b[49m\u001b[43mobj\u001b[49m\u001b[43m)\u001b[49m\n\u001b[0;32m    339\u001b[0m \u001b[38;5;66;03m# Finally look for special method names\u001b[39;00m\n\u001b[0;32m    340\u001b[0m method \u001b[38;5;241m=\u001b[39m get_real_method(obj, \u001b[38;5;28mself\u001b[39m\u001b[38;5;241m.\u001b[39mprint_method)\n",
      "File \u001b[1;32m~\\.conda\\envs\\durhampj\\lib\\site-packages\\IPython\\core\\pylabtools.py:152\u001b[0m, in \u001b[0;36mprint_figure\u001b[1;34m(fig, fmt, bbox_inches, base64, **kwargs)\u001b[0m\n\u001b[0;32m    149\u001b[0m     \u001b[38;5;28;01mfrom\u001b[39;00m \u001b[38;5;21;01mmatplotlib\u001b[39;00m\u001b[38;5;21;01m.\u001b[39;00m\u001b[38;5;21;01mbackend_bases\u001b[39;00m \u001b[38;5;28;01mimport\u001b[39;00m FigureCanvasBase\n\u001b[0;32m    150\u001b[0m     FigureCanvasBase(fig)\n\u001b[1;32m--> 152\u001b[0m fig\u001b[38;5;241m.\u001b[39mcanvas\u001b[38;5;241m.\u001b[39mprint_figure(bytes_io, \u001b[38;5;241m*\u001b[39m\u001b[38;5;241m*\u001b[39mkw)\n\u001b[0;32m    153\u001b[0m data \u001b[38;5;241m=\u001b[39m bytes_io\u001b[38;5;241m.\u001b[39mgetvalue()\n\u001b[0;32m    154\u001b[0m \u001b[38;5;28;01mif\u001b[39;00m fmt \u001b[38;5;241m==\u001b[39m \u001b[38;5;124m'\u001b[39m\u001b[38;5;124msvg\u001b[39m\u001b[38;5;124m'\u001b[39m:\n",
      "File \u001b[1;32m~\\.conda\\envs\\durhampj\\lib\\site-packages\\matplotlib\\backend_bases.py:2342\u001b[0m, in \u001b[0;36mFigureCanvasBase.print_figure\u001b[1;34m(self, filename, dpi, facecolor, edgecolor, orientation, format, bbox_inches, pad_inches, bbox_extra_artists, backend, **kwargs)\u001b[0m\n\u001b[0;32m   2336\u001b[0m     renderer \u001b[38;5;241m=\u001b[39m _get_renderer(\n\u001b[0;32m   2337\u001b[0m         \u001b[38;5;28mself\u001b[39m\u001b[38;5;241m.\u001b[39mfigure,\n\u001b[0;32m   2338\u001b[0m         functools\u001b[38;5;241m.\u001b[39mpartial(\n\u001b[0;32m   2339\u001b[0m             print_method, orientation\u001b[38;5;241m=\u001b[39morientation)\n\u001b[0;32m   2340\u001b[0m     )\n\u001b[0;32m   2341\u001b[0m     \u001b[38;5;28;01mwith\u001b[39;00m \u001b[38;5;28mgetattr\u001b[39m(renderer, \u001b[38;5;124m\"\u001b[39m\u001b[38;5;124m_draw_disabled\u001b[39m\u001b[38;5;124m\"\u001b[39m, nullcontext)():\n\u001b[1;32m-> 2342\u001b[0m         \u001b[38;5;28;43mself\u001b[39;49m\u001b[38;5;241;43m.\u001b[39;49m\u001b[43mfigure\u001b[49m\u001b[38;5;241;43m.\u001b[39;49m\u001b[43mdraw\u001b[49m\u001b[43m(\u001b[49m\u001b[43mrenderer\u001b[49m\u001b[43m)\u001b[49m\n\u001b[0;32m   2344\u001b[0m \u001b[38;5;28;01mif\u001b[39;00m bbox_inches:\n\u001b[0;32m   2345\u001b[0m     \u001b[38;5;28;01mif\u001b[39;00m bbox_inches \u001b[38;5;241m==\u001b[39m \u001b[38;5;124m\"\u001b[39m\u001b[38;5;124mtight\u001b[39m\u001b[38;5;124m\"\u001b[39m:\n",
      "File \u001b[1;32m~\\.conda\\envs\\durhampj\\lib\\site-packages\\matplotlib\\artist.py:95\u001b[0m, in \u001b[0;36m_finalize_rasterization.<locals>.draw_wrapper\u001b[1;34m(artist, renderer, *args, **kwargs)\u001b[0m\n\u001b[0;32m     93\u001b[0m \u001b[38;5;129m@wraps\u001b[39m(draw)\n\u001b[0;32m     94\u001b[0m \u001b[38;5;28;01mdef\u001b[39;00m \u001b[38;5;21mdraw_wrapper\u001b[39m(artist, renderer, \u001b[38;5;241m*\u001b[39margs, \u001b[38;5;241m*\u001b[39m\u001b[38;5;241m*\u001b[39mkwargs):\n\u001b[1;32m---> 95\u001b[0m     result \u001b[38;5;241m=\u001b[39m draw(artist, renderer, \u001b[38;5;241m*\u001b[39margs, \u001b[38;5;241m*\u001b[39m\u001b[38;5;241m*\u001b[39mkwargs)\n\u001b[0;32m     96\u001b[0m     \u001b[38;5;28;01mif\u001b[39;00m renderer\u001b[38;5;241m.\u001b[39m_rasterizing:\n\u001b[0;32m     97\u001b[0m         renderer\u001b[38;5;241m.\u001b[39mstop_rasterizing()\n",
      "File \u001b[1;32m~\\.conda\\envs\\durhampj\\lib\\site-packages\\matplotlib\\artist.py:72\u001b[0m, in \u001b[0;36mallow_rasterization.<locals>.draw_wrapper\u001b[1;34m(artist, renderer)\u001b[0m\n\u001b[0;32m     69\u001b[0m     \u001b[38;5;28;01mif\u001b[39;00m artist\u001b[38;5;241m.\u001b[39mget_agg_filter() \u001b[38;5;129;01mis\u001b[39;00m \u001b[38;5;129;01mnot\u001b[39;00m \u001b[38;5;28;01mNone\u001b[39;00m:\n\u001b[0;32m     70\u001b[0m         renderer\u001b[38;5;241m.\u001b[39mstart_filter()\n\u001b[1;32m---> 72\u001b[0m     \u001b[38;5;28;01mreturn\u001b[39;00m \u001b[43mdraw\u001b[49m\u001b[43m(\u001b[49m\u001b[43martist\u001b[49m\u001b[43m,\u001b[49m\u001b[43m \u001b[49m\u001b[43mrenderer\u001b[49m\u001b[43m)\u001b[49m\n\u001b[0;32m     73\u001b[0m \u001b[38;5;28;01mfinally\u001b[39;00m:\n\u001b[0;32m     74\u001b[0m     \u001b[38;5;28;01mif\u001b[39;00m artist\u001b[38;5;241m.\u001b[39mget_agg_filter() \u001b[38;5;129;01mis\u001b[39;00m \u001b[38;5;129;01mnot\u001b[39;00m \u001b[38;5;28;01mNone\u001b[39;00m:\n",
      "File \u001b[1;32m~\\.conda\\envs\\durhampj\\lib\\site-packages\\matplotlib\\figure.py:3175\u001b[0m, in \u001b[0;36mFigure.draw\u001b[1;34m(self, renderer)\u001b[0m\n\u001b[0;32m   3172\u001b[0m         \u001b[38;5;66;03m# ValueError can occur when resizing a window.\u001b[39;00m\n\u001b[0;32m   3174\u001b[0m \u001b[38;5;28mself\u001b[39m\u001b[38;5;241m.\u001b[39mpatch\u001b[38;5;241m.\u001b[39mdraw(renderer)\n\u001b[1;32m-> 3175\u001b[0m \u001b[43mmimage\u001b[49m\u001b[38;5;241;43m.\u001b[39;49m\u001b[43m_draw_list_compositing_images\u001b[49m\u001b[43m(\u001b[49m\n\u001b[0;32m   3176\u001b[0m \u001b[43m    \u001b[49m\u001b[43mrenderer\u001b[49m\u001b[43m,\u001b[49m\u001b[43m \u001b[49m\u001b[38;5;28;43mself\u001b[39;49m\u001b[43m,\u001b[49m\u001b[43m \u001b[49m\u001b[43martists\u001b[49m\u001b[43m,\u001b[49m\u001b[43m \u001b[49m\u001b[38;5;28;43mself\u001b[39;49m\u001b[38;5;241;43m.\u001b[39;49m\u001b[43msuppressComposite\u001b[49m\u001b[43m)\u001b[49m\n\u001b[0;32m   3178\u001b[0m \u001b[38;5;28;01mfor\u001b[39;00m sfig \u001b[38;5;129;01min\u001b[39;00m \u001b[38;5;28mself\u001b[39m\u001b[38;5;241m.\u001b[39msubfigs:\n\u001b[0;32m   3179\u001b[0m     sfig\u001b[38;5;241m.\u001b[39mdraw(renderer)\n",
      "File \u001b[1;32m~\\.conda\\envs\\durhampj\\lib\\site-packages\\matplotlib\\image.py:131\u001b[0m, in \u001b[0;36m_draw_list_compositing_images\u001b[1;34m(renderer, parent, artists, suppress_composite)\u001b[0m\n\u001b[0;32m    129\u001b[0m \u001b[38;5;28;01mif\u001b[39;00m not_composite \u001b[38;5;129;01mor\u001b[39;00m \u001b[38;5;129;01mnot\u001b[39;00m has_images:\n\u001b[0;32m    130\u001b[0m     \u001b[38;5;28;01mfor\u001b[39;00m a \u001b[38;5;129;01min\u001b[39;00m artists:\n\u001b[1;32m--> 131\u001b[0m         \u001b[43ma\u001b[49m\u001b[38;5;241;43m.\u001b[39;49m\u001b[43mdraw\u001b[49m\u001b[43m(\u001b[49m\u001b[43mrenderer\u001b[49m\u001b[43m)\u001b[49m\n\u001b[0;32m    132\u001b[0m \u001b[38;5;28;01melse\u001b[39;00m:\n\u001b[0;32m    133\u001b[0m     \u001b[38;5;66;03m# Composite any adjacent images together\u001b[39;00m\n\u001b[0;32m    134\u001b[0m     image_group \u001b[38;5;241m=\u001b[39m []\n",
      "File \u001b[1;32m~\\.conda\\envs\\durhampj\\lib\\site-packages\\matplotlib\\artist.py:72\u001b[0m, in \u001b[0;36mallow_rasterization.<locals>.draw_wrapper\u001b[1;34m(artist, renderer)\u001b[0m\n\u001b[0;32m     69\u001b[0m     \u001b[38;5;28;01mif\u001b[39;00m artist\u001b[38;5;241m.\u001b[39mget_agg_filter() \u001b[38;5;129;01mis\u001b[39;00m \u001b[38;5;129;01mnot\u001b[39;00m \u001b[38;5;28;01mNone\u001b[39;00m:\n\u001b[0;32m     70\u001b[0m         renderer\u001b[38;5;241m.\u001b[39mstart_filter()\n\u001b[1;32m---> 72\u001b[0m     \u001b[38;5;28;01mreturn\u001b[39;00m \u001b[43mdraw\u001b[49m\u001b[43m(\u001b[49m\u001b[43martist\u001b[49m\u001b[43m,\u001b[49m\u001b[43m \u001b[49m\u001b[43mrenderer\u001b[49m\u001b[43m)\u001b[49m\n\u001b[0;32m     73\u001b[0m \u001b[38;5;28;01mfinally\u001b[39;00m:\n\u001b[0;32m     74\u001b[0m     \u001b[38;5;28;01mif\u001b[39;00m artist\u001b[38;5;241m.\u001b[39mget_agg_filter() \u001b[38;5;129;01mis\u001b[39;00m \u001b[38;5;129;01mnot\u001b[39;00m \u001b[38;5;28;01mNone\u001b[39;00m:\n",
      "File \u001b[1;32m~\\.conda\\envs\\durhampj\\lib\\site-packages\\matplotlib\\axes\\_base.py:3064\u001b[0m, in \u001b[0;36m_AxesBase.draw\u001b[1;34m(self, renderer)\u001b[0m\n\u001b[0;32m   3061\u001b[0m \u001b[38;5;28;01mif\u001b[39;00m artists_rasterized:\n\u001b[0;32m   3062\u001b[0m     _draw_rasterized(\u001b[38;5;28mself\u001b[39m\u001b[38;5;241m.\u001b[39mfigure, artists_rasterized, renderer)\n\u001b[1;32m-> 3064\u001b[0m \u001b[43mmimage\u001b[49m\u001b[38;5;241;43m.\u001b[39;49m\u001b[43m_draw_list_compositing_images\u001b[49m\u001b[43m(\u001b[49m\n\u001b[0;32m   3065\u001b[0m \u001b[43m    \u001b[49m\u001b[43mrenderer\u001b[49m\u001b[43m,\u001b[49m\u001b[43m \u001b[49m\u001b[38;5;28;43mself\u001b[39;49m\u001b[43m,\u001b[49m\u001b[43m \u001b[49m\u001b[43martists\u001b[49m\u001b[43m,\u001b[49m\u001b[43m \u001b[49m\u001b[38;5;28;43mself\u001b[39;49m\u001b[38;5;241;43m.\u001b[39;49m\u001b[43mfigure\u001b[49m\u001b[38;5;241;43m.\u001b[39;49m\u001b[43msuppressComposite\u001b[49m\u001b[43m)\u001b[49m\n\u001b[0;32m   3067\u001b[0m renderer\u001b[38;5;241m.\u001b[39mclose_group(\u001b[38;5;124m'\u001b[39m\u001b[38;5;124maxes\u001b[39m\u001b[38;5;124m'\u001b[39m)\n\u001b[0;32m   3068\u001b[0m \u001b[38;5;28mself\u001b[39m\u001b[38;5;241m.\u001b[39mstale \u001b[38;5;241m=\u001b[39m \u001b[38;5;28;01mFalse\u001b[39;00m\n",
      "File \u001b[1;32m~\\.conda\\envs\\durhampj\\lib\\site-packages\\matplotlib\\image.py:131\u001b[0m, in \u001b[0;36m_draw_list_compositing_images\u001b[1;34m(renderer, parent, artists, suppress_composite)\u001b[0m\n\u001b[0;32m    129\u001b[0m \u001b[38;5;28;01mif\u001b[39;00m not_composite \u001b[38;5;129;01mor\u001b[39;00m \u001b[38;5;129;01mnot\u001b[39;00m has_images:\n\u001b[0;32m    130\u001b[0m     \u001b[38;5;28;01mfor\u001b[39;00m a \u001b[38;5;129;01min\u001b[39;00m artists:\n\u001b[1;32m--> 131\u001b[0m         \u001b[43ma\u001b[49m\u001b[38;5;241;43m.\u001b[39;49m\u001b[43mdraw\u001b[49m\u001b[43m(\u001b[49m\u001b[43mrenderer\u001b[49m\u001b[43m)\u001b[49m\n\u001b[0;32m    132\u001b[0m \u001b[38;5;28;01melse\u001b[39;00m:\n\u001b[0;32m    133\u001b[0m     \u001b[38;5;66;03m# Composite any adjacent images together\u001b[39;00m\n\u001b[0;32m    134\u001b[0m     image_group \u001b[38;5;241m=\u001b[39m []\n",
      "File \u001b[1;32m~\\.conda\\envs\\durhampj\\lib\\site-packages\\matplotlib\\artist.py:72\u001b[0m, in \u001b[0;36mallow_rasterization.<locals>.draw_wrapper\u001b[1;34m(artist, renderer)\u001b[0m\n\u001b[0;32m     69\u001b[0m     \u001b[38;5;28;01mif\u001b[39;00m artist\u001b[38;5;241m.\u001b[39mget_agg_filter() \u001b[38;5;129;01mis\u001b[39;00m \u001b[38;5;129;01mnot\u001b[39;00m \u001b[38;5;28;01mNone\u001b[39;00m:\n\u001b[0;32m     70\u001b[0m         renderer\u001b[38;5;241m.\u001b[39mstart_filter()\n\u001b[1;32m---> 72\u001b[0m     \u001b[38;5;28;01mreturn\u001b[39;00m \u001b[43mdraw\u001b[49m\u001b[43m(\u001b[49m\u001b[43martist\u001b[49m\u001b[43m,\u001b[49m\u001b[43m \u001b[49m\u001b[43mrenderer\u001b[49m\u001b[43m)\u001b[49m\n\u001b[0;32m     73\u001b[0m \u001b[38;5;28;01mfinally\u001b[39;00m:\n\u001b[0;32m     74\u001b[0m     \u001b[38;5;28;01mif\u001b[39;00m artist\u001b[38;5;241m.\u001b[39mget_agg_filter() \u001b[38;5;129;01mis\u001b[39;00m \u001b[38;5;129;01mnot\u001b[39;00m \u001b[38;5;28;01mNone\u001b[39;00m:\n",
      "File \u001b[1;32m~\\.conda\\envs\\durhampj\\lib\\site-packages\\matplotlib\\text.py:757\u001b[0m, in \u001b[0;36mText.draw\u001b[1;34m(self, renderer)\u001b[0m\n\u001b[0;32m    753\u001b[0m trans \u001b[38;5;241m=\u001b[39m \u001b[38;5;28mself\u001b[39m\u001b[38;5;241m.\u001b[39mget_transform()\n\u001b[0;32m    755\u001b[0m \u001b[38;5;66;03m# don't use self.get_position here, which refers to text\u001b[39;00m\n\u001b[0;32m    756\u001b[0m \u001b[38;5;66;03m# position in Text:\u001b[39;00m\n\u001b[1;32m--> 757\u001b[0m posx \u001b[38;5;241m=\u001b[39m \u001b[38;5;28mfloat\u001b[39m(\u001b[38;5;28;43mself\u001b[39;49m\u001b[38;5;241;43m.\u001b[39;49m\u001b[43mconvert_xunits\u001b[49m\u001b[43m(\u001b[49m\u001b[38;5;28;43mself\u001b[39;49m\u001b[38;5;241;43m.\u001b[39;49m\u001b[43m_x\u001b[49m\u001b[43m)\u001b[49m)\n\u001b[0;32m    758\u001b[0m posy \u001b[38;5;241m=\u001b[39m \u001b[38;5;28mfloat\u001b[39m(\u001b[38;5;28mself\u001b[39m\u001b[38;5;241m.\u001b[39mconvert_yunits(\u001b[38;5;28mself\u001b[39m\u001b[38;5;241m.\u001b[39m_y))\n\u001b[0;32m    759\u001b[0m posx, posy \u001b[38;5;241m=\u001b[39m trans\u001b[38;5;241m.\u001b[39mtransform((posx, posy))\n",
      "File \u001b[1;32m~\\.conda\\envs\\durhampj\\lib\\site-packages\\matplotlib\\artist.py:281\u001b[0m, in \u001b[0;36mArtist.convert_xunits\u001b[1;34m(self, x)\u001b[0m\n\u001b[0;32m    279\u001b[0m \u001b[38;5;28;01mif\u001b[39;00m ax \u001b[38;5;129;01mis\u001b[39;00m \u001b[38;5;28;01mNone\u001b[39;00m \u001b[38;5;129;01mor\u001b[39;00m ax\u001b[38;5;241m.\u001b[39mxaxis \u001b[38;5;129;01mis\u001b[39;00m \u001b[38;5;28;01mNone\u001b[39;00m:\n\u001b[0;32m    280\u001b[0m     \u001b[38;5;28;01mreturn\u001b[39;00m x\n\u001b[1;32m--> 281\u001b[0m \u001b[38;5;28;01mreturn\u001b[39;00m \u001b[43max\u001b[49m\u001b[38;5;241;43m.\u001b[39;49m\u001b[43mxaxis\u001b[49m\u001b[38;5;241;43m.\u001b[39;49m\u001b[43mconvert_units\u001b[49m\u001b[43m(\u001b[49m\u001b[43mx\u001b[49m\u001b[43m)\u001b[49m\n",
      "File \u001b[1;32m~\\.conda\\envs\\durhampj\\lib\\site-packages\\matplotlib\\axis.py:1734\u001b[0m, in \u001b[0;36mAxis.convert_units\u001b[1;34m(self, x)\u001b[0m\n\u001b[0;32m   1732\u001b[0m     ret \u001b[38;5;241m=\u001b[39m \u001b[38;5;28mself\u001b[39m\u001b[38;5;241m.\u001b[39mconverter\u001b[38;5;241m.\u001b[39mconvert(x, \u001b[38;5;28mself\u001b[39m\u001b[38;5;241m.\u001b[39munits, \u001b[38;5;28mself\u001b[39m)\n\u001b[0;32m   1733\u001b[0m \u001b[38;5;28;01mexcept\u001b[39;00m \u001b[38;5;167;01mException\u001b[39;00m \u001b[38;5;28;01mas\u001b[39;00m e:\n\u001b[1;32m-> 1734\u001b[0m     \u001b[38;5;28;01mraise\u001b[39;00m munits\u001b[38;5;241m.\u001b[39mConversionError(\u001b[38;5;124m'\u001b[39m\u001b[38;5;124mFailed to convert value(s) to axis \u001b[39m\u001b[38;5;124m'\u001b[39m\n\u001b[0;32m   1735\u001b[0m                                  \u001b[38;5;124mf\u001b[39m\u001b[38;5;124m'\u001b[39m\u001b[38;5;124munits: \u001b[39m\u001b[38;5;132;01m{\u001b[39;00mx\u001b[38;5;132;01m!r}\u001b[39;00m\u001b[38;5;124m'\u001b[39m) \u001b[38;5;28;01mfrom\u001b[39;00m \u001b[38;5;21;01me\u001b[39;00m\n\u001b[0;32m   1736\u001b[0m \u001b[38;5;28;01mreturn\u001b[39;00m ret\n",
      "\u001b[1;31mConversionError\u001b[0m: Failed to convert value(s) to axis units: 'WASHINGTON DC'"
     ]
    },
    {
     "data": {
      "text/plain": [
       "<Figure size 1200x700 with 1 Axes>"
      ]
     },
     "metadata": {},
     "output_type": "display_data"
    }
   ],
   "source": [
    "# plot a stacked bar chart\n",
    "cities = df.City.unique()\n",
    "cabs = {'pink cab': profits_per_city.loc['Pink Cab', 'Profits'].to_numpy(),\n",
    "       'yellow cab': profits_per_city.loc['Yellow Cab', 'Profits'].to_numpy()}\n",
    "\n",
    "bottom = np.zeros(len(cities))\n",
    "\n",
    "fig, ax = plt.subplots(figsize=(12, 7))\n",
    "\n",
    "x = np.arange(len(cities))\n",
    "\n",
    "multiplier = 0\n",
    "width = 0.25\n",
    "\n",
    "for label, cab in cabs.items():\n",
    "    offset = width * multiplier\n",
    "    ax.bar(x = x + offset,\n",
    "          height = cab,\n",
    "           width = width,\n",
    "          label = label,\n",
    "          bottom = bottom,\n",
    "          color = 'pink' if label == 'pink cab' else 'yellow')\n",
    "    multiplier += 1\n",
    "#     bottom += cab\n",
    "    \n",
    "# add title and axes label\n",
    "ax.set_xticks(x + width, cities)\n",
    "ax.set_title(\"Average profit per city\")\n",
    "ax.set_xlabel(\"Cities\")\n",
    "ax.set_ylabel(\"Profits (USD)\")\n",
    "ax.tick_params(axis='x', labelrotation = 90)\n",
    "# add annotation\n",
    "pink_lists, yellow_lists = cabs.values()\n",
    "for c, pc, yc in zip(cities, pink_lists, yellow_lists):\n",
    "    ax.text(x = c,\n",
    "           y = pc / 2,\n",
    "           s = round(pc, 2),\n",
    "           horizontalalignment =  'center',\n",
    "           rotation = 90)\n",
    "    ax.text(x = c,\n",
    "           y = (pc + yc) /2,\n",
    "           s = round(yc, 2),\n",
    "           horizontalalignment = 'center', \n",
    "           rotation = 90)\n",
    "\n",
    "ax.legend()\n",
    "plt.show()"
   ]
  },
  {
   "cell_type": "code",
   "execution_count": null,
   "id": "6a80dd5c",
   "metadata": {},
   "outputs": [],
   "source": []
  },
  {
   "cell_type": "code",
   "execution_count": null,
   "id": "aa772838",
   "metadata": {},
   "outputs": [],
   "source": []
  },
  {
   "cell_type": "code",
   "execution_count": null,
   "id": "855848e1",
   "metadata": {},
   "outputs": [],
   "source": []
  },
  {
   "cell_type": "code",
   "execution_count": null,
   "id": "a8fe9447",
   "metadata": {},
   "outputs": [],
   "source": []
  },
  {
   "cell_type": "code",
   "execution_count": 62,
   "id": "37d05f7b",
   "metadata": {},
   "outputs": [
    {
     "data": {
      "text/plain": [
       "Index(['Transaction_ID', 'Company', 'City', 'KM_Travelled', 'Price_Charged',\n",
       "       'Cost_of_Trip', 'Customer_ID', 'Payment_Mode', 'Gender', 'Age',\n",
       "       'Income', 'Population', 'Users', 'Profits'],\n",
       "      dtype='object')"
      ]
     },
     "execution_count": 62,
     "metadata": {},
     "output_type": "execute_result"
    }
   ],
   "source": [
    "df.columns"
   ]
  },
  {
   "cell_type": "code",
   "execution_count": null,
   "id": "45cba312",
   "metadata": {},
   "outputs": [],
   "source": []
  },
  {
   "cell_type": "code",
   "execution_count": null,
   "id": "ea60356e",
   "metadata": {},
   "outputs": [],
   "source": []
  },
  {
   "cell_type": "code",
   "execution_count": null,
   "id": "7aabbf98",
   "metadata": {},
   "outputs": [],
   "source": []
  },
  {
   "cell_type": "code",
   "execution_count": null,
   "id": "e10da047",
   "metadata": {},
   "outputs": [],
   "source": []
  },
  {
   "cell_type": "code",
   "execution_count": null,
   "id": "eb3180f2",
   "metadata": {},
   "outputs": [],
   "source": []
  },
  {
   "cell_type": "code",
   "execution_count": null,
   "id": "45993326",
   "metadata": {},
   "outputs": [],
   "source": []
  },
  {
   "cell_type": "code",
   "execution_count": null,
   "id": "b1e3192e",
   "metadata": {},
   "outputs": [],
   "source": []
  },
  {
   "cell_type": "code",
   "execution_count": null,
   "id": "9aa0e3c2",
   "metadata": {},
   "outputs": [],
   "source": []
  },
  {
   "cell_type": "code",
   "execution_count": null,
   "id": "2c9affd3",
   "metadata": {},
   "outputs": [],
   "source": []
  },
  {
   "cell_type": "code",
   "execution_count": null,
   "id": "7d91183a",
   "metadata": {},
   "outputs": [],
   "source": []
  },
  {
   "cell_type": "code",
   "execution_count": null,
   "id": "f897d474",
   "metadata": {},
   "outputs": [],
   "source": []
  },
  {
   "cell_type": "code",
   "execution_count": null,
   "id": "0998bb31",
   "metadata": {},
   "outputs": [],
   "source": []
  },
  {
   "cell_type": "code",
   "execution_count": null,
   "id": "97cfe962",
   "metadata": {},
   "outputs": [],
   "source": []
  },
  {
   "cell_type": "code",
   "execution_count": null,
   "id": "3eb3edb8",
   "metadata": {},
   "outputs": [],
   "source": []
  },
  {
   "cell_type": "code",
   "execution_count": null,
   "id": "cb251591",
   "metadata": {},
   "outputs": [],
   "source": []
  },
  {
   "cell_type": "code",
   "execution_count": null,
   "id": "c2d4dfc6",
   "metadata": {},
   "outputs": [],
   "source": []
  },
  {
   "cell_type": "code",
   "execution_count": null,
   "id": "ff043047",
   "metadata": {},
   "outputs": [],
   "source": []
  },
  {
   "cell_type": "code",
   "execution_count": 49,
   "id": "40fe5246",
   "metadata": {},
   "outputs": [
    {
     "data": {
      "image/png": "[encoded data removed]",
      "text/plain": [
       "<Figure size 1200x700 with 1 Axes>"
      ]
     },
     "metadata": {},
     "output_type": "display_data"
    }
   ],
   "source": [
    "plt.figure(figsize = (12, 7))\n",
    "df.groupby('Company').Users.mean().plot(kind='pie', autopct='%1.1f%%', colors = ['pink', 'yellow'])\n",
    "plt.show()"
   ]
  },
  {
   "cell_type": "code",
   "execution_count": null,
   "id": "36ae66bc",
   "metadata": {},
   "outputs": [],
   "source": []
  }
 ],
 "metadata": {
  "kernelspec": {
   "display_name": "Python 3 (ipykernel)",
   "language": "python",
   "name": "python3"
  },
  "language_info": {
   "codemirror_mode": {
    "name": "ipython",
    "version": 3
   },
   "file_extension": ".py",
   "mimetype": "text/x-python",
   "name": "python",
   "nbconvert_exporter": "python",
   "pygments_lexer": "ipython3",
   "version": "3.10.13"
  }
 },
 "nbformat": 4,
 "nbformat_minor": 5
}

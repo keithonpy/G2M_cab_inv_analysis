{
 "cells": [
  {
   "cell_type": "markdown",
   "id": "e76942b5",
   "metadata": {},
   "source": [
    "# G2M insight for Cab Investment"
   ]
  },
  {
   "cell_type": "markdown",
   "id": "c0058b0e",
   "metadata": {},
   "source": [
    "## 1. Business problem\n",
    "The main purpose of the project is to determine the investment opportunity in cab business. Go-to-market (G2M) strategies predict the potential challenges by identifying the target market, clarifying the value proposition, defining the pricing strategy etc."
   ]
  },
  {
   "cell_type": "markdown",
   "id": "dfd32e87",
   "metadata": {},
   "source": [
    "## 2. Hypothesis\n",
    "1. How was the profit change against time?\n",
    "1. How was the demand of the cab business?\n",
    "1. How was the profits in different cities?\n",
    "1. How was the customer loyalty rates?\n",
    "1. How was the demand varies according to age, income, gender and cities?\n",
    "1. Which payment method was more popular among age, income, gender and cities?"
   ]
  },
  {
   "cell_type": "markdown",
   "id": "7dc1a801",
   "metadata": {},
   "source": [
    "## 3. Data Understanding and Preparation "
   ]
  },
  {
   "cell_type": "code",
   "execution_count": 20,
   "id": "e1f3328b",
   "metadata": {},
   "outputs": [],
   "source": [
    "import numpy as np\n",
    "import seaborn as sns\n",
    "import matplotlib.pyplot as plt\n",
    "import pandas as pd\n",
    "from datetime import datetime, timedelta"
   ]
  },
  {
   "cell_type": "code",
   "execution_count": 21,
   "id": "d70b88f7",
   "metadata": {},
   "outputs": [],
   "source": [
    "cab = pd.read_csv('./Datasets/Cab_data.csv')\n",
    "city = pd.read_csv('./Datasets/City.csv')\n",
    "customer = pd.read_csv('./Datasets/Customer_ID.csv')\n",
    "transaction = pd.read_csv('./Datasets/Transaction_ID.csv')"
   ]
  },
  {
   "cell_type": "markdown",
   "id": "9191aa51",
   "metadata": {},
   "source": [
    "### 3.1 Cab dataset"
   ]
  },
  {
   "cell_type": "code",
   "execution_count": 22,
   "id": "c5aa8b51",
   "metadata": {},
   "outputs": [
    {
     "name": "stdout",
     "output_type": "stream",
     "text": [
      "Shape of the Cab dataset: (359392, 7)\n",
      "Data Types of the data:\n",
      "Transaction ID      int64\n",
      "Date of Travel      int64\n",
      "Company            object\n",
      "City               object\n",
      "KM Travelled      float64\n",
      "Price Charged     float64\n",
      "Cost of Trip      float64\n",
      "dtype: object\n"
     ]
    },
    {
     "data": {
      "text/html": [
       "<div>\n",
       "<style scoped>\n",
       "    .dataframe tbody tr th:only-of-type {\n",
       "        vertical-align: middle;\n",
       "    }\n",
       "\n",
       "    .dataframe tbody tr th {\n",
       "        vertical-align: top;\n",
       "    }\n",
       "\n",
       "    .dataframe thead th {\n",
       "        text-align: right;\n",
       "    }\n",
       "</style>\n",
       "<table border=\"1\" class=\"dataframe\">\n",
       "  <thead>\n",
       "    <tr style=\"text-align: right;\">\n",
       "      <th></th>\n",
       "      <th>Transaction ID</th>\n",
       "      <th>Date of Travel</th>\n",
       "      <th>Company</th>\n",
       "      <th>City</th>\n",
       "      <th>KM Travelled</th>\n",
       "      <th>Price Charged</th>\n",
       "      <th>Cost of Trip</th>\n",
       "    </tr>\n",
       "  </thead>\n",
       "  <tbody>\n",
       "    <tr>\n",
       "      <th>0</th>\n",
       "      <td>10000011</td>\n",
       "      <td>42377</td>\n",
       "      <td>Pink Cab</td>\n",
       "      <td>ATLANTA GA</td>\n",
       "      <td>30.45</td>\n",
       "      <td>370.95</td>\n",
       "      <td>313.635</td>\n",
       "    </tr>\n",
       "    <tr>\n",
       "      <th>1</th>\n",
       "      <td>10000012</td>\n",
       "      <td>42375</td>\n",
       "      <td>Pink Cab</td>\n",
       "      <td>ATLANTA GA</td>\n",
       "      <td>28.62</td>\n",
       "      <td>358.52</td>\n",
       "      <td>334.854</td>\n",
       "    </tr>\n",
       "    <tr>\n",
       "      <th>2</th>\n",
       "      <td>10000013</td>\n",
       "      <td>42371</td>\n",
       "      <td>Pink Cab</td>\n",
       "      <td>ATLANTA GA</td>\n",
       "      <td>9.04</td>\n",
       "      <td>125.20</td>\n",
       "      <td>97.632</td>\n",
       "    </tr>\n",
       "    <tr>\n",
       "      <th>3</th>\n",
       "      <td>10000014</td>\n",
       "      <td>42376</td>\n",
       "      <td>Pink Cab</td>\n",
       "      <td>ATLANTA GA</td>\n",
       "      <td>33.17</td>\n",
       "      <td>377.40</td>\n",
       "      <td>351.602</td>\n",
       "    </tr>\n",
       "    <tr>\n",
       "      <th>4</th>\n",
       "      <td>10000015</td>\n",
       "      <td>42372</td>\n",
       "      <td>Pink Cab</td>\n",
       "      <td>ATLANTA GA</td>\n",
       "      <td>8.73</td>\n",
       "      <td>114.62</td>\n",
       "      <td>97.776</td>\n",
       "    </tr>\n",
       "  </tbody>\n",
       "</table>\n",
       "</div>"
      ],
      "text/plain": [
       "   Transaction ID  Date of Travel   Company        City  KM Travelled  \\\n",
       "0        10000011           42377  Pink Cab  ATLANTA GA         30.45   \n",
       "1        10000012           42375  Pink Cab  ATLANTA GA         28.62   \n",
       "2        10000013           42371  Pink Cab  ATLANTA GA          9.04   \n",
       "3        10000014           42376  Pink Cab  ATLANTA GA         33.17   \n",
       "4        10000015           42372  Pink Cab  ATLANTA GA          8.73   \n",
       "\n",
       "   Price Charged  Cost of Trip  \n",
       "0         370.95       313.635  \n",
       "1         358.52       334.854  \n",
       "2         125.20        97.632  \n",
       "3         377.40       351.602  \n",
       "4         114.62        97.776  "
      ]
     },
     "execution_count": 22,
     "metadata": {},
     "output_type": "execute_result"
    }
   ],
   "source": [
    "print(f\"Shape of the Cab dataset: {cab.shape}\")\n",
    "print(f\"Data Types of the data:\\n{cab.dtypes}\")\n",
    "cab.head()"
   ]
  },
  {
   "cell_type": "markdown",
   "id": "d9a8b9f9",
   "metadata": {},
   "source": [
    "The `Date of Travel` column is not in a correct datatype"
   ]
  },
  {
   "cell_type": "code",
   "execution_count": 23,
   "id": "8cad0863",
   "metadata": {},
   "outputs": [
    {
     "data": {
      "text/html": [
       "<div>\n",
       "<style scoped>\n",
       "    .dataframe tbody tr th:only-of-type {\n",
       "        vertical-align: middle;\n",
       "    }\n",
       "\n",
       "    .dataframe tbody tr th {\n",
       "        vertical-align: top;\n",
       "    }\n",
       "\n",
       "    .dataframe thead th {\n",
       "        text-align: right;\n",
       "    }\n",
       "</style>\n",
       "<table border=\"1\" class=\"dataframe\">\n",
       "  <thead>\n",
       "    <tr style=\"text-align: right;\">\n",
       "      <th></th>\n",
       "      <th>Transaction ID</th>\n",
       "      <th>Date of Travel</th>\n",
       "      <th>Company</th>\n",
       "      <th>City</th>\n",
       "      <th>KM Travelled</th>\n",
       "      <th>Price Charged</th>\n",
       "      <th>Cost of Trip</th>\n",
       "    </tr>\n",
       "  </thead>\n",
       "  <tbody>\n",
       "    <tr>\n",
       "      <th>0</th>\n",
       "      <td>10000011</td>\n",
       "      <td>2016-01-08</td>\n",
       "      <td>Pink Cab</td>\n",
       "      <td>ATLANTA GA</td>\n",
       "      <td>30.45</td>\n",
       "      <td>370.95</td>\n",
       "      <td>313.635</td>\n",
       "    </tr>\n",
       "    <tr>\n",
       "      <th>1</th>\n",
       "      <td>10000012</td>\n",
       "      <td>2016-01-06</td>\n",
       "      <td>Pink Cab</td>\n",
       "      <td>ATLANTA GA</td>\n",
       "      <td>28.62</td>\n",
       "      <td>358.52</td>\n",
       "      <td>334.854</td>\n",
       "    </tr>\n",
       "    <tr>\n",
       "      <th>2</th>\n",
       "      <td>10000013</td>\n",
       "      <td>2016-01-02</td>\n",
       "      <td>Pink Cab</td>\n",
       "      <td>ATLANTA GA</td>\n",
       "      <td>9.04</td>\n",
       "      <td>125.20</td>\n",
       "      <td>97.632</td>\n",
       "    </tr>\n",
       "    <tr>\n",
       "      <th>3</th>\n",
       "      <td>10000014</td>\n",
       "      <td>2016-01-07</td>\n",
       "      <td>Pink Cab</td>\n",
       "      <td>ATLANTA GA</td>\n",
       "      <td>33.17</td>\n",
       "      <td>377.40</td>\n",
       "      <td>351.602</td>\n",
       "    </tr>\n",
       "    <tr>\n",
       "      <th>4</th>\n",
       "      <td>10000015</td>\n",
       "      <td>2016-01-03</td>\n",
       "      <td>Pink Cab</td>\n",
       "      <td>ATLANTA GA</td>\n",
       "      <td>8.73</td>\n",
       "      <td>114.62</td>\n",
       "      <td>97.776</td>\n",
       "    </tr>\n",
       "  </tbody>\n",
       "</table>\n",
       "</div>"
      ],
      "text/plain": [
       "   Transaction ID Date of Travel   Company        City  KM Travelled  \\\n",
       "0        10000011     2016-01-08  Pink Cab  ATLANTA GA         30.45   \n",
       "1        10000012     2016-01-06  Pink Cab  ATLANTA GA         28.62   \n",
       "2        10000013     2016-01-02  Pink Cab  ATLANTA GA          9.04   \n",
       "3        10000014     2016-01-07  Pink Cab  ATLANTA GA         33.17   \n",
       "4        10000015     2016-01-03  Pink Cab  ATLANTA GA          8.73   \n",
       "\n",
       "   Price Charged  Cost of Trip  \n",
       "0         370.95       313.635  \n",
       "1         358.52       334.854  \n",
       "2         125.20        97.632  \n",
       "3         377.40       351.602  \n",
       "4         114.62        97.776  "
      ]
     },
     "execution_count": 23,
     "metadata": {},
     "output_type": "execute_result"
    }
   ],
   "source": [
    "# convert the date\n",
    "def to_date(n):\n",
    "    date_str = (datetime(1899, 12, 30) + timedelta(days= float(n))).strftime(\"%Y-%m-%d\")\n",
    "    date = datetime.strptime(date_str, \"%Y-%m-%d\")\n",
    "    return date\n",
    "\n",
    "cab['Date of Travel'] = cab['Date of Travel'].apply(lambda x: to_date(x))\n",
    "cab.head()"
   ]
  },
  {
   "cell_type": "code",
   "execution_count": 24,
   "id": "cd8c4eae",
   "metadata": {},
   "outputs": [],
   "source": [
    "# sort with date\n",
    "cab = cab.sort_values(by = 'Date of Travel') \\\n",
    "    .reset_index(drop= True)"
   ]
  },
  {
   "cell_type": "code",
   "execution_count": 25,
   "id": "70b17101",
   "metadata": {},
   "outputs": [
    {
     "data": {
      "text/html": [
       "<div>\n",
       "<style scoped>\n",
       "    .dataframe tbody tr th:only-of-type {\n",
       "        vertical-align: middle;\n",
       "    }\n",
       "\n",
       "    .dataframe tbody tr th {\n",
       "        vertical-align: top;\n",
       "    }\n",
       "\n",
       "    .dataframe thead th {\n",
       "        text-align: right;\n",
       "    }\n",
       "</style>\n",
       "<table border=\"1\" class=\"dataframe\">\n",
       "  <thead>\n",
       "    <tr style=\"text-align: right;\">\n",
       "      <th></th>\n",
       "      <th>Transaction ID</th>\n",
       "      <th>Date of Travel</th>\n",
       "      <th>Company</th>\n",
       "      <th>City</th>\n",
       "      <th>KM Travelled</th>\n",
       "      <th>Price Charged</th>\n",
       "      <th>Cost of Trip</th>\n",
       "    </tr>\n",
       "  </thead>\n",
       "  <tbody>\n",
       "    <tr>\n",
       "      <th>0</th>\n",
       "      <td>10001340</td>\n",
       "      <td>2016-01-02</td>\n",
       "      <td>Yellow Cab</td>\n",
       "      <td>WASHINGTON DC</td>\n",
       "      <td>10.20</td>\n",
       "      <td>202.54</td>\n",
       "      <td>135.8640</td>\n",
       "    </tr>\n",
       "    <tr>\n",
       "      <th>1</th>\n",
       "      <td>10000640</td>\n",
       "      <td>2016-01-02</td>\n",
       "      <td>Yellow Cab</td>\n",
       "      <td>CHICAGO IL</td>\n",
       "      <td>15.60</td>\n",
       "      <td>374.66</td>\n",
       "      <td>209.6640</td>\n",
       "    </tr>\n",
       "    <tr>\n",
       "      <th>2</th>\n",
       "      <td>10000635</td>\n",
       "      <td>2016-01-02</td>\n",
       "      <td>Yellow Cab</td>\n",
       "      <td>CHICAGO IL</td>\n",
       "      <td>25.08</td>\n",
       "      <td>532.83</td>\n",
       "      <td>337.0752</td>\n",
       "    </tr>\n",
       "    <tr>\n",
       "      <th>3</th>\n",
       "      <td>10001001</td>\n",
       "      <td>2016-01-02</td>\n",
       "      <td>Yellow Cab</td>\n",
       "      <td>NEW YORK NY</td>\n",
       "      <td>46.80</td>\n",
       "      <td>1391.91</td>\n",
       "      <td>595.2960</td>\n",
       "    </tr>\n",
       "    <tr>\n",
       "      <th>4</th>\n",
       "      <td>10000171</td>\n",
       "      <td>2016-01-02</td>\n",
       "      <td>Pink Cab</td>\n",
       "      <td>SAN DIEGO CA</td>\n",
       "      <td>14.28</td>\n",
       "      <td>269.15</td>\n",
       "      <td>147.0840</td>\n",
       "    </tr>\n",
       "  </tbody>\n",
       "</table>\n",
       "</div>"
      ],
      "text/plain": [
       "   Transaction ID Date of Travel     Company           City  KM Travelled  \\\n",
       "0        10001340     2016-01-02  Yellow Cab  WASHINGTON DC         10.20   \n",
       "1        10000640     2016-01-02  Yellow Cab     CHICAGO IL         15.60   \n",
       "2        10000635     2016-01-02  Yellow Cab     CHICAGO IL         25.08   \n",
       "3        10001001     2016-01-02  Yellow Cab    NEW YORK NY         46.80   \n",
       "4        10000171     2016-01-02    Pink Cab   SAN DIEGO CA         14.28   \n",
       "\n",
       "   Price Charged  Cost of Trip  \n",
       "0         202.54      135.8640  \n",
       "1         374.66      209.6640  \n",
       "2         532.83      337.0752  \n",
       "3        1391.91      595.2960  \n",
       "4         269.15      147.0840  "
      ]
     },
     "execution_count": 25,
     "metadata": {},
     "output_type": "execute_result"
    }
   ],
   "source": [
    "cab.head()"
   ]
  },
  {
   "cell_type": "code",
   "execution_count": 44,
   "id": "c2326eb8",
   "metadata": {},
   "outputs": [
    {
     "data": {
      "text/html": [
       "<div>\n",
       "<style scoped>\n",
       "    .dataframe tbody tr th:only-of-type {\n",
       "        vertical-align: middle;\n",
       "    }\n",
       "\n",
       "    .dataframe tbody tr th {\n",
       "        vertical-align: top;\n",
       "    }\n",
       "\n",
       "    .dataframe thead th {\n",
       "        text-align: right;\n",
       "    }\n",
       "</style>\n",
       "<table border=\"1\" class=\"dataframe\">\n",
       "  <thead>\n",
       "    <tr style=\"text-align: right;\">\n",
       "      <th></th>\n",
       "      <th>Transaction ID</th>\n",
       "      <th>Date of Travel</th>\n",
       "      <th>KM Travelled</th>\n",
       "      <th>Price Charged</th>\n",
       "      <th>Cost of Trip</th>\n",
       "    </tr>\n",
       "  </thead>\n",
       "  <tbody>\n",
       "    <tr>\n",
       "      <th>count</th>\n",
       "      <td>359392.00</td>\n",
       "      <td>359392</td>\n",
       "      <td>359392.00</td>\n",
       "      <td>359392.00</td>\n",
       "      <td>359392.00</td>\n",
       "    </tr>\n",
       "    <tr>\n",
       "      <th>mean</th>\n",
       "      <td>10220761.19</td>\n",
       "      <td>2017-08-17 01:37:55.042294016</td>\n",
       "      <td>22.57</td>\n",
       "      <td>423.44</td>\n",
       "      <td>286.19</td>\n",
       "    </tr>\n",
       "    <tr>\n",
       "      <th>min</th>\n",
       "      <td>10000011.00</td>\n",
       "      <td>2016-01-02 00:00:00</td>\n",
       "      <td>1.90</td>\n",
       "      <td>15.60</td>\n",
       "      <td>19.00</td>\n",
       "    </tr>\n",
       "    <tr>\n",
       "      <th>25%</th>\n",
       "      <td>10110809.75</td>\n",
       "      <td>2016-11-23 00:00:00</td>\n",
       "      <td>12.00</td>\n",
       "      <td>206.44</td>\n",
       "      <td>151.20</td>\n",
       "    </tr>\n",
       "    <tr>\n",
       "      <th>50%</th>\n",
       "      <td>10221035.50</td>\n",
       "      <td>2017-09-10 00:00:00</td>\n",
       "      <td>22.44</td>\n",
       "      <td>386.36</td>\n",
       "      <td>282.48</td>\n",
       "    </tr>\n",
       "    <tr>\n",
       "      <th>75%</th>\n",
       "      <td>10330937.25</td>\n",
       "      <td>2018-05-12 00:00:00</td>\n",
       "      <td>32.96</td>\n",
       "      <td>583.66</td>\n",
       "      <td>413.68</td>\n",
       "    </tr>\n",
       "    <tr>\n",
       "      <th>max</th>\n",
       "      <td>10440107.00</td>\n",
       "      <td>2018-12-31 00:00:00</td>\n",
       "      <td>48.00</td>\n",
       "      <td>2048.03</td>\n",
       "      <td>691.20</td>\n",
       "    </tr>\n",
       "    <tr>\n",
       "      <th>std</th>\n",
       "      <td>126805.80</td>\n",
       "      <td>NaN</td>\n",
       "      <td>12.23</td>\n",
       "      <td>274.38</td>\n",
       "      <td>157.99</td>\n",
       "    </tr>\n",
       "  </tbody>\n",
       "</table>\n",
       "</div>"
      ],
      "text/plain": [
       "       Transaction ID                 Date of Travel  KM Travelled  \\\n",
       "count       359392.00                         359392     359392.00   \n",
       "mean      10220761.19  2017-08-17 01:37:55.042294016         22.57   \n",
       "min       10000011.00            2016-01-02 00:00:00          1.90   \n",
       "25%       10110809.75            2016-11-23 00:00:00         12.00   \n",
       "50%       10221035.50            2017-09-10 00:00:00         22.44   \n",
       "75%       10330937.25            2018-05-12 00:00:00         32.96   \n",
       "max       10440107.00            2018-12-31 00:00:00         48.00   \n",
       "std         126805.80                            NaN         12.23   \n",
       "\n",
       "       Price Charged  Cost of Trip  \n",
       "count      359392.00     359392.00  \n",
       "mean          423.44        286.19  \n",
       "min            15.60         19.00  \n",
       "25%           206.44        151.20  \n",
       "50%           386.36        282.48  \n",
       "75%           583.66        413.68  \n",
       "max          2048.03        691.20  \n",
       "std           274.38        157.99  "
      ]
     },
     "execution_count": 44,
     "metadata": {},
     "output_type": "execute_result"
    }
   ],
   "source": [
    "round(cab.describe(datetime_is_numeric= True), 2)"
   ]
  },
  {
   "cell_type": "markdown",
   "id": "49f272e3",
   "metadata": {},
   "source": [
    "### 3.2 City dataset"
   ]
  },
  {
   "cell_type": "code",
   "execution_count": 27,
   "id": "0f829d6e",
   "metadata": {},
   "outputs": [
    {
     "name": "stdout",
     "output_type": "stream",
     "text": [
      "Shape of the City datasets: (20, 3)\n",
      "Data types of the city datasets:\n",
      "City          object\n",
      "Population    object\n",
      "Users         object\n",
      "dtype: object\n"
     ]
    }
   ],
   "source": [
    "print(f\"Shape of the City datasets: {city.shape}\")\n",
    "print(f\"Data types of the city datasets:\\n{city.dtypes}\")"
   ]
  },
  {
   "cell_type": "markdown",
   "id": "0616d30f",
   "metadata": {},
   "source": [
    "The data type of Population and Users isn't correct and the ',' between the number could be removed"
   ]
  },
  {
   "cell_type": "code",
   "execution_count": 28,
   "id": "f5144b4e",
   "metadata": {},
   "outputs": [
    {
     "data": {
      "text/plain": [
       "City           object\n",
       "Population    float64\n",
       "Users         float64\n",
       "dtype: object"
      ]
     },
     "execution_count": 28,
     "metadata": {},
     "output_type": "execute_result"
    }
   ],
   "source": [
    "city['Population'] = [x.replace(',', '') for x in city['Population']]\n",
    "city['Users'] = [x.replace(',','') for x in city['Users']]\n",
    "city['Population'] = city['Population'].astype(float)\n",
    "city['Users'] = city['Users'].astype(float)\n",
    "city.dtypes"
   ]
  },
  {
   "cell_type": "code",
   "execution_count": 29,
   "id": "98ee9da2",
   "metadata": {},
   "outputs": [
    {
     "data": {
      "text/html": [
       "<div>\n",
       "<style scoped>\n",
       "    .dataframe tbody tr th:only-of-type {\n",
       "        vertical-align: middle;\n",
       "    }\n",
       "\n",
       "    .dataframe tbody tr th {\n",
       "        vertical-align: top;\n",
       "    }\n",
       "\n",
       "    .dataframe thead th {\n",
       "        text-align: right;\n",
       "    }\n",
       "</style>\n",
       "<table border=\"1\" class=\"dataframe\">\n",
       "  <thead>\n",
       "    <tr style=\"text-align: right;\">\n",
       "      <th></th>\n",
       "      <th>City</th>\n",
       "      <th>Population</th>\n",
       "      <th>Users</th>\n",
       "    </tr>\n",
       "  </thead>\n",
       "  <tbody>\n",
       "    <tr>\n",
       "      <th>0</th>\n",
       "      <td>NEW YORK NY</td>\n",
       "      <td>8405837.0</td>\n",
       "      <td>302149.0</td>\n",
       "    </tr>\n",
       "    <tr>\n",
       "      <th>1</th>\n",
       "      <td>CHICAGO IL</td>\n",
       "      <td>1955130.0</td>\n",
       "      <td>164468.0</td>\n",
       "    </tr>\n",
       "    <tr>\n",
       "      <th>2</th>\n",
       "      <td>LOS ANGELES CA</td>\n",
       "      <td>1595037.0</td>\n",
       "      <td>144132.0</td>\n",
       "    </tr>\n",
       "    <tr>\n",
       "      <th>3</th>\n",
       "      <td>MIAMI FL</td>\n",
       "      <td>1339155.0</td>\n",
       "      <td>17675.0</td>\n",
       "    </tr>\n",
       "    <tr>\n",
       "      <th>4</th>\n",
       "      <td>SILICON VALLEY</td>\n",
       "      <td>1177609.0</td>\n",
       "      <td>27247.0</td>\n",
       "    </tr>\n",
       "    <tr>\n",
       "      <th>5</th>\n",
       "      <td>ORANGE COUNTY</td>\n",
       "      <td>1030185.0</td>\n",
       "      <td>12994.0</td>\n",
       "    </tr>\n",
       "    <tr>\n",
       "      <th>6</th>\n",
       "      <td>SAN DIEGO CA</td>\n",
       "      <td>959307.0</td>\n",
       "      <td>69995.0</td>\n",
       "    </tr>\n",
       "    <tr>\n",
       "      <th>7</th>\n",
       "      <td>PHOENIX AZ</td>\n",
       "      <td>943999.0</td>\n",
       "      <td>6133.0</td>\n",
       "    </tr>\n",
       "    <tr>\n",
       "      <th>8</th>\n",
       "      <td>DALLAS TX</td>\n",
       "      <td>942908.0</td>\n",
       "      <td>22157.0</td>\n",
       "    </tr>\n",
       "    <tr>\n",
       "      <th>9</th>\n",
       "      <td>ATLANTA GA</td>\n",
       "      <td>814885.0</td>\n",
       "      <td>24701.0</td>\n",
       "    </tr>\n",
       "    <tr>\n",
       "      <th>10</th>\n",
       "      <td>DENVER CO</td>\n",
       "      <td>754233.0</td>\n",
       "      <td>12421.0</td>\n",
       "    </tr>\n",
       "    <tr>\n",
       "      <th>11</th>\n",
       "      <td>AUSTIN TX</td>\n",
       "      <td>698371.0</td>\n",
       "      <td>14978.0</td>\n",
       "    </tr>\n",
       "    <tr>\n",
       "      <th>12</th>\n",
       "      <td>SEATTLE WA</td>\n",
       "      <td>671238.0</td>\n",
       "      <td>25063.0</td>\n",
       "    </tr>\n",
       "    <tr>\n",
       "      <th>13</th>\n",
       "      <td>TUCSON AZ</td>\n",
       "      <td>631442.0</td>\n",
       "      <td>5712.0</td>\n",
       "    </tr>\n",
       "    <tr>\n",
       "      <th>14</th>\n",
       "      <td>SAN FRANCISCO CA</td>\n",
       "      <td>629591.0</td>\n",
       "      <td>213609.0</td>\n",
       "    </tr>\n",
       "    <tr>\n",
       "      <th>15</th>\n",
       "      <td>SACRAMENTO CA</td>\n",
       "      <td>545776.0</td>\n",
       "      <td>7044.0</td>\n",
       "    </tr>\n",
       "    <tr>\n",
       "      <th>16</th>\n",
       "      <td>PITTSBURGH PA</td>\n",
       "      <td>542085.0</td>\n",
       "      <td>3643.0</td>\n",
       "    </tr>\n",
       "    <tr>\n",
       "      <th>17</th>\n",
       "      <td>WASHINGTON DC</td>\n",
       "      <td>418859.0</td>\n",
       "      <td>127001.0</td>\n",
       "    </tr>\n",
       "    <tr>\n",
       "      <th>18</th>\n",
       "      <td>NASHVILLE TN</td>\n",
       "      <td>327225.0</td>\n",
       "      <td>9270.0</td>\n",
       "    </tr>\n",
       "    <tr>\n",
       "      <th>19</th>\n",
       "      <td>BOSTON MA</td>\n",
       "      <td>248968.0</td>\n",
       "      <td>80021.0</td>\n",
       "    </tr>\n",
       "  </tbody>\n",
       "</table>\n",
       "</div>"
      ],
      "text/plain": [
       "                City  Population     Users\n",
       "0        NEW YORK NY   8405837.0  302149.0\n",
       "1         CHICAGO IL   1955130.0  164468.0\n",
       "2     LOS ANGELES CA   1595037.0  144132.0\n",
       "3           MIAMI FL   1339155.0   17675.0\n",
       "4     SILICON VALLEY   1177609.0   27247.0\n",
       "5      ORANGE COUNTY   1030185.0   12994.0\n",
       "6       SAN DIEGO CA    959307.0   69995.0\n",
       "7         PHOENIX AZ    943999.0    6133.0\n",
       "8          DALLAS TX    942908.0   22157.0\n",
       "9         ATLANTA GA    814885.0   24701.0\n",
       "10         DENVER CO    754233.0   12421.0\n",
       "11         AUSTIN TX    698371.0   14978.0\n",
       "12        SEATTLE WA    671238.0   25063.0\n",
       "13         TUCSON AZ    631442.0    5712.0\n",
       "14  SAN FRANCISCO CA    629591.0  213609.0\n",
       "15     SACRAMENTO CA    545776.0    7044.0\n",
       "16     PITTSBURGH PA    542085.0    3643.0\n",
       "17     WASHINGTON DC    418859.0  127001.0\n",
       "18      NASHVILLE TN    327225.0    9270.0\n",
       "19         BOSTON MA    248968.0   80021.0"
      ]
     },
     "execution_count": 29,
     "metadata": {},
     "output_type": "execute_result"
    }
   ],
   "source": [
    "city.head(20)"
   ]
  },
  {
   "cell_type": "markdown",
   "id": "61fb74e4",
   "metadata": {},
   "source": [
    "### 3.3 Customer dataset"
   ]
  },
  {
   "cell_type": "code",
   "execution_count": 30,
   "id": "23ad07ac",
   "metadata": {},
   "outputs": [
    {
     "name": "stdout",
     "output_type": "stream",
     "text": [
      "Shape of the customer dataset: (49171, 4)\n",
      "Data type of the dataset\n",
      "Customer ID            int64\n",
      "Gender                object\n",
      "Age                    int64\n",
      "Income (USD/Month)     int64\n",
      "dtype: object\n"
     ]
    }
   ],
   "source": [
    "print(f\"Shape of the customer dataset: {customer.shape}\")\n",
    "print(f\"Data type of the dataset\\n{customer.dtypes}\")\n"
   ]
  },
  {
   "cell_type": "code",
   "execution_count": 31,
   "id": "280d1bd9",
   "metadata": {},
   "outputs": [
    {
     "data": {
      "text/html": [
       "<div>\n",
       "<style scoped>\n",
       "    .dataframe tbody tr th:only-of-type {\n",
       "        vertical-align: middle;\n",
       "    }\n",
       "\n",
       "    .dataframe tbody tr th {\n",
       "        vertical-align: top;\n",
       "    }\n",
       "\n",
       "    .dataframe thead th {\n",
       "        text-align: right;\n",
       "    }\n",
       "</style>\n",
       "<table border=\"1\" class=\"dataframe\">\n",
       "  <thead>\n",
       "    <tr style=\"text-align: right;\">\n",
       "      <th></th>\n",
       "      <th>Customer ID</th>\n",
       "      <th>Gender</th>\n",
       "      <th>Age</th>\n",
       "      <th>Income (USD/Month)</th>\n",
       "    </tr>\n",
       "  </thead>\n",
       "  <tbody>\n",
       "    <tr>\n",
       "      <th>0</th>\n",
       "      <td>29290</td>\n",
       "      <td>Male</td>\n",
       "      <td>28</td>\n",
       "      <td>10813</td>\n",
       "    </tr>\n",
       "    <tr>\n",
       "      <th>1</th>\n",
       "      <td>27703</td>\n",
       "      <td>Male</td>\n",
       "      <td>27</td>\n",
       "      <td>9237</td>\n",
       "    </tr>\n",
       "    <tr>\n",
       "      <th>2</th>\n",
       "      <td>28712</td>\n",
       "      <td>Male</td>\n",
       "      <td>53</td>\n",
       "      <td>11242</td>\n",
       "    </tr>\n",
       "    <tr>\n",
       "      <th>3</th>\n",
       "      <td>28020</td>\n",
       "      <td>Male</td>\n",
       "      <td>23</td>\n",
       "      <td>23327</td>\n",
       "    </tr>\n",
       "    <tr>\n",
       "      <th>4</th>\n",
       "      <td>27182</td>\n",
       "      <td>Male</td>\n",
       "      <td>33</td>\n",
       "      <td>8536</td>\n",
       "    </tr>\n",
       "  </tbody>\n",
       "</table>\n",
       "</div>"
      ],
      "text/plain": [
       "   Customer ID Gender  Age  Income (USD/Month)\n",
       "0        29290   Male   28               10813\n",
       "1        27703   Male   27                9237\n",
       "2        28712   Male   53               11242\n",
       "3        28020   Male   23               23327\n",
       "4        27182   Male   33                8536"
      ]
     },
     "execution_count": 31,
     "metadata": {},
     "output_type": "execute_result"
    }
   ],
   "source": [
    "customer.head()"
   ]
  },
  {
   "cell_type": "markdown",
   "id": "7147ddb6",
   "metadata": {},
   "source": [
    "The data types in customer id dataset are correct"
   ]
  },
  {
   "cell_type": "markdown",
   "id": "97600855",
   "metadata": {},
   "source": [
    "### 3.4 Transaction id dataset"
   ]
  },
  {
   "cell_type": "code",
   "execution_count": 32,
   "id": "dd33537b",
   "metadata": {},
   "outputs": [
    {
     "name": "stdout",
     "output_type": "stream",
     "text": [
      "Shape of the transaction id dataset: (440098, 3)\n",
      "Data type of the transaction id dataset:\n",
      "Transaction ID     int64\n",
      "Customer ID        int64\n",
      "Payment_Mode      object\n",
      "dtype: object\n"
     ]
    }
   ],
   "source": [
    "print(f\"Shape of the transaction id dataset: {transaction.shape}\")\n",
    "print(f\"Data type of the transaction id dataset:\\n{transaction.dtypes}\")"
   ]
  },
  {
   "cell_type": "markdown",
   "id": "cc57df77",
   "metadata": {},
   "source": [
    "The data type in transaction id dataset are correct."
   ]
  },
  {
   "cell_type": "markdown",
   "id": "20372ae9",
   "metadata": {},
   "source": [
    "### 3.5 Merge all the dataset to one dataset"
   ]
  },
  {
   "cell_type": "code",
   "execution_count": 33,
   "id": "29970931",
   "metadata": {},
   "outputs": [
    {
     "name": "stdout",
     "output_type": "stream",
     "text": [
      "Shape of the merged dataset: (359392, 14)\n",
      "Data Type of the merged dataset:\n",
      "Transaction ID                 int64\n",
      "Date of Travel        datetime64[ns]\n",
      "Company                       object\n",
      "City                          object\n",
      "KM Travelled                 float64\n",
      "Price Charged                float64\n",
      "Cost of Trip                 float64\n",
      "Customer ID                    int64\n",
      "Payment_Mode                  object\n",
      "Gender                        object\n",
      "Age                            int64\n",
      "Income (USD/Month)             int64\n",
      "Population                   float64\n",
      "Users                        float64\n",
      "dtype: object\n"
     ]
    }
   ],
   "source": [
    "df = cab.merge(transaction, on='Transaction ID').merge(customer, on='Customer ID').merge(city, on='City')\n",
    "print(f\"Shape of the merged dataset: {df.shape}\")\n",
    "print(f\"Data Type of the merged dataset:\\n{df.dtypes}\")"
   ]
  },
  {
   "cell_type": "markdown",
   "id": "4ae34478",
   "metadata": {},
   "source": [
    "Rename the columns"
   ]
  },
  {
   "cell_type": "code",
   "execution_count": 34,
   "id": "05d3a796",
   "metadata": {},
   "outputs": [],
   "source": [
    "df.columns = [col.replace(' ', '_') for col in df.columns]\n",
    "df = df.rename(columns = {'Income_(USD/Month)': 'Income'})"
   ]
  },
  {
   "cell_type": "code",
   "execution_count": 35,
   "id": "59c3a6f8",
   "metadata": {
    "scrolled": true
   },
   "outputs": [
    {
     "data": {
      "text/html": [
       "<div>\n",
       "<style scoped>\n",
       "    .dataframe tbody tr th:only-of-type {\n",
       "        vertical-align: middle;\n",
       "    }\n",
       "\n",
       "    .dataframe tbody tr th {\n",
       "        vertical-align: top;\n",
       "    }\n",
       "\n",
       "    .dataframe thead th {\n",
       "        text-align: right;\n",
       "    }\n",
       "</style>\n",
       "<table border=\"1\" class=\"dataframe\">\n",
       "  <thead>\n",
       "    <tr style=\"text-align: right;\">\n",
       "      <th></th>\n",
       "      <th>Transaction_ID</th>\n",
       "      <th>Date_of_Travel</th>\n",
       "      <th>Company</th>\n",
       "      <th>City</th>\n",
       "      <th>KM_Travelled</th>\n",
       "      <th>Price_Charged</th>\n",
       "      <th>Cost_of_Trip</th>\n",
       "      <th>Customer_ID</th>\n",
       "      <th>Payment_Mode</th>\n",
       "      <th>Gender</th>\n",
       "      <th>Age</th>\n",
       "      <th>Income</th>\n",
       "      <th>Population</th>\n",
       "      <th>Users</th>\n",
       "    </tr>\n",
       "  </thead>\n",
       "  <tbody>\n",
       "    <tr>\n",
       "      <th>0</th>\n",
       "      <td>10001340</td>\n",
       "      <td>2016-01-02</td>\n",
       "      <td>Yellow Cab</td>\n",
       "      <td>WASHINGTON DC</td>\n",
       "      <td>10.20</td>\n",
       "      <td>202.54</td>\n",
       "      <td>135.8640</td>\n",
       "      <td>52536</td>\n",
       "      <td>Card</td>\n",
       "      <td>Male</td>\n",
       "      <td>24</td>\n",
       "      <td>10606</td>\n",
       "      <td>418859.0</td>\n",
       "      <td>127001.0</td>\n",
       "    </tr>\n",
       "    <tr>\n",
       "      <th>1</th>\n",
       "      <td>10020018</td>\n",
       "      <td>2016-03-26</td>\n",
       "      <td>Yellow Cab</td>\n",
       "      <td>WASHINGTON DC</td>\n",
       "      <td>5.94</td>\n",
       "      <td>88.50</td>\n",
       "      <td>74.1312</td>\n",
       "      <td>52536</td>\n",
       "      <td>Cash</td>\n",
       "      <td>Male</td>\n",
       "      <td>24</td>\n",
       "      <td>10606</td>\n",
       "      <td>418859.0</td>\n",
       "      <td>127001.0</td>\n",
       "    </tr>\n",
       "    <tr>\n",
       "      <th>2</th>\n",
       "      <td>10102932</td>\n",
       "      <td>2016-11-09</td>\n",
       "      <td>Pink Cab</td>\n",
       "      <td>WASHINGTON DC</td>\n",
       "      <td>15.21</td>\n",
       "      <td>179.33</td>\n",
       "      <td>153.6210</td>\n",
       "      <td>52536</td>\n",
       "      <td>Cash</td>\n",
       "      <td>Male</td>\n",
       "      <td>24</td>\n",
       "      <td>10606</td>\n",
       "      <td>418859.0</td>\n",
       "      <td>127001.0</td>\n",
       "    </tr>\n",
       "    <tr>\n",
       "      <th>3</th>\n",
       "      <td>10164725</td>\n",
       "      <td>2017-04-17</td>\n",
       "      <td>Yellow Cab</td>\n",
       "      <td>WASHINGTON DC</td>\n",
       "      <td>8.08</td>\n",
       "      <td>123.21</td>\n",
       "      <td>104.7168</td>\n",
       "      <td>52536</td>\n",
       "      <td>Card</td>\n",
       "      <td>Male</td>\n",
       "      <td>24</td>\n",
       "      <td>10606</td>\n",
       "      <td>418859.0</td>\n",
       "      <td>127001.0</td>\n",
       "    </tr>\n",
       "    <tr>\n",
       "      <th>4</th>\n",
       "      <td>10188478</td>\n",
       "      <td>2017-06-24</td>\n",
       "      <td>Yellow Cab</td>\n",
       "      <td>WASHINGTON DC</td>\n",
       "      <td>13.80</td>\n",
       "      <td>283.74</td>\n",
       "      <td>168.9120</td>\n",
       "      <td>52536</td>\n",
       "      <td>Cash</td>\n",
       "      <td>Male</td>\n",
       "      <td>24</td>\n",
       "      <td>10606</td>\n",
       "      <td>418859.0</td>\n",
       "      <td>127001.0</td>\n",
       "    </tr>\n",
       "  </tbody>\n",
       "</table>\n",
       "</div>"
      ],
      "text/plain": [
       "   Transaction_ID Date_of_Travel     Company           City  KM_Travelled  \\\n",
       "0        10001340     2016-01-02  Yellow Cab  WASHINGTON DC         10.20   \n",
       "1        10020018     2016-03-26  Yellow Cab  WASHINGTON DC          5.94   \n",
       "2        10102932     2016-11-09    Pink Cab  WASHINGTON DC         15.21   \n",
       "3        10164725     2017-04-17  Yellow Cab  WASHINGTON DC          8.08   \n",
       "4        10188478     2017-06-24  Yellow Cab  WASHINGTON DC         13.80   \n",
       "\n",
       "   Price_Charged  Cost_of_Trip  Customer_ID Payment_Mode Gender  Age  Income  \\\n",
       "0         202.54      135.8640        52536         Card   Male   24   10606   \n",
       "1          88.50       74.1312        52536         Cash   Male   24   10606   \n",
       "2         179.33      153.6210        52536         Cash   Male   24   10606   \n",
       "3         123.21      104.7168        52536         Card   Male   24   10606   \n",
       "4         283.74      168.9120        52536         Cash   Male   24   10606   \n",
       "\n",
       "   Population     Users  \n",
       "0    418859.0  127001.0  \n",
       "1    418859.0  127001.0  \n",
       "2    418859.0  127001.0  \n",
       "3    418859.0  127001.0  \n",
       "4    418859.0  127001.0  "
      ]
     },
     "execution_count": 35,
     "metadata": {},
     "output_type": "execute_result"
    }
   ],
   "source": [
    "df.head()"
   ]
  },
  {
   "cell_type": "markdown",
   "id": "cba36186",
   "metadata": {},
   "source": [
    "### 3.6 Check Missing Values"
   ]
  },
  {
   "cell_type": "code",
   "execution_count": 65,
   "id": "7cd7d8b2",
   "metadata": {},
   "outputs": [
    {
     "data": {
      "text/plain": [
       "Transaction_ID    0\n",
       "Date_of_Travel    0\n",
       "Company           0\n",
       "City              0\n",
       "KM_Travelled      0\n",
       "Price_Charged     0\n",
       "Cost_of_Trip      0\n",
       "Customer_ID       0\n",
       "Payment_Mode      0\n",
       "Gender            0\n",
       "Age               0\n",
       "Income            0\n",
       "Population        0\n",
       "Users             0\n",
       "dtype: int64"
      ]
     },
     "execution_count": 65,
     "metadata": {},
     "output_type": "execute_result"
    }
   ],
   "source": [
    "df.apply(lambda x: sum(x.isnull()), axis=0)"
   ]
  },
  {
   "cell_type": "markdown",
   "id": "9cd9b21b",
   "metadata": {},
   "source": [
    "No missing value was found"
   ]
  },
  {
   "cell_type": "markdown",
   "id": "9fe56515",
   "metadata": {},
   "source": [
    "### 3.7 Check Duplicate rows"
   ]
  },
  {
   "cell_type": "code",
   "execution_count": 76,
   "id": "6c399dce",
   "metadata": {},
   "outputs": [
    {
     "name": "stdout",
     "output_type": "stream",
     "text": [
      "The number of duplicated rows 0\n"
     ]
    }
   ],
   "source": [
    "duplicated_rows = df[df.drop('Transaction_ID', axis=1).duplicated()]\n",
    "print('The number of duplicated rows', duplicated_rows.shape[0])"
   ]
  },
  {
   "cell_type": "markdown",
   "id": "d549f2aa",
   "metadata": {},
   "source": [
    "No duplicated row was found"
   ]
  },
  {
   "cell_type": "markdown",
   "id": "6b0e9803",
   "metadata": {},
   "source": [
    "### 3.8 Check Data Types"
   ]
  },
  {
   "cell_type": "code",
   "execution_count": 68,
   "id": "3bb4f91a",
   "metadata": {},
   "outputs": [
    {
     "name": "stdout",
     "output_type": "stream",
     "text": [
      "The data Types of the merged datasets:\n",
      "Transaction_ID             int64\n",
      "Date_of_Travel    datetime64[ns]\n",
      "Company                   object\n",
      "City                      object\n",
      "KM_Travelled             float64\n",
      "Price_Charged            float64\n",
      "Cost_of_Trip             float64\n",
      "Customer_ID                int64\n",
      "Payment_Mode              object\n",
      "Gender                    object\n",
      "Age                        int64\n",
      "Income                     int64\n",
      "Population               float64\n",
      "Users                    float64\n",
      "dtype: object\n"
     ]
    }
   ],
   "source": [
    "print(f\"The data Types of the merged datasets:\\n{df.dtypes}\")"
   ]
  },
  {
   "cell_type": "code",
   "execution_count": 73,
   "id": "86e23f5e",
   "metadata": {},
   "outputs": [],
   "source": [
    "df['Income'] = df['Income'].astype(float)\n",
    "df['Population'] = df['Population'].astype('int64')\n",
    "df['Users'] = df['Users'].astype('int64')"
   ]
  },
  {
   "cell_type": "code",
   "execution_count": 74,
   "id": "26050081",
   "metadata": {},
   "outputs": [
    {
     "name": "stdout",
     "output_type": "stream",
     "text": [
      "The data Types of the merged datasets:\n",
      "Transaction_ID             int64\n",
      "Date_of_Travel    datetime64[ns]\n",
      "Company                   object\n",
      "City                      object\n",
      "KM_Travelled             float64\n",
      "Price_Charged            float64\n",
      "Cost_of_Trip             float64\n",
      "Customer_ID                int64\n",
      "Payment_Mode              object\n",
      "Gender                    object\n",
      "Age                        int64\n",
      "Income                   float64\n",
      "Population                 int64\n",
      "Users                      int64\n",
      "dtype: object\n"
     ]
    }
   ],
   "source": [
    "print(f\"The data Types of the merged datasets:\\n{df.dtypes}\")"
   ]
  },
  {
   "cell_type": "markdown",
   "id": "0033022c",
   "metadata": {},
   "source": [
    "## 4.  Exploratory Data Analysis"
   ]
  },
  {
   "cell_type": "markdown",
   "id": "0c6f91f6",
   "metadata": {},
   "source": [
    "### 4.1 Descriptive Analysis"
   ]
  },
  {
   "cell_type": "code",
   "execution_count": 43,
   "id": "12ac4cc1",
   "metadata": {},
   "outputs": [
    {
     "data": {
      "text/html": [
       "<div>\n",
       "<style scoped>\n",
       "    .dataframe tbody tr th:only-of-type {\n",
       "        vertical-align: middle;\n",
       "    }\n",
       "\n",
       "    .dataframe tbody tr th {\n",
       "        vertical-align: top;\n",
       "    }\n",
       "\n",
       "    .dataframe thead th {\n",
       "        text-align: right;\n",
       "    }\n",
       "</style>\n",
       "<table border=\"1\" class=\"dataframe\">\n",
       "  <thead>\n",
       "    <tr style=\"text-align: right;\">\n",
       "      <th></th>\n",
       "      <th>Transaction_ID</th>\n",
       "      <th>Date_of_Travel</th>\n",
       "      <th>KM_Travelled</th>\n",
       "      <th>Price_Charged</th>\n",
       "      <th>Cost_of_Trip</th>\n",
       "      <th>Customer_ID</th>\n",
       "      <th>Age</th>\n",
       "      <th>Income</th>\n",
       "      <th>Population</th>\n",
       "      <th>Users</th>\n",
       "    </tr>\n",
       "  </thead>\n",
       "  <tbody>\n",
       "    <tr>\n",
       "      <th>count</th>\n",
       "      <td>359392.00</td>\n",
       "      <td>359392</td>\n",
       "      <td>359392.00</td>\n",
       "      <td>359392.00</td>\n",
       "      <td>359392.00</td>\n",
       "      <td>359392.00</td>\n",
       "      <td>359392.00</td>\n",
       "      <td>359392.00</td>\n",
       "      <td>359392.00</td>\n",
       "      <td>359392.00</td>\n",
       "    </tr>\n",
       "    <tr>\n",
       "      <th>mean</th>\n",
       "      <td>10220761.19</td>\n",
       "      <td>2017-08-17 01:37:55.042293760</td>\n",
       "      <td>22.57</td>\n",
       "      <td>423.44</td>\n",
       "      <td>286.19</td>\n",
       "      <td>19191.65</td>\n",
       "      <td>35.34</td>\n",
       "      <td>15048.82</td>\n",
       "      <td>3132198.04</td>\n",
       "      <td>158365.58</td>\n",
       "    </tr>\n",
       "    <tr>\n",
       "      <th>min</th>\n",
       "      <td>10000011.00</td>\n",
       "      <td>2016-01-02 00:00:00</td>\n",
       "      <td>1.90</td>\n",
       "      <td>15.60</td>\n",
       "      <td>19.00</td>\n",
       "      <td>1.00</td>\n",
       "      <td>18.00</td>\n",
       "      <td>2000.00</td>\n",
       "      <td>248968.00</td>\n",
       "      <td>3643.00</td>\n",
       "    </tr>\n",
       "    <tr>\n",
       "      <th>25%</th>\n",
       "      <td>10110809.75</td>\n",
       "      <td>2016-11-23 00:00:00</td>\n",
       "      <td>12.00</td>\n",
       "      <td>206.44</td>\n",
       "      <td>151.20</td>\n",
       "      <td>2705.00</td>\n",
       "      <td>25.00</td>\n",
       "      <td>8424.00</td>\n",
       "      <td>671238.00</td>\n",
       "      <td>80021.00</td>\n",
       "    </tr>\n",
       "    <tr>\n",
       "      <th>50%</th>\n",
       "      <td>10221035.50</td>\n",
       "      <td>2017-09-10 00:00:00</td>\n",
       "      <td>22.44</td>\n",
       "      <td>386.36</td>\n",
       "      <td>282.48</td>\n",
       "      <td>7459.00</td>\n",
       "      <td>33.00</td>\n",
       "      <td>14685.00</td>\n",
       "      <td>1595037.00</td>\n",
       "      <td>144132.00</td>\n",
       "    </tr>\n",
       "    <tr>\n",
       "      <th>75%</th>\n",
       "      <td>10330937.25</td>\n",
       "      <td>2018-05-12 00:00:00</td>\n",
       "      <td>32.96</td>\n",
       "      <td>583.66</td>\n",
       "      <td>413.68</td>\n",
       "      <td>36078.00</td>\n",
       "      <td>42.00</td>\n",
       "      <td>21035.00</td>\n",
       "      <td>8405837.00</td>\n",
       "      <td>302149.00</td>\n",
       "    </tr>\n",
       "    <tr>\n",
       "      <th>max</th>\n",
       "      <td>10440107.00</td>\n",
       "      <td>2018-12-31 00:00:00</td>\n",
       "      <td>48.00</td>\n",
       "      <td>2048.03</td>\n",
       "      <td>691.20</td>\n",
       "      <td>60000.00</td>\n",
       "      <td>65.00</td>\n",
       "      <td>35000.00</td>\n",
       "      <td>8405837.00</td>\n",
       "      <td>302149.00</td>\n",
       "    </tr>\n",
       "    <tr>\n",
       "      <th>std</th>\n",
       "      <td>126805.80</td>\n",
       "      <td>NaN</td>\n",
       "      <td>12.23</td>\n",
       "      <td>274.38</td>\n",
       "      <td>157.99</td>\n",
       "      <td>21012.41</td>\n",
       "      <td>12.59</td>\n",
       "      <td>7969.41</td>\n",
       "      <td>3315194.39</td>\n",
       "      <td>100850.05</td>\n",
       "    </tr>\n",
       "  </tbody>\n",
       "</table>\n",
       "</div>"
      ],
      "text/plain": [
       "       Transaction_ID                 Date_of_Travel  KM_Travelled  \\\n",
       "count       359392.00                         359392     359392.00   \n",
       "mean      10220761.19  2017-08-17 01:37:55.042293760         22.57   \n",
       "min       10000011.00            2016-01-02 00:00:00          1.90   \n",
       "25%       10110809.75            2016-11-23 00:00:00         12.00   \n",
       "50%       10221035.50            2017-09-10 00:00:00         22.44   \n",
       "75%       10330937.25            2018-05-12 00:00:00         32.96   \n",
       "max       10440107.00            2018-12-31 00:00:00         48.00   \n",
       "std         126805.80                            NaN         12.23   \n",
       "\n",
       "       Price_Charged  Cost_of_Trip  Customer_ID        Age     Income  \\\n",
       "count      359392.00     359392.00    359392.00  359392.00  359392.00   \n",
       "mean          423.44        286.19     19191.65      35.34   15048.82   \n",
       "min            15.60         19.00         1.00      18.00    2000.00   \n",
       "25%           206.44        151.20      2705.00      25.00    8424.00   \n",
       "50%           386.36        282.48      7459.00      33.00   14685.00   \n",
       "75%           583.66        413.68     36078.00      42.00   21035.00   \n",
       "max          2048.03        691.20     60000.00      65.00   35000.00   \n",
       "std           274.38        157.99     21012.41      12.59    7969.41   \n",
       "\n",
       "       Population      Users  \n",
       "count   359392.00  359392.00  \n",
       "mean   3132198.04  158365.58  \n",
       "min     248968.00    3643.00  \n",
       "25%     671238.00   80021.00  \n",
       "50%    1595037.00  144132.00  \n",
       "75%    8405837.00  302149.00  \n",
       "max    8405837.00  302149.00  \n",
       "std    3315194.39  100850.05  "
      ]
     },
     "execution_count": 43,
     "metadata": {},
     "output_type": "execute_result"
    }
   ],
   "source": [
    "round(df.describe(datetime_is_numeric=True),2)"
   ]
  },
  {
   "cell_type": "markdown",
   "id": "e2e346d2",
   "metadata": {},
   "source": [
    "### 4.2 Features Analysis"
   ]
  },
  {
   "cell_type": "markdown",
   "id": "e57c9b93",
   "metadata": {},
   "source": [
    "Use histogram to visualise the data with more than 2 options and countplot for 2 options"
   ]
  },
  {
   "cell_type": "code",
   "execution_count": 75,
   "id": "4fb8cea9",
   "metadata": {},
   "outputs": [
    {
     "data": {
      "text/plain": [
       "Transaction_ID    359392\n",
       "Date_of_Travel      1095\n",
       "Company                2\n",
       "City                  19\n",
       "KM_Travelled         874\n",
       "Price_Charged      99176\n",
       "Cost_of_Trip       16291\n",
       "Customer_ID        46148\n",
       "Payment_Mode           2\n",
       "Gender                 2\n",
       "Age                   48\n",
       "Income             22725\n",
       "Population            19\n",
       "Users                 19\n",
       "dtype: int64"
      ]
     },
     "execution_count": 75,
     "metadata": {},
     "output_type": "execute_result"
    }
   ],
   "source": [
    "df.nunique()"
   ]
  },
  {
   "cell_type": "markdown",
   "id": "6e3bb49a",
   "metadata": {},
   "source": [
    "#### 4.2.1 Date of Travel"
   ]
  },
  {
   "cell_type": "code",
   "execution_count": 81,
   "id": "05fc41d7",
   "metadata": {},
   "outputs": [
    {
     "data": {
      "text/plain": [
       "Text(0.5, 0, 'Date of Travel')"
      ]
     },
     "execution_count": 81,
     "metadata": {},
     "output_type": "execute_result"
    },
    {
     "data": {
      "image/png": "[encoded data removed]",
      "text/plain": [
       "<Figure size 1200x700 with 1 Axes>"
      ]
     },
     "metadata": {},
     "output_type": "display_data"
    }
   ],
   "source": [
    "plt.figure(figsize=(12, 7))\n",
    "ax = sns.histplot(data= df, x=\"Date_of_Travel\", bins= 60, color = 'b')\n",
    "plt.title(\"Traveling date Distribution\")\n",
    "plt.ylabel('Frequency')\n",
    "plt.xlabel('Date of Travel')"
   ]
  },
  {
   "cell_type": "markdown",
   "id": "7daba5d8",
   "metadata": {},
   "source": [
    "#### 4.2.2 KM Travelled"
   ]
  },
  {
   "cell_type": "code",
   "execution_count": 48,
   "id": "6a5ed3d5",
   "metadata": {},
   "outputs": [
    {
     "data": {
      "text/plain": [
       "Text(0.5, 0, 'KM Travelled')"
      ]
     },
     "execution_count": 48,
     "metadata": {},
     "output_type": "execute_result"
    },
    {
     "data": {
      "image/png": "[encoded data removed]",
      "text/plain": [
       "<Figure size 1200x700 with 1 Axes>"
      ]
     },
     "metadata": {},
     "output_type": "display_data"
    }
   ],
   "source": [
    "plt.figure(figsize=(12, 7))\n",
    "ax = sns.histplot(data= df, x=\"KM_Travelled\", bins= 60, color = 'yellow')\n",
    "plt.title(\"KM Travelled Distribution\")\n",
    "plt.ylabel('Frequency')\n",
    "plt.xlabel('KM Travelled')"
   ]
  },
  {
   "cell_type": "markdown",
   "id": "72c10c20",
   "metadata": {},
   "source": [
    "#### 4.2.3 Charged price"
   ]
  },
  {
   "cell_type": "code",
   "execution_count": 47,
   "id": "bb682a26",
   "metadata": {},
   "outputs": [
    {
     "data": {
      "text/plain": [
       "Text(0, 0.5, 'Frequency')"
      ]
     },
     "execution_count": 47,
     "metadata": {},
     "output_type": "execute_result"
    },
    {
     "data": {
      "image/png": "[encoded data removed]",
      "text/plain": [
       "<Figure size 1200x700 with 1 Axes>"
      ]
     },
     "metadata": {},
     "output_type": "display_data"
    }
   ],
   "source": [
    "plt.figure(figsize=(12, 7))\n",
    "ax = sns.histplot(data = df, x = \"Price_Charged\", bins= 60)\n",
    "plt.title(\"Price charged distribution\")\n",
    "plt.xlabel('Price Charged')\n",
    "plt.ylabel('Frequency')"
   ]
  },
  {
   "cell_type": "markdown",
   "id": "7444a2bf",
   "metadata": {},
   "source": [
    "#### 4.2.4 Cost of the Trip"
   ]
  },
  {
   "cell_type": "code",
   "execution_count": 50,
   "id": "de4bae0b",
   "metadata": {},
   "outputs": [
    {
     "data": {
      "text/plain": [
       "Text(0, 0.5, 'Frequency')"
      ]
     },
     "execution_count": 50,
     "metadata": {},
     "output_type": "execute_result"
    },
    {
     "data": {
      "image/png": "[encoded data removed]",
      "text/plain": [
       "<Figure size 1200x700 with 1 Axes>"
      ]
     },
     "metadata": {},
     "output_type": "display_data"
    }
   ],
   "source": [
    "plt.figure(figsize = (12,7))\n",
    "ax = sns.histplot(data= df, x = \"Cost_of_Trip\", bins= 60, color = 'lime')\n",
    "plt.title(\"Cost of Trip Distribution\")\n",
    "plt.xlabel(\"Cost of Trip\")\n",
    "plt.ylabel(\"Frequency\")"
   ]
  },
  {
   "cell_type": "markdown",
   "id": "8754eeff",
   "metadata": {},
   "source": [
    "#### 4.2.5 Payment method"
   ]
  },
  {
   "cell_type": "code",
   "execution_count": 61,
   "id": "3b908f2d",
   "metadata": {},
   "outputs": [
    {
     "data": {
      "text/plain": [
       "Text(0.5, 0, 'Payment Mode')"
      ]
     },
     "execution_count": 61,
     "metadata": {},
     "output_type": "execute_result"
    },
    {
     "data": {
      "image/png": "[encoded data removed]",
      "text/plain": [
       "<Figure size 900x600 with 1 Axes>"
      ]
     },
     "metadata": {},
     "output_type": "display_data"
    }
   ],
   "source": [
    "plt.figure(figsize=(9,6))\n",
    "sns.countplot(data= df, x=\"Payment_Mode\")\n",
    "plt.title(\"Payment's countplot\", fontsize=18)\n",
    "plt.ylabel('Frequency')\n",
    "plt.xlabel('Payment Mode')"
   ]
  },
  {
   "cell_type": "markdown",
   "id": "a7525f15",
   "metadata": {},
   "source": [
    "#### 4.2.6 Gender"
   ]
  },
  {
   "cell_type": "code",
   "execution_count": 62,
   "id": "5ba19b31",
   "metadata": {},
   "outputs": [
    {
     "data": {
      "text/plain": [
       "Text(0, 0.5, 'Frequency')"
      ]
     },
     "execution_count": 62,
     "metadata": {},
     "output_type": "execute_result"
    },
    {
     "data": {
      "image/png": "[encoded data removed]",
      "text/plain": [
       "<Figure size 900x600 with 1 Axes>"
      ]
     },
     "metadata": {},
     "output_type": "display_data"
    }
   ],
   "source": [
    "plt.figure(figsize=(9, 6))\n",
    "sns.countplot(data = df, x= \"Gender\")\n",
    "plt.title(\"Gender's countplot\")\n",
    "plt.xlabel('Gender')\n",
    "plt.ylabel(\"Frequency\")"
   ]
  },
  {
   "cell_type": "markdown",
   "id": "bd627f8c",
   "metadata": {},
   "source": [
    "#### 4.2.7 Age"
   ]
  },
  {
   "cell_type": "code",
   "execution_count": 64,
   "id": "6e3327a2",
   "metadata": {},
   "outputs": [
    {
     "data": {
      "text/plain": [
       "Text(0, 0.5, 'Frequency')"
      ]
     },
     "execution_count": 64,
     "metadata": {},
     "output_type": "execute_result"
    },
    {
     "data": {
      "image/png": "[encoded data removed]",
      "text/plain": [
       "<Figure size 900x600 with 1 Axes>"
      ]
     },
     "metadata": {},
     "output_type": "display_data"
    }
   ],
   "source": [
    "plt.figure(figsize=(9,6))\n",
    "sns.histplot(data= df, x='Age', bins= 48, color = 'red')\n",
    "plt.title(\"Age's distribution\")\n",
    "plt.xlabel('Age')\n",
    "plt.ylabel(\"Frequency\")"
   ]
  },
  {
   "cell_type": "markdown",
   "id": "a628bfb3",
   "metadata": {},
   "source": [
    "### 4.3 Features relationship"
   ]
  },
  {
   "cell_type": "markdown",
   "id": "ec3f7a76",
   "metadata": {},
   "source": [
    "#### 4.3.1 Correlation"
   ]
  },
  {
   "cell_type": "code",
   "execution_count": 55,
   "id": "0128f6ed",
   "metadata": {},
   "outputs": [
    {
     "data": {
      "text/html": [
       "<div>\n",
       "<style scoped>\n",
       "    .dataframe tbody tr th:only-of-type {\n",
       "        vertical-align: middle;\n",
       "    }\n",
       "\n",
       "    .dataframe tbody tr th {\n",
       "        vertical-align: top;\n",
       "    }\n",
       "\n",
       "    .dataframe thead th {\n",
       "        text-align: right;\n",
       "    }\n",
       "</style>\n",
       "<table border=\"1\" class=\"dataframe\">\n",
       "  <thead>\n",
       "    <tr style=\"text-align: right;\">\n",
       "      <th></th>\n",
       "      <th>Transaction_ID</th>\n",
       "      <th>KM_Travelled</th>\n",
       "      <th>Price_Charged</th>\n",
       "      <th>Cost_of_Trip</th>\n",
       "      <th>Customer_ID</th>\n",
       "      <th>Age</th>\n",
       "      <th>Income</th>\n",
       "      <th>Population</th>\n",
       "      <th>Users</th>\n",
       "    </tr>\n",
       "  </thead>\n",
       "  <tbody>\n",
       "    <tr>\n",
       "      <th>Transaction_ID</th>\n",
       "      <td>1.000000</td>\n",
       "      <td>-0.001429</td>\n",
       "      <td>-0.052902</td>\n",
       "      <td>-0.003462</td>\n",
       "      <td>-0.016912</td>\n",
       "      <td>-0.001267</td>\n",
       "      <td>-0.001570</td>\n",
       "      <td>0.023868</td>\n",
       "      <td>0.013526</td>\n",
       "    </tr>\n",
       "    <tr>\n",
       "      <th>KM_Travelled</th>\n",
       "      <td>-0.001429</td>\n",
       "      <td>1.000000</td>\n",
       "      <td>0.835753</td>\n",
       "      <td>0.981848</td>\n",
       "      <td>0.000389</td>\n",
       "      <td>-0.000369</td>\n",
       "      <td>-0.000544</td>\n",
       "      <td>-0.002311</td>\n",
       "      <td>-0.000428</td>\n",
       "    </tr>\n",
       "    <tr>\n",
       "      <th>Price_Charged</th>\n",
       "      <td>-0.052902</td>\n",
       "      <td>0.835753</td>\n",
       "      <td>1.000000</td>\n",
       "      <td>0.859812</td>\n",
       "      <td>-0.177324</td>\n",
       "      <td>-0.003084</td>\n",
       "      <td>0.003228</td>\n",
       "      <td>0.326589</td>\n",
       "      <td>0.281061</td>\n",
       "    </tr>\n",
       "    <tr>\n",
       "      <th>Cost_of_Trip</th>\n",
       "      <td>-0.003462</td>\n",
       "      <td>0.981848</td>\n",
       "      <td>0.859812</td>\n",
       "      <td>1.000000</td>\n",
       "      <td>0.003077</td>\n",
       "      <td>-0.000189</td>\n",
       "      <td>-0.000633</td>\n",
       "      <td>0.015108</td>\n",
       "      <td>0.023628</td>\n",
       "    </tr>\n",
       "    <tr>\n",
       "      <th>Customer_ID</th>\n",
       "      <td>-0.016912</td>\n",
       "      <td>0.000389</td>\n",
       "      <td>-0.177324</td>\n",
       "      <td>0.003077</td>\n",
       "      <td>1.000000</td>\n",
       "      <td>-0.004735</td>\n",
       "      <td>-0.013608</td>\n",
       "      <td>-0.647052</td>\n",
       "      <td>-0.610742</td>\n",
       "    </tr>\n",
       "    <tr>\n",
       "      <th>Age</th>\n",
       "      <td>-0.001267</td>\n",
       "      <td>-0.000369</td>\n",
       "      <td>-0.003084</td>\n",
       "      <td>-0.000189</td>\n",
       "      <td>-0.004735</td>\n",
       "      <td>1.000000</td>\n",
       "      <td>0.003907</td>\n",
       "      <td>-0.009002</td>\n",
       "      <td>-0.005906</td>\n",
       "    </tr>\n",
       "    <tr>\n",
       "      <th>Income</th>\n",
       "      <td>-0.001570</td>\n",
       "      <td>-0.000544</td>\n",
       "      <td>0.003228</td>\n",
       "      <td>-0.000633</td>\n",
       "      <td>-0.013608</td>\n",
       "      <td>0.003907</td>\n",
       "      <td>1.000000</td>\n",
       "      <td>0.011868</td>\n",
       "      <td>0.010464</td>\n",
       "    </tr>\n",
       "    <tr>\n",
       "      <th>Population</th>\n",
       "      <td>0.023868</td>\n",
       "      <td>-0.002311</td>\n",
       "      <td>0.326589</td>\n",
       "      <td>0.015108</td>\n",
       "      <td>-0.647052</td>\n",
       "      <td>-0.009002</td>\n",
       "      <td>0.011868</td>\n",
       "      <td>1.000000</td>\n",
       "      <td>0.915490</td>\n",
       "    </tr>\n",
       "    <tr>\n",
       "      <th>Users</th>\n",
       "      <td>0.013526</td>\n",
       "      <td>-0.000428</td>\n",
       "      <td>0.281061</td>\n",
       "      <td>0.023628</td>\n",
       "      <td>-0.610742</td>\n",
       "      <td>-0.005906</td>\n",
       "      <td>0.010464</td>\n",
       "      <td>0.915490</td>\n",
       "      <td>1.000000</td>\n",
       "    </tr>\n",
       "  </tbody>\n",
       "</table>\n",
       "</div>"
      ],
      "text/plain": [
       "                Transaction_ID  KM_Travelled  Price_Charged  Cost_of_Trip  \\\n",
       "Transaction_ID        1.000000     -0.001429      -0.052902     -0.003462   \n",
       "KM_Travelled         -0.001429      1.000000       0.835753      0.981848   \n",
       "Price_Charged        -0.052902      0.835753       1.000000      0.859812   \n",
       "Cost_of_Trip         -0.003462      0.981848       0.859812      1.000000   \n",
       "Customer_ID          -0.016912      0.000389      -0.177324      0.003077   \n",
       "Age                  -0.001267     -0.000369      -0.003084     -0.000189   \n",
       "Income               -0.001570     -0.000544       0.003228     -0.000633   \n",
       "Population            0.023868     -0.002311       0.326589      0.015108   \n",
       "Users                 0.013526     -0.000428       0.281061      0.023628   \n",
       "\n",
       "                Customer_ID       Age    Income  Population     Users  \n",
       "Transaction_ID    -0.016912 -0.001267 -0.001570    0.023868  0.013526  \n",
       "KM_Travelled       0.000389 -0.000369 -0.000544   -0.002311 -0.000428  \n",
       "Price_Charged     -0.177324 -0.003084  0.003228    0.326589  0.281061  \n",
       "Cost_of_Trip       0.003077 -0.000189 -0.000633    0.015108  0.023628  \n",
       "Customer_ID        1.000000 -0.004735 -0.013608   -0.647052 -0.610742  \n",
       "Age               -0.004735  1.000000  0.003907   -0.009002 -0.005906  \n",
       "Income            -0.013608  0.003907  1.000000    0.011868  0.010464  \n",
       "Population        -0.647052 -0.009002  0.011868    1.000000  0.915490  \n",
       "Users             -0.610742 -0.005906  0.010464    0.915490  1.000000  "
      ]
     },
     "execution_count": 55,
     "metadata": {},
     "output_type": "execute_result"
    }
   ],
   "source": [
    "df_corr = df.corr()\n",
    "df_corr"
   ]
  },
  {
   "cell_type": "code",
   "execution_count": 84,
   "id": "2818ca67",
   "metadata": {},
   "outputs": [
    {
     "data": {
      "image/png": "[encoded data removed]",
      "text/plain": [
       "<Figure size 640x480 with 2 Axes>"
      ]
     },
     "metadata": {},
     "output_type": "display_data"
    }
   ],
   "source": [
    "sns.heatmap(round(df_corr, 2), annot=True)\n",
    "plt.show()"
   ]
  },
  {
   "cell_type": "markdown",
   "id": "8e052880",
   "metadata": {},
   "source": [
    "Population has linear relationship with the number of users.\n",
    "\n",
    "The distance travelled, `KM_Travelled`, has some relationship with the price charged, `Price_Charged`, which makes sense."
   ]
  },
  {
   "cell_type": "markdown",
   "id": "036cde27",
   "metadata": {},
   "source": [
    "#### 4.3.2 Check outliers"
   ]
  },
  {
   "cell_type": "markdown",
   "id": "381d41d1",
   "metadata": {},
   "source": [
    "From descriptive analysis, we saw that the `Price_Charged` and `Income` have rather high standard derivation. We use boxplot to illustrate if there were outliers in the both columns."
   ]
  },
  {
   "cell_type": "code",
   "execution_count": 85,
   "id": "cd1c7076",
   "metadata": {},
   "outputs": [
    {
     "data": {
      "image/png": "[encoded data removed]",
      "text/plain": [
       "<Figure size 1800x900 with 2 Axes>"
      ]
     },
     "metadata": {},
     "output_type": "display_data"
    }
   ],
   "source": [
    "plt.figure(figsize=(18,9))\n",
    "plt.subplot(1, 2, 1)\n",
    "sns.set(font_scale=1.3)\n",
    "sns.boxplot(data = df, y = \"Company\", x= \"Price_Charged\", dodge=False)\n",
    "\n",
    "plt.subplot(1, 2, 2)\n",
    "sns.set(font_scale=1.3)\n",
    "sns.boxplot(data= df, y= \"Gender\", x= \"Income\", dodge=False)\n",
    "\n",
    "plt.tight_layout()"
   ]
  },
  {
   "cell_type": "markdown",
   "id": "9aac3bab",
   "metadata": {},
   "source": [
    "Outliers are present in the `Price_Charged` feature. However, we do not have any information for the price charged. So, it was not treated as outliers."
   ]
  },
  {
   "cell_type": "code",
   "execution_count": null,
   "id": "67d55f57",
   "metadata": {},
   "outputs": [],
   "source": []
  }
 ],
 "metadata": {
  "kernelspec": {
   "display_name": "Python 3 (ipykernel)",
   "language": "python",
   "name": "python3"
  },
  "language_info": {
   "codemirror_mode": {
    "name": "ipython",
    "version": 3
   },
   "file_extension": ".py",
   "mimetype": "text/x-python",
   "name": "python",
   "nbconvert_exporter": "python",
   "pygments_lexer": "ipython3",
   "version": "3.10.11"
  }
 },
 "nbformat": 4,
 "nbformat_minor": 5
}
